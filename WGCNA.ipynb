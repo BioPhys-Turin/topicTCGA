{
 "cells": [
  {
   "cell_type": "code",
   "execution_count": 1,
   "metadata": {},
   "outputs": [
    {
     "data": {
      "text/html": [
       "'/home/jovyan/work/phd/cancers'"
      ],
      "text/latex": [
       "'/home/jovyan/work/phd/cancers'"
      ],
      "text/markdown": [
       "'/home/jovyan/work/phd/cancers'"
      ],
      "text/plain": [
       "[1] \"/home/jovyan/work/phd/cancers\""
      ]
     },
     "metadata": {},
     "output_type": "display_data"
    },
    {
     "name": "stderr",
     "output_type": "stream",
     "text": [
      "Loading required package: dynamicTreeCut\n",
      "\n",
      "Loading required package: fastcluster\n",
      "\n",
      "\n",
      "Attaching package: ‘fastcluster’\n",
      "\n",
      "\n",
      "The following object is masked from ‘package:stats’:\n",
      "\n",
      "    hclust\n",
      "\n",
      "\n",
      "\n",
      "\n",
      "\n",
      "Attaching package: ‘WGCNA’\n",
      "\n",
      "\n",
      "The following object is masked from ‘package:stats’:\n",
      "\n",
      "    cor\n",
      "\n",
      "\n"
     ]
    },
    {
     "name": "stdout",
     "output_type": "stream",
     "text": [
      "Allowing multi-threading with up to 2 threads.\n"
     ]
    }
   ],
   "source": [
    "# Display the current working directory\n",
    "getwd();\n",
    "# If necessary, change the path below to the directory where the data files are stored.\n",
    "# \".\" means current directory. On Windows use a forward slash / instead of the usual \\.\n",
    "workingDir = \"lung\";\n",
    "setwd(workingDir);\n",
    "# Load WGCNA package\n",
    "library(WGCNA)\n",
    "allowWGCNAThreads()\n",
    "# The following setting is important, do not omit.\n",
    "options(stringsAsFactors = FALSE);"
   ]
  },
  {
   "cell_type": "code",
   "execution_count": 2,
   "metadata": {},
   "outputs": [],
   "source": [
    "add_legend <- function(...) {\n",
    "  opar <- par(fig=c(0, 1, 0, 1), oma=c(0, 0, 0, 0), \n",
    "    mar=c(0, 0, 0, 0), new=TRUE)\n",
    "  on.exit(par(opar))\n",
    "  plot(0, 0, type='n', bty='n', xaxt='n', yaxt='n')\n",
    "  legend(...)\n",
    "}"
   ]
  },
  {
   "cell_type": "code",
   "execution_count": 3,
   "metadata": {},
   "outputs": [],
   "source": [
    "datExpr <- t(read.csv(\"mainTable.csv\", check.names=FALSE, row.names = \"0\"))\n",
    "genes <- dimnames(datExpr)[[2]]\n",
    "samples <- dimnames(datExpr)[[1]]\n",
    "datExpr <- as.data.frame(apply(datExpr,2, as.numeric)) #numeric\n",
    "dimnames(datExpr)[[1]] <- samples\n",
    "allTraits <- read.csv(\"files.dat\")"
   ]
  },
  {
   "cell_type": "code",
   "execution_count": 4,
   "metadata": {},
   "outputs": [
    {
     "data": {
      "text/html": [
       "<table>\n",
       "<caption>A data.frame: 5 × 5</caption>\n",
       "<thead>\n",
       "\t<tr><th></th><th scope=col>ENSG00000000938</th><th scope=col>ENSG00000001084</th><th scope=col>ENSG00000001631</th><th scope=col>ENSG00000002933</th><th scope=col>ENSG00000003147</th></tr>\n",
       "\t<tr><th></th><th scope=col>&lt;dbl&gt;</th><th scope=col>&lt;dbl&gt;</th><th scope=col>&lt;dbl&gt;</th><th scope=col>&lt;dbl&gt;</th><th scope=col>&lt;dbl&gt;</th></tr>\n",
       "</thead>\n",
       "<tbody>\n",
       "\t<tr><th scope=row>dc0ce32f-d5aa-489f-ba4b-e01443815121.FPKM.txt.gz</th><td> 4.24</td><td>11.76</td><td> 4.21</td><td>10.27</td><td> 8.74</td></tr>\n",
       "\t<tr><th scope=row>2b33014e-c7ff-41aa-82bf-3121756639ad.FPKM.txt.gz</th><td> 2.53</td><td>85.19</td><td>12.01</td><td> 4.88</td><td> 1.71</td></tr>\n",
       "\t<tr><th scope=row>397e302e-393e-4f54-b360-fcffe394271e.FPKM.txt.gz</th><td> 1.90</td><td>40.94</td><td> 2.98</td><td> 7.64</td><td>13.39</td></tr>\n",
       "\t<tr><th scope=row>037b5a94-487e-4f5b-90a3-d696eb4a8a3e.FPKM.txt.gz</th><td> 4.10</td><td> 0.96</td><td> 6.13</td><td>15.01</td><td> 5.76</td></tr>\n",
       "\t<tr><th scope=row>5e010a9a-7f65-434b-ae4c-43948461187c.FPKM.txt.gz</th><td>20.25</td><td> 3.06</td><td> 4.05</td><td>14.71</td><td> 3.18</td></tr>\n",
       "</tbody>\n",
       "</table>\n"
      ],
      "text/latex": [
       "A data.frame: 5 × 5\n",
       "\\begin{tabular}{r|lllll}\n",
       "  & ENSG00000000938 & ENSG00000001084 & ENSG00000001631 & ENSG00000002933 & ENSG00000003147\\\\\n",
       "  & <dbl> & <dbl> & <dbl> & <dbl> & <dbl>\\\\\n",
       "\\hline\n",
       "\tdc0ce32f-d5aa-489f-ba4b-e01443815121.FPKM.txt.gz &  4.24 & 11.76 &  4.21 & 10.27 &  8.74\\\\\n",
       "\t2b33014e-c7ff-41aa-82bf-3121756639ad.FPKM.txt.gz &  2.53 & 85.19 & 12.01 &  4.88 &  1.71\\\\\n",
       "\t397e302e-393e-4f54-b360-fcffe394271e.FPKM.txt.gz &  1.90 & 40.94 &  2.98 &  7.64 & 13.39\\\\\n",
       "\t037b5a94-487e-4f5b-90a3-d696eb4a8a3e.FPKM.txt.gz &  4.10 &  0.96 &  6.13 & 15.01 &  5.76\\\\\n",
       "\t5e010a9a-7f65-434b-ae4c-43948461187c.FPKM.txt.gz & 20.25 &  3.06 &  4.05 & 14.71 &  3.18\\\\\n",
       "\\end{tabular}\n"
      ],
      "text/markdown": [
       "\n",
       "A data.frame: 5 × 5\n",
       "\n",
       "| <!--/--> | ENSG00000000938 &lt;dbl&gt; | ENSG00000001084 &lt;dbl&gt; | ENSG00000001631 &lt;dbl&gt; | ENSG00000002933 &lt;dbl&gt; | ENSG00000003147 &lt;dbl&gt; |\n",
       "|---|---|---|---|---|---|\n",
       "| dc0ce32f-d5aa-489f-ba4b-e01443815121.FPKM.txt.gz |  4.24 | 11.76 |  4.21 | 10.27 |  8.74 |\n",
       "| 2b33014e-c7ff-41aa-82bf-3121756639ad.FPKM.txt.gz |  2.53 | 85.19 | 12.01 |  4.88 |  1.71 |\n",
       "| 397e302e-393e-4f54-b360-fcffe394271e.FPKM.txt.gz |  1.90 | 40.94 |  2.98 |  7.64 | 13.39 |\n",
       "| 037b5a94-487e-4f5b-90a3-d696eb4a8a3e.FPKM.txt.gz |  4.10 |  0.96 |  6.13 | 15.01 |  5.76 |\n",
       "| 5e010a9a-7f65-434b-ae4c-43948461187c.FPKM.txt.gz | 20.25 |  3.06 |  4.05 | 14.71 |  3.18 |\n",
       "\n"
      ],
      "text/plain": [
       "                                                 ENSG00000000938\n",
       "dc0ce32f-d5aa-489f-ba4b-e01443815121.FPKM.txt.gz  4.24          \n",
       "2b33014e-c7ff-41aa-82bf-3121756639ad.FPKM.txt.gz  2.53          \n",
       "397e302e-393e-4f54-b360-fcffe394271e.FPKM.txt.gz  1.90          \n",
       "037b5a94-487e-4f5b-90a3-d696eb4a8a3e.FPKM.txt.gz  4.10          \n",
       "5e010a9a-7f65-434b-ae4c-43948461187c.FPKM.txt.gz 20.25          \n",
       "                                                 ENSG00000001084\n",
       "dc0ce32f-d5aa-489f-ba4b-e01443815121.FPKM.txt.gz 11.76          \n",
       "2b33014e-c7ff-41aa-82bf-3121756639ad.FPKM.txt.gz 85.19          \n",
       "397e302e-393e-4f54-b360-fcffe394271e.FPKM.txt.gz 40.94          \n",
       "037b5a94-487e-4f5b-90a3-d696eb4a8a3e.FPKM.txt.gz  0.96          \n",
       "5e010a9a-7f65-434b-ae4c-43948461187c.FPKM.txt.gz  3.06          \n",
       "                                                 ENSG00000001631\n",
       "dc0ce32f-d5aa-489f-ba4b-e01443815121.FPKM.txt.gz  4.21          \n",
       "2b33014e-c7ff-41aa-82bf-3121756639ad.FPKM.txt.gz 12.01          \n",
       "397e302e-393e-4f54-b360-fcffe394271e.FPKM.txt.gz  2.98          \n",
       "037b5a94-487e-4f5b-90a3-d696eb4a8a3e.FPKM.txt.gz  6.13          \n",
       "5e010a9a-7f65-434b-ae4c-43948461187c.FPKM.txt.gz  4.05          \n",
       "                                                 ENSG00000002933\n",
       "dc0ce32f-d5aa-489f-ba4b-e01443815121.FPKM.txt.gz 10.27          \n",
       "2b33014e-c7ff-41aa-82bf-3121756639ad.FPKM.txt.gz  4.88          \n",
       "397e302e-393e-4f54-b360-fcffe394271e.FPKM.txt.gz  7.64          \n",
       "037b5a94-487e-4f5b-90a3-d696eb4a8a3e.FPKM.txt.gz 15.01          \n",
       "5e010a9a-7f65-434b-ae4c-43948461187c.FPKM.txt.gz 14.71          \n",
       "                                                 ENSG00000003147\n",
       "dc0ce32f-d5aa-489f-ba4b-e01443815121.FPKM.txt.gz  8.74          \n",
       "2b33014e-c7ff-41aa-82bf-3121756639ad.FPKM.txt.gz  1.71          \n",
       "397e302e-393e-4f54-b360-fcffe394271e.FPKM.txt.gz 13.39          \n",
       "037b5a94-487e-4f5b-90a3-d696eb4a8a3e.FPKM.txt.gz  5.76          \n",
       "5e010a9a-7f65-434b-ae4c-43948461187c.FPKM.txt.gz  3.18          "
      ]
     },
     "metadata": {},
     "output_type": "display_data"
    }
   ],
   "source": [
    "datExpr[1:5,1:5]"
   ]
  },
  {
   "cell_type": "code",
   "execution_count": 6,
   "metadata": {},
   "outputs": [],
   "source": [
    "log2_1 <- function(x){\n",
    "    log2(x+1)\n",
    "}\n",
    "datExpr <- as.data.frame(apply(datExpr,2, log2_1))\n",
    "dimnames(datExpr)[[1]] <- samples"
   ]
  },
  {
   "cell_type": "code",
   "execution_count": 7,
   "metadata": {},
   "outputs": [
    {
     "data": {
      "text/html": [
       "<table>\n",
       "<caption>A data.frame: 5 × 5</caption>\n",
       "<thead>\n",
       "\t<tr><th></th><th scope=col>ENSG00000000938</th><th scope=col>ENSG00000001084</th><th scope=col>ENSG00000001631</th><th scope=col>ENSG00000002933</th><th scope=col>ENSG00000003147</th></tr>\n",
       "\t<tr><th></th><th scope=col>&lt;dbl&gt;</th><th scope=col>&lt;dbl&gt;</th><th scope=col>&lt;dbl&gt;</th><th scope=col>&lt;dbl&gt;</th><th scope=col>&lt;dbl&gt;</th></tr>\n",
       "</thead>\n",
       "<tbody>\n",
       "\t<tr><th scope=row>dc0ce32f-d5aa-489f-ba4b-e01443815121.FPKM.txt.gz</th><td>2.389567</td><td>3.6735564</td><td>2.381283</td><td>3.494416</td><td>3.283922</td></tr>\n",
       "\t<tr><th scope=row>2b33014e-c7ff-41aa-82bf-3121756639ad.FPKM.txt.gz</th><td>1.819668</td><td>6.4294486</td><td>3.701549</td><td>2.555816</td><td>1.438293</td></tr>\n",
       "\t<tr><th scope=row>397e302e-393e-4f54-b360-fcffe394271e.FPKM.txt.gz</th><td>1.536053</td><td>5.3902550</td><td>1.992768</td><td>3.111031</td><td>3.846995</td></tr>\n",
       "\t<tr><th scope=row>037b5a94-487e-4f5b-90a3-d696eb4a8a3e.FPKM.txt.gz</th><td>2.350497</td><td>0.9708537</td><td>2.833902</td><td>4.000901</td><td>2.757023</td></tr>\n",
       "\t<tr><th scope=row>5e010a9a-7f65-434b-ae4c-43948461187c.FPKM.txt.gz</th><td>4.409391</td><td>2.0214797</td><td>2.336283</td><td>3.973611</td><td>2.063503</td></tr>\n",
       "</tbody>\n",
       "</table>\n"
      ],
      "text/latex": [
       "A data.frame: 5 × 5\n",
       "\\begin{tabular}{r|lllll}\n",
       "  & ENSG00000000938 & ENSG00000001084 & ENSG00000001631 & ENSG00000002933 & ENSG00000003147\\\\\n",
       "  & <dbl> & <dbl> & <dbl> & <dbl> & <dbl>\\\\\n",
       "\\hline\n",
       "\tdc0ce32f-d5aa-489f-ba4b-e01443815121.FPKM.txt.gz & 2.389567 & 3.6735564 & 2.381283 & 3.494416 & 3.283922\\\\\n",
       "\t2b33014e-c7ff-41aa-82bf-3121756639ad.FPKM.txt.gz & 1.819668 & 6.4294486 & 3.701549 & 2.555816 & 1.438293\\\\\n",
       "\t397e302e-393e-4f54-b360-fcffe394271e.FPKM.txt.gz & 1.536053 & 5.3902550 & 1.992768 & 3.111031 & 3.846995\\\\\n",
       "\t037b5a94-487e-4f5b-90a3-d696eb4a8a3e.FPKM.txt.gz & 2.350497 & 0.9708537 & 2.833902 & 4.000901 & 2.757023\\\\\n",
       "\t5e010a9a-7f65-434b-ae4c-43948461187c.FPKM.txt.gz & 4.409391 & 2.0214797 & 2.336283 & 3.973611 & 2.063503\\\\\n",
       "\\end{tabular}\n"
      ],
      "text/markdown": [
       "\n",
       "A data.frame: 5 × 5\n",
       "\n",
       "| <!--/--> | ENSG00000000938 &lt;dbl&gt; | ENSG00000001084 &lt;dbl&gt; | ENSG00000001631 &lt;dbl&gt; | ENSG00000002933 &lt;dbl&gt; | ENSG00000003147 &lt;dbl&gt; |\n",
       "|---|---|---|---|---|---|\n",
       "| dc0ce32f-d5aa-489f-ba4b-e01443815121.FPKM.txt.gz | 2.389567 | 3.6735564 | 2.381283 | 3.494416 | 3.283922 |\n",
       "| 2b33014e-c7ff-41aa-82bf-3121756639ad.FPKM.txt.gz | 1.819668 | 6.4294486 | 3.701549 | 2.555816 | 1.438293 |\n",
       "| 397e302e-393e-4f54-b360-fcffe394271e.FPKM.txt.gz | 1.536053 | 5.3902550 | 1.992768 | 3.111031 | 3.846995 |\n",
       "| 037b5a94-487e-4f5b-90a3-d696eb4a8a3e.FPKM.txt.gz | 2.350497 | 0.9708537 | 2.833902 | 4.000901 | 2.757023 |\n",
       "| 5e010a9a-7f65-434b-ae4c-43948461187c.FPKM.txt.gz | 4.409391 | 2.0214797 | 2.336283 | 3.973611 | 2.063503 |\n",
       "\n"
      ],
      "text/plain": [
       "                                                 ENSG00000000938\n",
       "dc0ce32f-d5aa-489f-ba4b-e01443815121.FPKM.txt.gz 2.389567       \n",
       "2b33014e-c7ff-41aa-82bf-3121756639ad.FPKM.txt.gz 1.819668       \n",
       "397e302e-393e-4f54-b360-fcffe394271e.FPKM.txt.gz 1.536053       \n",
       "037b5a94-487e-4f5b-90a3-d696eb4a8a3e.FPKM.txt.gz 2.350497       \n",
       "5e010a9a-7f65-434b-ae4c-43948461187c.FPKM.txt.gz 4.409391       \n",
       "                                                 ENSG00000001084\n",
       "dc0ce32f-d5aa-489f-ba4b-e01443815121.FPKM.txt.gz 3.6735564      \n",
       "2b33014e-c7ff-41aa-82bf-3121756639ad.FPKM.txt.gz 6.4294486      \n",
       "397e302e-393e-4f54-b360-fcffe394271e.FPKM.txt.gz 5.3902550      \n",
       "037b5a94-487e-4f5b-90a3-d696eb4a8a3e.FPKM.txt.gz 0.9708537      \n",
       "5e010a9a-7f65-434b-ae4c-43948461187c.FPKM.txt.gz 2.0214797      \n",
       "                                                 ENSG00000001631\n",
       "dc0ce32f-d5aa-489f-ba4b-e01443815121.FPKM.txt.gz 2.381283       \n",
       "2b33014e-c7ff-41aa-82bf-3121756639ad.FPKM.txt.gz 3.701549       \n",
       "397e302e-393e-4f54-b360-fcffe394271e.FPKM.txt.gz 1.992768       \n",
       "037b5a94-487e-4f5b-90a3-d696eb4a8a3e.FPKM.txt.gz 2.833902       \n",
       "5e010a9a-7f65-434b-ae4c-43948461187c.FPKM.txt.gz 2.336283       \n",
       "                                                 ENSG00000002933\n",
       "dc0ce32f-d5aa-489f-ba4b-e01443815121.FPKM.txt.gz 3.494416       \n",
       "2b33014e-c7ff-41aa-82bf-3121756639ad.FPKM.txt.gz 2.555816       \n",
       "397e302e-393e-4f54-b360-fcffe394271e.FPKM.txt.gz 3.111031       \n",
       "037b5a94-487e-4f5b-90a3-d696eb4a8a3e.FPKM.txt.gz 4.000901       \n",
       "5e010a9a-7f65-434b-ae4c-43948461187c.FPKM.txt.gz 3.973611       \n",
       "                                                 ENSG00000003147\n",
       "dc0ce32f-d5aa-489f-ba4b-e01443815121.FPKM.txt.gz 3.283922       \n",
       "2b33014e-c7ff-41aa-82bf-3121756639ad.FPKM.txt.gz 1.438293       \n",
       "397e302e-393e-4f54-b360-fcffe394271e.FPKM.txt.gz 3.846995       \n",
       "037b5a94-487e-4f5b-90a3-d696eb4a8a3e.FPKM.txt.gz 2.757023       \n",
       "5e010a9a-7f65-434b-ae4c-43948461187c.FPKM.txt.gz 2.063503       "
      ]
     },
     "metadata": {},
     "output_type": "display_data"
    }
   ],
   "source": [
    "datExpr[1:5,1:5]"
   ]
  },
  {
   "cell_type": "code",
   "execution_count": 8,
   "metadata": {},
   "outputs": [
    {
     "data": {
      "text/html": [
       "15.4190845543292"
      ],
      "text/latex": [
       "15.4190845543292"
      ],
      "text/markdown": [
       "15.4190845543292"
      ],
      "text/plain": [
       "[1] 15.41908"
      ]
     },
     "metadata": {},
     "output_type": "display_data"
    }
   ],
   "source": [
    "max(datExpr)"
   ]
  },
  {
   "cell_type": "code",
   "execution_count": 9,
   "metadata": {},
   "outputs": [
    {
     "data": {
      "text/html": [
       "<table>\n",
       "<caption>A data.frame: 6 × 20</caption>\n",
       "<thead>\n",
       "\t<tr><th></th><th scope=col>file_name</th><th scope=col>cases.0.submitter_id</th><th scope=col>cases.0.diagnoses.0.morphology</th><th scope=col>cases.0.diagnoses.0.primary_diagnosis</th><th scope=col>cases.0.diagnoses.0.tissue_or_organ_of_origin</th><th scope=col>cases.0.diagnoses.0.tumor_grade</th><th scope=col>cases.0.diagnoses.0.tumor_stage</th><th scope=col>cases.0.project.disease_type</th><th scope=col>cases.0.project.primary_site</th><th scope=col>cases.0.samples.0.longest_dimension</th><th scope=col>cases.0.samples.0.portions.0.analytes.0.aliquots.0.submitter_id</th><th scope=col>cancer.type</th><th scope=col>Subtype_mRNA</th><th scope=col>Subtype_DNAmeth</th><th scope=col>Subtype_protein</th><th scope=col>Subtype_miRNA</th><th scope=col>Subtype_CNA</th><th scope=col>Subtype_Integrative</th><th scope=col>Subtype_other</th><th scope=col>Subtype_Selected</th></tr>\n",
       "\t<tr><th></th><th scope=col>&lt;chr&gt;</th><th scope=col>&lt;chr&gt;</th><th scope=col>&lt;chr&gt;</th><th scope=col>&lt;chr&gt;</th><th scope=col>&lt;chr&gt;</th><th scope=col>&lt;chr&gt;</th><th scope=col>&lt;chr&gt;</th><th scope=col>&lt;chr&gt;</th><th scope=col>&lt;chr&gt;</th><th scope=col>&lt;chr&gt;</th><th scope=col>&lt;chr&gt;</th><th scope=col>&lt;chr&gt;</th><th scope=col>&lt;chr&gt;</th><th scope=col>&lt;chr&gt;</th><th scope=col>&lt;chr&gt;</th><th scope=col>&lt;chr&gt;</th><th scope=col>&lt;chr&gt;</th><th scope=col>&lt;chr&gt;</th><th scope=col>&lt;chr&gt;</th><th scope=col>&lt;chr&gt;</th></tr>\n",
       "</thead>\n",
       "<tbody>\n",
       "\t<tr><th scope=row>1</th><td>2d683c1f-3a48-4bb8-84f9-bad6347c008b.FPKM.txt.gz</td><td>TCGA-05-4249</td><td>8140/3</td><td>Adenocarcinoma, NOS               </td><td>Lower lobe, lung</td><td>not reported</td><td>stage ib  </td><td>Lung Adenocarcinoma</td><td>Lung</td><td>1.4</td><td>TCGA-05-4249-01A-01R-1107-07</td><td>LUAD</td><td>unknown</td><td>unknown     </td><td>unknown</td><td>unknown</td><td>unknown</td><td>5</td><td>unknown</td><td>LUAD.5</td></tr>\n",
       "\t<tr><th scope=row>2</th><td>780ab54f-9100-447b-ba9e-75480e7be3d9.FPKM.txt.gz</td><td>TCGA-05-4382</td><td>8255/3</td><td>Adenocarcinoma with mixed subtypes</td><td>Upper lobe, lung</td><td>not reported</td><td>stage ib  </td><td>Lung Adenocarcinoma</td><td>Lung</td><td>0.9</td><td>TCGA-05-4382-01A-01R-1206-07</td><td>LUAD</td><td>unknown</td><td>unknown     </td><td>unknown</td><td>unknown</td><td>unknown</td><td>6</td><td>unknown</td><td>LUAD.6</td></tr>\n",
       "\t<tr><th scope=row>3</th><td>f8332a4b-0365-4732-a6b8-a3998872e24c.FPKM.txt.gz</td><td>TCGA-05-4384</td><td>8255/3</td><td>Adenocarcinoma with mixed subtypes</td><td>Lower lobe, lung</td><td>not reported</td><td>stage iiia</td><td>Lung Adenocarcinoma</td><td>Lung</td><td>0.8</td><td>TCGA-05-4384-01A-01R-1755-07</td><td>LUAD</td><td>unknown</td><td>low         </td><td>unknown</td><td>unknown</td><td>unknown</td><td>1</td><td>unknown</td><td>LUAD.1</td></tr>\n",
       "\t<tr><th scope=row>4</th><td>755f981f-f957-48ec-9779-cf9887e19ab0.FPKM.txt.gz</td><td>TCGA-05-4389</td><td>8255/3</td><td>Adenocarcinoma with mixed subtypes</td><td>Upper lobe, lung</td><td>not reported</td><td>stage ia  </td><td>Lung Adenocarcinoma</td><td>Lung</td><td>1.3</td><td>TCGA-05-4389-01A-01R-1206-07</td><td>LUAD</td><td>unknown</td><td>unknown     </td><td>unknown</td><td>unknown</td><td>unknown</td><td>2</td><td>unknown</td><td>LUAD.2</td></tr>\n",
       "\t<tr><th scope=row>5</th><td>d0d7fae1-355e-4ada-a469-b69d59c1edfe.FPKM.txt.gz</td><td>TCGA-05-4390</td><td>8255/3</td><td>Adenocarcinoma with mixed subtypes</td><td>Upper lobe, lung</td><td>not reported</td><td>stage ib  </td><td>Lung Adenocarcinoma</td><td>Lung</td><td>1.8</td><td>TCGA-05-4390-01A-02R-1755-07</td><td>LUAD</td><td>unknown</td><td>intermediate</td><td>unknown</td><td>unknown</td><td>unknown</td><td>2</td><td>unknown</td><td>LUAD.2</td></tr>\n",
       "\t<tr><th scope=row>6</th><td>97f3c6a3-a3b8-4f59-9242-8845fa1c90a8.FPKM.txt.gz</td><td>TCGA-05-4395</td><td>8255/3</td><td>Adenocarcinoma with mixed subtypes</td><td>Upper lobe, lung</td><td>not reported</td><td>stage iiib</td><td>Lung Adenocarcinoma</td><td>Lung</td><td>1.0</td><td>TCGA-05-4395-01A-01R-1206-07</td><td>LUAD</td><td>unknown</td><td>unknown     </td><td>unknown</td><td>unknown</td><td>unknown</td><td>3</td><td>unknown</td><td>LUAD.3</td></tr>\n",
       "</tbody>\n",
       "</table>\n"
      ],
      "text/latex": [
       "A data.frame: 6 × 20\n",
       "\\begin{tabular}{r|llllllllllllllllllll}\n",
       "  & file\\_name & cases.0.submitter\\_id & cases.0.diagnoses.0.morphology & cases.0.diagnoses.0.primary\\_diagnosis & cases.0.diagnoses.0.tissue\\_or\\_organ\\_of\\_origin & cases.0.diagnoses.0.tumor\\_grade & cases.0.diagnoses.0.tumor\\_stage & cases.0.project.disease\\_type & cases.0.project.primary\\_site & cases.0.samples.0.longest\\_dimension & cases.0.samples.0.portions.0.analytes.0.aliquots.0.submitter\\_id & cancer.type & Subtype\\_mRNA & Subtype\\_DNAmeth & Subtype\\_protein & Subtype\\_miRNA & Subtype\\_CNA & Subtype\\_Integrative & Subtype\\_other & Subtype\\_Selected\\\\\n",
       "  & <chr> & <chr> & <chr> & <chr> & <chr> & <chr> & <chr> & <chr> & <chr> & <chr> & <chr> & <chr> & <chr> & <chr> & <chr> & <chr> & <chr> & <chr> & <chr> & <chr>\\\\\n",
       "\\hline\n",
       "\t1 & 2d683c1f-3a48-4bb8-84f9-bad6347c008b.FPKM.txt.gz & TCGA-05-4249 & 8140/3 & Adenocarcinoma, NOS                & Lower lobe, lung & not reported & stage ib   & Lung Adenocarcinoma & Lung & 1.4 & TCGA-05-4249-01A-01R-1107-07 & LUAD & unknown & unknown      & unknown & unknown & unknown & 5 & unknown & LUAD.5\\\\\n",
       "\t2 & 780ab54f-9100-447b-ba9e-75480e7be3d9.FPKM.txt.gz & TCGA-05-4382 & 8255/3 & Adenocarcinoma with mixed subtypes & Upper lobe, lung & not reported & stage ib   & Lung Adenocarcinoma & Lung & 0.9 & TCGA-05-4382-01A-01R-1206-07 & LUAD & unknown & unknown      & unknown & unknown & unknown & 6 & unknown & LUAD.6\\\\\n",
       "\t3 & f8332a4b-0365-4732-a6b8-a3998872e24c.FPKM.txt.gz & TCGA-05-4384 & 8255/3 & Adenocarcinoma with mixed subtypes & Lower lobe, lung & not reported & stage iiia & Lung Adenocarcinoma & Lung & 0.8 & TCGA-05-4384-01A-01R-1755-07 & LUAD & unknown & low          & unknown & unknown & unknown & 1 & unknown & LUAD.1\\\\\n",
       "\t4 & 755f981f-f957-48ec-9779-cf9887e19ab0.FPKM.txt.gz & TCGA-05-4389 & 8255/3 & Adenocarcinoma with mixed subtypes & Upper lobe, lung & not reported & stage ia   & Lung Adenocarcinoma & Lung & 1.3 & TCGA-05-4389-01A-01R-1206-07 & LUAD & unknown & unknown      & unknown & unknown & unknown & 2 & unknown & LUAD.2\\\\\n",
       "\t5 & d0d7fae1-355e-4ada-a469-b69d59c1edfe.FPKM.txt.gz & TCGA-05-4390 & 8255/3 & Adenocarcinoma with mixed subtypes & Upper lobe, lung & not reported & stage ib   & Lung Adenocarcinoma & Lung & 1.8 & TCGA-05-4390-01A-02R-1755-07 & LUAD & unknown & intermediate & unknown & unknown & unknown & 2 & unknown & LUAD.2\\\\\n",
       "\t6 & 97f3c6a3-a3b8-4f59-9242-8845fa1c90a8.FPKM.txt.gz & TCGA-05-4395 & 8255/3 & Adenocarcinoma with mixed subtypes & Upper lobe, lung & not reported & stage iiib & Lung Adenocarcinoma & Lung & 1.0 & TCGA-05-4395-01A-01R-1206-07 & LUAD & unknown & unknown      & unknown & unknown & unknown & 3 & unknown & LUAD.3\\\\\n",
       "\\end{tabular}\n"
      ],
      "text/markdown": [
       "\n",
       "A data.frame: 6 × 20\n",
       "\n",
       "| <!--/--> | file_name &lt;chr&gt; | cases.0.submitter_id &lt;chr&gt; | cases.0.diagnoses.0.morphology &lt;chr&gt; | cases.0.diagnoses.0.primary_diagnosis &lt;chr&gt; | cases.0.diagnoses.0.tissue_or_organ_of_origin &lt;chr&gt; | cases.0.diagnoses.0.tumor_grade &lt;chr&gt; | cases.0.diagnoses.0.tumor_stage &lt;chr&gt; | cases.0.project.disease_type &lt;chr&gt; | cases.0.project.primary_site &lt;chr&gt; | cases.0.samples.0.longest_dimension &lt;chr&gt; | cases.0.samples.0.portions.0.analytes.0.aliquots.0.submitter_id &lt;chr&gt; | cancer.type &lt;chr&gt; | Subtype_mRNA &lt;chr&gt; | Subtype_DNAmeth &lt;chr&gt; | Subtype_protein &lt;chr&gt; | Subtype_miRNA &lt;chr&gt; | Subtype_CNA &lt;chr&gt; | Subtype_Integrative &lt;chr&gt; | Subtype_other &lt;chr&gt; | Subtype_Selected &lt;chr&gt; |\n",
       "|---|---|---|---|---|---|---|---|---|---|---|---|---|---|---|---|---|---|---|---|---|\n",
       "| 1 | 2d683c1f-3a48-4bb8-84f9-bad6347c008b.FPKM.txt.gz | TCGA-05-4249 | 8140/3 | Adenocarcinoma, NOS                | Lower lobe, lung | not reported | stage ib   | Lung Adenocarcinoma | Lung | 1.4 | TCGA-05-4249-01A-01R-1107-07 | LUAD | unknown | unknown      | unknown | unknown | unknown | 5 | unknown | LUAD.5 |\n",
       "| 2 | 780ab54f-9100-447b-ba9e-75480e7be3d9.FPKM.txt.gz | TCGA-05-4382 | 8255/3 | Adenocarcinoma with mixed subtypes | Upper lobe, lung | not reported | stage ib   | Lung Adenocarcinoma | Lung | 0.9 | TCGA-05-4382-01A-01R-1206-07 | LUAD | unknown | unknown      | unknown | unknown | unknown | 6 | unknown | LUAD.6 |\n",
       "| 3 | f8332a4b-0365-4732-a6b8-a3998872e24c.FPKM.txt.gz | TCGA-05-4384 | 8255/3 | Adenocarcinoma with mixed subtypes | Lower lobe, lung | not reported | stage iiia | Lung Adenocarcinoma | Lung | 0.8 | TCGA-05-4384-01A-01R-1755-07 | LUAD | unknown | low          | unknown | unknown | unknown | 1 | unknown | LUAD.1 |\n",
       "| 4 | 755f981f-f957-48ec-9779-cf9887e19ab0.FPKM.txt.gz | TCGA-05-4389 | 8255/3 | Adenocarcinoma with mixed subtypes | Upper lobe, lung | not reported | stage ia   | Lung Adenocarcinoma | Lung | 1.3 | TCGA-05-4389-01A-01R-1206-07 | LUAD | unknown | unknown      | unknown | unknown | unknown | 2 | unknown | LUAD.2 |\n",
       "| 5 | d0d7fae1-355e-4ada-a469-b69d59c1edfe.FPKM.txt.gz | TCGA-05-4390 | 8255/3 | Adenocarcinoma with mixed subtypes | Upper lobe, lung | not reported | stage ib   | Lung Adenocarcinoma | Lung | 1.8 | TCGA-05-4390-01A-02R-1755-07 | LUAD | unknown | intermediate | unknown | unknown | unknown | 2 | unknown | LUAD.2 |\n",
       "| 6 | 97f3c6a3-a3b8-4f59-9242-8845fa1c90a8.FPKM.txt.gz | TCGA-05-4395 | 8255/3 | Adenocarcinoma with mixed subtypes | Upper lobe, lung | not reported | stage iiib | Lung Adenocarcinoma | Lung | 1.0 | TCGA-05-4395-01A-01R-1206-07 | LUAD | unknown | unknown      | unknown | unknown | unknown | 3 | unknown | LUAD.3 |\n",
       "\n"
      ],
      "text/plain": [
       "  file_name                                        cases.0.submitter_id\n",
       "1 2d683c1f-3a48-4bb8-84f9-bad6347c008b.FPKM.txt.gz TCGA-05-4249        \n",
       "2 780ab54f-9100-447b-ba9e-75480e7be3d9.FPKM.txt.gz TCGA-05-4382        \n",
       "3 f8332a4b-0365-4732-a6b8-a3998872e24c.FPKM.txt.gz TCGA-05-4384        \n",
       "4 755f981f-f957-48ec-9779-cf9887e19ab0.FPKM.txt.gz TCGA-05-4389        \n",
       "5 d0d7fae1-355e-4ada-a469-b69d59c1edfe.FPKM.txt.gz TCGA-05-4390        \n",
       "6 97f3c6a3-a3b8-4f59-9242-8845fa1c90a8.FPKM.txt.gz TCGA-05-4395        \n",
       "  cases.0.diagnoses.0.morphology cases.0.diagnoses.0.primary_diagnosis\n",
       "1 8140/3                         Adenocarcinoma, NOS                  \n",
       "2 8255/3                         Adenocarcinoma with mixed subtypes   \n",
       "3 8255/3                         Adenocarcinoma with mixed subtypes   \n",
       "4 8255/3                         Adenocarcinoma with mixed subtypes   \n",
       "5 8255/3                         Adenocarcinoma with mixed subtypes   \n",
       "6 8255/3                         Adenocarcinoma with mixed subtypes   \n",
       "  cases.0.diagnoses.0.tissue_or_organ_of_origin cases.0.diagnoses.0.tumor_grade\n",
       "1 Lower lobe, lung                              not reported                   \n",
       "2 Upper lobe, lung                              not reported                   \n",
       "3 Lower lobe, lung                              not reported                   \n",
       "4 Upper lobe, lung                              not reported                   \n",
       "5 Upper lobe, lung                              not reported                   \n",
       "6 Upper lobe, lung                              not reported                   \n",
       "  cases.0.diagnoses.0.tumor_stage cases.0.project.disease_type\n",
       "1 stage ib                        Lung Adenocarcinoma         \n",
       "2 stage ib                        Lung Adenocarcinoma         \n",
       "3 stage iiia                      Lung Adenocarcinoma         \n",
       "4 stage ia                        Lung Adenocarcinoma         \n",
       "5 stage ib                        Lung Adenocarcinoma         \n",
       "6 stage iiib                      Lung Adenocarcinoma         \n",
       "  cases.0.project.primary_site cases.0.samples.0.longest_dimension\n",
       "1 Lung                         1.4                                \n",
       "2 Lung                         0.9                                \n",
       "3 Lung                         0.8                                \n",
       "4 Lung                         1.3                                \n",
       "5 Lung                         1.8                                \n",
       "6 Lung                         1.0                                \n",
       "  cases.0.samples.0.portions.0.analytes.0.aliquots.0.submitter_id cancer.type\n",
       "1 TCGA-05-4249-01A-01R-1107-07                                    LUAD       \n",
       "2 TCGA-05-4382-01A-01R-1206-07                                    LUAD       \n",
       "3 TCGA-05-4384-01A-01R-1755-07                                    LUAD       \n",
       "4 TCGA-05-4389-01A-01R-1206-07                                    LUAD       \n",
       "5 TCGA-05-4390-01A-02R-1755-07                                    LUAD       \n",
       "6 TCGA-05-4395-01A-01R-1206-07                                    LUAD       \n",
       "  Subtype_mRNA Subtype_DNAmeth Subtype_protein Subtype_miRNA Subtype_CNA\n",
       "1 unknown      unknown         unknown         unknown       unknown    \n",
       "2 unknown      unknown         unknown         unknown       unknown    \n",
       "3 unknown      low             unknown         unknown       unknown    \n",
       "4 unknown      unknown         unknown         unknown       unknown    \n",
       "5 unknown      intermediate    unknown         unknown       unknown    \n",
       "6 unknown      unknown         unknown         unknown       unknown    \n",
       "  Subtype_Integrative Subtype_other Subtype_Selected\n",
       "1 5                   unknown       LUAD.5          \n",
       "2 6                   unknown       LUAD.6          \n",
       "3 1                   unknown       LUAD.1          \n",
       "4 2                   unknown       LUAD.2          \n",
       "5 2                   unknown       LUAD.2          \n",
       "6 3                   unknown       LUAD.3          "
      ]
     },
     "metadata": {},
     "output_type": "display_data"
    }
   ],
   "source": [
    "head(allTraits)"
   ]
  },
  {
   "cell_type": "code",
   "execution_count": 11,
   "metadata": {},
   "outputs": [
    {
     "data": {
      "text/html": [
       "<table>\n",
       "<caption>A data.frame: 6 × 2</caption>\n",
       "<thead>\n",
       "\t<tr><th></th><th scope=col>cancer.type</th><th scope=col>Subtype_Selected</th></tr>\n",
       "\t<tr><th></th><th scope=col>&lt;chr&gt;</th><th scope=col>&lt;chr&gt;</th></tr>\n",
       "</thead>\n",
       "<tbody>\n",
       "\t<tr><th scope=row>dc0ce32f-d5aa-489f-ba4b-e01443815121.FPKM.txt.gz</th><td>LUAD</td><td>LUAD.5        </td></tr>\n",
       "\t<tr><th scope=row>2b33014e-c7ff-41aa-82bf-3121756639ad.FPKM.txt.gz</th><td>LUSC</td><td>LUSC.primitive</td></tr>\n",
       "\t<tr><th scope=row>397e302e-393e-4f54-b360-fcffe394271e.FPKM.txt.gz</th><td>LUAD</td><td>LUAD.1        </td></tr>\n",
       "\t<tr><th scope=row>037b5a94-487e-4f5b-90a3-d696eb4a8a3e.FPKM.txt.gz</th><td>LUAD</td><td>LUAD.4        </td></tr>\n",
       "\t<tr><th scope=row>5e010a9a-7f65-434b-ae4c-43948461187c.FPKM.txt.gz</th><td>LUSC</td><td>LUSC.classical</td></tr>\n",
       "\t<tr><th scope=row>ae59d924-06ec-428d-b470-e78ed92c5e36.FPKM.txt.gz</th><td>LUSC</td><td>LUSC.classical</td></tr>\n",
       "</tbody>\n",
       "</table>\n"
      ],
      "text/latex": [
       "A data.frame: 6 × 2\n",
       "\\begin{tabular}{r|ll}\n",
       "  & cancer.type & Subtype\\_Selected\\\\\n",
       "  & <chr> & <chr>\\\\\n",
       "\\hline\n",
       "\tdc0ce32f-d5aa-489f-ba4b-e01443815121.FPKM.txt.gz & LUAD & LUAD.5        \\\\\n",
       "\t2b33014e-c7ff-41aa-82bf-3121756639ad.FPKM.txt.gz & LUSC & LUSC.primitive\\\\\n",
       "\t397e302e-393e-4f54-b360-fcffe394271e.FPKM.txt.gz & LUAD & LUAD.1        \\\\\n",
       "\t037b5a94-487e-4f5b-90a3-d696eb4a8a3e.FPKM.txt.gz & LUAD & LUAD.4        \\\\\n",
       "\t5e010a9a-7f65-434b-ae4c-43948461187c.FPKM.txt.gz & LUSC & LUSC.classical\\\\\n",
       "\tae59d924-06ec-428d-b470-e78ed92c5e36.FPKM.txt.gz & LUSC & LUSC.classical\\\\\n",
       "\\end{tabular}\n"
      ],
      "text/markdown": [
       "\n",
       "A data.frame: 6 × 2\n",
       "\n",
       "| <!--/--> | cancer.type &lt;chr&gt; | Subtype_Selected &lt;chr&gt; |\n",
       "|---|---|---|\n",
       "| dc0ce32f-d5aa-489f-ba4b-e01443815121.FPKM.txt.gz | LUAD | LUAD.5         |\n",
       "| 2b33014e-c7ff-41aa-82bf-3121756639ad.FPKM.txt.gz | LUSC | LUSC.primitive |\n",
       "| 397e302e-393e-4f54-b360-fcffe394271e.FPKM.txt.gz | LUAD | LUAD.1         |\n",
       "| 037b5a94-487e-4f5b-90a3-d696eb4a8a3e.FPKM.txt.gz | LUAD | LUAD.4         |\n",
       "| 5e010a9a-7f65-434b-ae4c-43948461187c.FPKM.txt.gz | LUSC | LUSC.classical |\n",
       "| ae59d924-06ec-428d-b470-e78ed92c5e36.FPKM.txt.gz | LUSC | LUSC.classical |\n",
       "\n"
      ],
      "text/plain": [
       "                                                 cancer.type Subtype_Selected\n",
       "dc0ce32f-d5aa-489f-ba4b-e01443815121.FPKM.txt.gz LUAD        LUAD.5          \n",
       "2b33014e-c7ff-41aa-82bf-3121756639ad.FPKM.txt.gz LUSC        LUSC.primitive  \n",
       "397e302e-393e-4f54-b360-fcffe394271e.FPKM.txt.gz LUAD        LUAD.1          \n",
       "037b5a94-487e-4f5b-90a3-d696eb4a8a3e.FPKM.txt.gz LUAD        LUAD.4          \n",
       "5e010a9a-7f65-434b-ae4c-43948461187c.FPKM.txt.gz LUSC        LUSC.classical  \n",
       "ae59d924-06ec-428d-b470-e78ed92c5e36.FPKM.txt.gz LUSC        LUSC.classical  "
      ]
     },
     "metadata": {},
     "output_type": "display_data"
    }
   ],
   "source": [
    "labels <- c('cancer.type', 'Subtype_Selected')\n",
    "datTraits <- allTraits[,labels]\n",
    "rownames(datTraits) <- allTraits$file_name #<--CHECK\n",
    "datTraits <- datTraits[rownames(datExpr),]\n",
    "head(datTraits)"
   ]
  },
  {
   "cell_type": "code",
   "execution_count": 12,
   "metadata": {},
   "outputs": [
    {
     "data": {
      "text/plain": [
       "\n",
       "FALSE \n",
       "  408 "
      ]
     },
     "metadata": {},
     "output_type": "display_data"
    }
   ],
   "source": [
    "table( dimnames(datExpr)[[1]]==datTraits$Subtype_Selected)"
   ]
  },
  {
   "cell_type": "code",
   "execution_count": 13,
   "metadata": {},
   "outputs": [],
   "source": [
    "y = datTraits$Subtype_Selected"
   ]
  },
  {
   "cell_type": "code",
   "execution_count": 14,
   "metadata": {},
   "outputs": [],
   "source": [
    "meanExpressionBySample=apply( datExpr,1,mean, na.rm=T)\n",
    "NumberMissingBySample=apply( is.na(data.frame(datExpr)),1, sum)"
   ]
  },
  {
   "cell_type": "markdown",
   "metadata": {},
   "source": [
    "## 1"
   ]
  },
  {
   "cell_type": "code",
   "execution_count": 15,
   "metadata": {},
   "outputs": [
    {
     "name": "stdout",
     "output_type": "stream",
     "text": [
      " Flagging genes and samples with too many missing values...\n",
      "  ..step 1\n"
     ]
    },
    {
     "data": {
      "text/html": [
       "TRUE"
      ],
      "text/latex": [
       "TRUE"
      ],
      "text/markdown": [
       "TRUE"
      ],
      "text/plain": [
       "[1] TRUE"
      ]
     },
     "metadata": {},
     "output_type": "display_data"
    }
   ],
   "source": [
    "gsg = goodSamplesGenes(datExpr, verbose = 3);\n",
    "gsg$allOK"
   ]
  },
  {
   "cell_type": "code",
   "execution_count": 16,
   "metadata": {},
   "outputs": [
    {
     "data": {
      "text/html": [
       "<strong>png:</strong> 2"
      ],
      "text/latex": [
       "\\textbf{png:} 2"
      ],
      "text/markdown": [
       "**png:** 2"
      ],
      "text/plain": [
       "png \n",
       "  2 "
      ]
     },
     "metadata": {},
     "output_type": "display_data"
    }
   ],
   "source": [
    "sampleTree = hclust(dist(datExpr), method = \"average\");\n",
    "# Plot the sample tree: Open a graphic output window of size 12 by 9 inches\n",
    "# The user should change the dimensions if the window is too large or too small.\n",
    "sizeGrWindow(12,9)\n",
    "svg(\"samplehier.svg\")\n",
    "par(cex = 0.6);\n",
    "par(mar = c(0,4,2,0))\n",
    "plot(sampleTree, main = \"Sample clustering to detect outliers\", sub=\"\", xlab=\"\", cex.lab = 1.5,\n",
    "cex.axis = 1.5, cex.main = 2)\n",
    "dev.off()"
   ]
  },
  {
   "cell_type": "code",
   "execution_count": 17,
   "metadata": {},
   "outputs": [
    {
     "data": {
      "text/plain": [
       "clust\n",
       "  1 \n",
       "408 "
      ]
     },
     "metadata": {},
     "output_type": "display_data"
    }
   ],
   "source": [
    "# Determine cluster under the line\n",
    "clust = cutreeStatic(sampleTree, cutHeight = 1e5, minSize = 10)\n",
    "table(clust)"
   ]
  },
  {
   "cell_type": "code",
   "execution_count": 18,
   "metadata": {},
   "outputs": [],
   "source": [
    "# clust 1 contains the samples we want to keep.\n",
    "keepSamples = (clust==1)\n",
    "datExpr = datExpr[keepSamples, ]\n",
    "nGenes = ncol(datExpr)\n",
    "nSamples = nrow(datExpr)\n",
    "\n",
    "genes <- dimnames(datExpr)[[2]]\n",
    "samples <- dimnames(datExpr)[[1]]\n",
    "datExpr <- as.data.frame(apply(datExpr,2, as.numeric)) #numeric\n",
    "dimnames(datExpr)[[1]] <- samples"
   ]
  },
  {
   "cell_type": "code",
   "execution_count": 19,
   "metadata": {},
   "outputs": [
    {
     "data": {
      "text/html": [
       "<table>\n",
       "<caption>A data.frame: 6 × 3000</caption>\n",
       "<thead>\n",
       "\t<tr><th></th><th scope=col>ENSG00000000938</th><th scope=col>ENSG00000001084</th><th scope=col>ENSG00000001631</th><th scope=col>ENSG00000002933</th><th scope=col>ENSG00000003147</th><th scope=col>ENSG00000003436</th><th scope=col>ENSG00000003989</th><th scope=col>ENSG00000004399</th><th scope=col>ENSG00000004776</th><th scope=col>ENSG00000004799</th><th scope=col>⋯</th><th scope=col>ENSG00000273284</th><th scope=col>ENSG00000273302</th><th scope=col>ENSG00000273338</th><th scope=col>ENSG00000273340</th><th scope=col>ENSG00000273350</th><th scope=col>ENSG00000273369</th><th scope=col>ENSG00000273373</th><th scope=col>ENSG00000273399</th><th scope=col>ENSG00000273449</th><th scope=col>ENSG00000273474</th></tr>\n",
       "\t<tr><th></th><th scope=col>&lt;dbl&gt;</th><th scope=col>&lt;dbl&gt;</th><th scope=col>&lt;dbl&gt;</th><th scope=col>&lt;dbl&gt;</th><th scope=col>&lt;dbl&gt;</th><th scope=col>&lt;dbl&gt;</th><th scope=col>&lt;dbl&gt;</th><th scope=col>&lt;dbl&gt;</th><th scope=col>&lt;dbl&gt;</th><th scope=col>&lt;dbl&gt;</th><th scope=col>⋯</th><th scope=col>&lt;dbl&gt;</th><th scope=col>&lt;dbl&gt;</th><th scope=col>&lt;dbl&gt;</th><th scope=col>&lt;dbl&gt;</th><th scope=col>&lt;dbl&gt;</th><th scope=col>&lt;dbl&gt;</th><th scope=col>&lt;dbl&gt;</th><th scope=col>&lt;dbl&gt;</th><th scope=col>&lt;dbl&gt;</th><th scope=col>&lt;dbl&gt;</th></tr>\n",
       "</thead>\n",
       "<tbody>\n",
       "\t<tr><th scope=row>dc0ce32f-d5aa-489f-ba4b-e01443815121.FPKM.txt.gz</th><td>2.389567</td><td>3.6735564</td><td>2.381283</td><td>3.494416</td><td>3.283922</td><td>4.821710</td><td>2.8639385</td><td>4.918863</td><td>1.3895668</td><td>3.649615</td><td>⋯</td><td>0.4646683</td><td>0.16349873</td><td>0.3785116</td><td>0.3785116</td><td>0.21412481</td><td>0.0976108</td><td>0.7311832</td><td>0.0000000</td><td>0.2750070</td><td>0.12432814</td></tr>\n",
       "\t<tr><th scope=row>2b33014e-c7ff-41aa-82bf-3121756639ad.FPKM.txt.gz</th><td>1.819668</td><td>6.4294486</td><td>3.701549</td><td>2.555816</td><td>1.438293</td><td>1.811471</td><td>0.3785116</td><td>2.538538</td><td>1.1763228</td><td>1.722466</td><td>⋯</td><td>1.8032270</td><td>0.48542683</td><td>0.1763228</td><td>1.6825733</td><td>0.56559718</td><td>0.4646683</td><td>1.0908534</td><td>0.0976108</td><td>0.5360529</td><td>0.05658353</td></tr>\n",
       "\t<tr><th scope=row>397e302e-393e-4f54-b360-fcffe394271e.FPKM.txt.gz</th><td>1.536053</td><td>5.3902550</td><td>1.992768</td><td>3.111031</td><td>3.846995</td><td>3.404631</td><td>4.9731520</td><td>2.678072</td><td>1.6369146</td><td>1.257011</td><td>⋯</td><td>1.2570106</td><td>0.32192809</td><td>0.3673711</td><td>0.2630344</td><td>0.46466827</td><td>0.3895668</td><td>1.8599695</td><td>0.4005379</td><td>0.9486008</td><td>0.97085365</td></tr>\n",
       "\t<tr><th scope=row>037b5a94-487e-4f5b-90a3-d696eb4a8a3e.FPKM.txt.gz</th><td>2.350497</td><td>0.9708537</td><td>2.833902</td><td>4.000901</td><td>2.757023</td><td>3.032101</td><td>0.9335726</td><td>3.655352</td><td>0.6040713</td><td>2.825786</td><td>⋯</td><td>1.2570106</td><td>0.91073266</td><td>0.2868811</td><td>0.8479969</td><td>0.80735492</td><td>1.2448871</td><td>1.7697717</td><td>1.1634987</td><td>1.0840643</td><td>0.85598970</td></tr>\n",
       "\t<tr><th scope=row>5e010a9a-7f65-434b-ae4c-43948461187c.FPKM.txt.gz</th><td>4.409391</td><td>2.0214797</td><td>2.336283</td><td>3.973611</td><td>2.063503</td><td>4.610582</td><td>2.5655972</td><td>5.360715</td><td>5.6892992</td><td>4.719731</td><td>⋯</td><td>0.2868811</td><td>0.05658353</td><td>0.1375035</td><td>0.6040713</td><td>0.04264434</td><td>0.2868811</td><td>0.4005379</td><td>0.1375035</td><td>0.1763228</td><td>0.12432814</td></tr>\n",
       "\t<tr><th scope=row>ae59d924-06ec-428d-b470-e78ed92c5e36.FPKM.txt.gz</th><td>2.821710</td><td>6.0205911</td><td>3.032101</td><td>3.856986</td><td>1.056584</td><td>1.970854</td><td>0.9030383</td><td>3.112700</td><td>1.0976108</td><td>2.687061</td><td>⋯</td><td>0.7824086</td><td>0.26303441</td><td>1.0496308</td><td>0.4222330</td><td>0.79077204</td><td>0.3103401</td><td>0.8797058</td><td>0.0000000</td><td>0.3103401</td><td>0.07038933</td></tr>\n",
       "</tbody>\n",
       "</table>\n"
      ],
      "text/latex": [
       "A data.frame: 6 × 3000\n",
       "\\begin{tabular}{r|lllllllllllllllllllll}\n",
       "  & ENSG00000000938 & ENSG00000001084 & ENSG00000001631 & ENSG00000002933 & ENSG00000003147 & ENSG00000003436 & ENSG00000003989 & ENSG00000004399 & ENSG00000004776 & ENSG00000004799 & ⋯ & ENSG00000273284 & ENSG00000273302 & ENSG00000273338 & ENSG00000273340 & ENSG00000273350 & ENSG00000273369 & ENSG00000273373 & ENSG00000273399 & ENSG00000273449 & ENSG00000273474\\\\\n",
       "  & <dbl> & <dbl> & <dbl> & <dbl> & <dbl> & <dbl> & <dbl> & <dbl> & <dbl> & <dbl> & ⋯ & <dbl> & <dbl> & <dbl> & <dbl> & <dbl> & <dbl> & <dbl> & <dbl> & <dbl> & <dbl>\\\\\n",
       "\\hline\n",
       "\tdc0ce32f-d5aa-489f-ba4b-e01443815121.FPKM.txt.gz & 2.389567 & 3.6735564 & 2.381283 & 3.494416 & 3.283922 & 4.821710 & 2.8639385 & 4.918863 & 1.3895668 & 3.649615 & ⋯ & 0.4646683 & 0.16349873 & 0.3785116 & 0.3785116 & 0.21412481 & 0.0976108 & 0.7311832 & 0.0000000 & 0.2750070 & 0.12432814\\\\\n",
       "\t2b33014e-c7ff-41aa-82bf-3121756639ad.FPKM.txt.gz & 1.819668 & 6.4294486 & 3.701549 & 2.555816 & 1.438293 & 1.811471 & 0.3785116 & 2.538538 & 1.1763228 & 1.722466 & ⋯ & 1.8032270 & 0.48542683 & 0.1763228 & 1.6825733 & 0.56559718 & 0.4646683 & 1.0908534 & 0.0976108 & 0.5360529 & 0.05658353\\\\\n",
       "\t397e302e-393e-4f54-b360-fcffe394271e.FPKM.txt.gz & 1.536053 & 5.3902550 & 1.992768 & 3.111031 & 3.846995 & 3.404631 & 4.9731520 & 2.678072 & 1.6369146 & 1.257011 & ⋯ & 1.2570106 & 0.32192809 & 0.3673711 & 0.2630344 & 0.46466827 & 0.3895668 & 1.8599695 & 0.4005379 & 0.9486008 & 0.97085365\\\\\n",
       "\t037b5a94-487e-4f5b-90a3-d696eb4a8a3e.FPKM.txt.gz & 2.350497 & 0.9708537 & 2.833902 & 4.000901 & 2.757023 & 3.032101 & 0.9335726 & 3.655352 & 0.6040713 & 2.825786 & ⋯ & 1.2570106 & 0.91073266 & 0.2868811 & 0.8479969 & 0.80735492 & 1.2448871 & 1.7697717 & 1.1634987 & 1.0840643 & 0.85598970\\\\\n",
       "\t5e010a9a-7f65-434b-ae4c-43948461187c.FPKM.txt.gz & 4.409391 & 2.0214797 & 2.336283 & 3.973611 & 2.063503 & 4.610582 & 2.5655972 & 5.360715 & 5.6892992 & 4.719731 & ⋯ & 0.2868811 & 0.05658353 & 0.1375035 & 0.6040713 & 0.04264434 & 0.2868811 & 0.4005379 & 0.1375035 & 0.1763228 & 0.12432814\\\\\n",
       "\tae59d924-06ec-428d-b470-e78ed92c5e36.FPKM.txt.gz & 2.821710 & 6.0205911 & 3.032101 & 3.856986 & 1.056584 & 1.970854 & 0.9030383 & 3.112700 & 1.0976108 & 2.687061 & ⋯ & 0.7824086 & 0.26303441 & 1.0496308 & 0.4222330 & 0.79077204 & 0.3103401 & 0.8797058 & 0.0000000 & 0.3103401 & 0.07038933\\\\\n",
       "\\end{tabular}\n"
      ],
      "text/markdown": [
       "\n",
       "A data.frame: 6 × 3000\n",
       "\n",
       "| <!--/--> | ENSG00000000938 &lt;dbl&gt; | ENSG00000001084 &lt;dbl&gt; | ENSG00000001631 &lt;dbl&gt; | ENSG00000002933 &lt;dbl&gt; | ENSG00000003147 &lt;dbl&gt; | ENSG00000003436 &lt;dbl&gt; | ENSG00000003989 &lt;dbl&gt; | ENSG00000004399 &lt;dbl&gt; | ENSG00000004776 &lt;dbl&gt; | ENSG00000004799 &lt;dbl&gt; | ⋯ ⋯ | ENSG00000273284 &lt;dbl&gt; | ENSG00000273302 &lt;dbl&gt; | ENSG00000273338 &lt;dbl&gt; | ENSG00000273340 &lt;dbl&gt; | ENSG00000273350 &lt;dbl&gt; | ENSG00000273369 &lt;dbl&gt; | ENSG00000273373 &lt;dbl&gt; | ENSG00000273399 &lt;dbl&gt; | ENSG00000273449 &lt;dbl&gt; | ENSG00000273474 &lt;dbl&gt; |\n",
       "|---|---|---|---|---|---|---|---|---|---|---|---|---|---|---|---|---|---|---|---|---|---|\n",
       "| dc0ce32f-d5aa-489f-ba4b-e01443815121.FPKM.txt.gz | 2.389567 | 3.6735564 | 2.381283 | 3.494416 | 3.283922 | 4.821710 | 2.8639385 | 4.918863 | 1.3895668 | 3.649615 | ⋯ | 0.4646683 | 0.16349873 | 0.3785116 | 0.3785116 | 0.21412481 | 0.0976108 | 0.7311832 | 0.0000000 | 0.2750070 | 0.12432814 |\n",
       "| 2b33014e-c7ff-41aa-82bf-3121756639ad.FPKM.txt.gz | 1.819668 | 6.4294486 | 3.701549 | 2.555816 | 1.438293 | 1.811471 | 0.3785116 | 2.538538 | 1.1763228 | 1.722466 | ⋯ | 1.8032270 | 0.48542683 | 0.1763228 | 1.6825733 | 0.56559718 | 0.4646683 | 1.0908534 | 0.0976108 | 0.5360529 | 0.05658353 |\n",
       "| 397e302e-393e-4f54-b360-fcffe394271e.FPKM.txt.gz | 1.536053 | 5.3902550 | 1.992768 | 3.111031 | 3.846995 | 3.404631 | 4.9731520 | 2.678072 | 1.6369146 | 1.257011 | ⋯ | 1.2570106 | 0.32192809 | 0.3673711 | 0.2630344 | 0.46466827 | 0.3895668 | 1.8599695 | 0.4005379 | 0.9486008 | 0.97085365 |\n",
       "| 037b5a94-487e-4f5b-90a3-d696eb4a8a3e.FPKM.txt.gz | 2.350497 | 0.9708537 | 2.833902 | 4.000901 | 2.757023 | 3.032101 | 0.9335726 | 3.655352 | 0.6040713 | 2.825786 | ⋯ | 1.2570106 | 0.91073266 | 0.2868811 | 0.8479969 | 0.80735492 | 1.2448871 | 1.7697717 | 1.1634987 | 1.0840643 | 0.85598970 |\n",
       "| 5e010a9a-7f65-434b-ae4c-43948461187c.FPKM.txt.gz | 4.409391 | 2.0214797 | 2.336283 | 3.973611 | 2.063503 | 4.610582 | 2.5655972 | 5.360715 | 5.6892992 | 4.719731 | ⋯ | 0.2868811 | 0.05658353 | 0.1375035 | 0.6040713 | 0.04264434 | 0.2868811 | 0.4005379 | 0.1375035 | 0.1763228 | 0.12432814 |\n",
       "| ae59d924-06ec-428d-b470-e78ed92c5e36.FPKM.txt.gz | 2.821710 | 6.0205911 | 3.032101 | 3.856986 | 1.056584 | 1.970854 | 0.9030383 | 3.112700 | 1.0976108 | 2.687061 | ⋯ | 0.7824086 | 0.26303441 | 1.0496308 | 0.4222330 | 0.79077204 | 0.3103401 | 0.8797058 | 0.0000000 | 0.3103401 | 0.07038933 |\n",
       "\n"
      ],
      "text/plain": [
       "                                                 ENSG00000000938\n",
       "dc0ce32f-d5aa-489f-ba4b-e01443815121.FPKM.txt.gz 2.389567       \n",
       "2b33014e-c7ff-41aa-82bf-3121756639ad.FPKM.txt.gz 1.819668       \n",
       "397e302e-393e-4f54-b360-fcffe394271e.FPKM.txt.gz 1.536053       \n",
       "037b5a94-487e-4f5b-90a3-d696eb4a8a3e.FPKM.txt.gz 2.350497       \n",
       "5e010a9a-7f65-434b-ae4c-43948461187c.FPKM.txt.gz 4.409391       \n",
       "ae59d924-06ec-428d-b470-e78ed92c5e36.FPKM.txt.gz 2.821710       \n",
       "                                                 ENSG00000001084\n",
       "dc0ce32f-d5aa-489f-ba4b-e01443815121.FPKM.txt.gz 3.6735564      \n",
       "2b33014e-c7ff-41aa-82bf-3121756639ad.FPKM.txt.gz 6.4294486      \n",
       "397e302e-393e-4f54-b360-fcffe394271e.FPKM.txt.gz 5.3902550      \n",
       "037b5a94-487e-4f5b-90a3-d696eb4a8a3e.FPKM.txt.gz 0.9708537      \n",
       "5e010a9a-7f65-434b-ae4c-43948461187c.FPKM.txt.gz 2.0214797      \n",
       "ae59d924-06ec-428d-b470-e78ed92c5e36.FPKM.txt.gz 6.0205911      \n",
       "                                                 ENSG00000001631\n",
       "dc0ce32f-d5aa-489f-ba4b-e01443815121.FPKM.txt.gz 2.381283       \n",
       "2b33014e-c7ff-41aa-82bf-3121756639ad.FPKM.txt.gz 3.701549       \n",
       "397e302e-393e-4f54-b360-fcffe394271e.FPKM.txt.gz 1.992768       \n",
       "037b5a94-487e-4f5b-90a3-d696eb4a8a3e.FPKM.txt.gz 2.833902       \n",
       "5e010a9a-7f65-434b-ae4c-43948461187c.FPKM.txt.gz 2.336283       \n",
       "ae59d924-06ec-428d-b470-e78ed92c5e36.FPKM.txt.gz 3.032101       \n",
       "                                                 ENSG00000002933\n",
       "dc0ce32f-d5aa-489f-ba4b-e01443815121.FPKM.txt.gz 3.494416       \n",
       "2b33014e-c7ff-41aa-82bf-3121756639ad.FPKM.txt.gz 2.555816       \n",
       "397e302e-393e-4f54-b360-fcffe394271e.FPKM.txt.gz 3.111031       \n",
       "037b5a94-487e-4f5b-90a3-d696eb4a8a3e.FPKM.txt.gz 4.000901       \n",
       "5e010a9a-7f65-434b-ae4c-43948461187c.FPKM.txt.gz 3.973611       \n",
       "ae59d924-06ec-428d-b470-e78ed92c5e36.FPKM.txt.gz 3.856986       \n",
       "                                                 ENSG00000003147\n",
       "dc0ce32f-d5aa-489f-ba4b-e01443815121.FPKM.txt.gz 3.283922       \n",
       "2b33014e-c7ff-41aa-82bf-3121756639ad.FPKM.txt.gz 1.438293       \n",
       "397e302e-393e-4f54-b360-fcffe394271e.FPKM.txt.gz 3.846995       \n",
       "037b5a94-487e-4f5b-90a3-d696eb4a8a3e.FPKM.txt.gz 2.757023       \n",
       "5e010a9a-7f65-434b-ae4c-43948461187c.FPKM.txt.gz 2.063503       \n",
       "ae59d924-06ec-428d-b470-e78ed92c5e36.FPKM.txt.gz 1.056584       \n",
       "                                                 ENSG00000003436\n",
       "dc0ce32f-d5aa-489f-ba4b-e01443815121.FPKM.txt.gz 4.821710       \n",
       "2b33014e-c7ff-41aa-82bf-3121756639ad.FPKM.txt.gz 1.811471       \n",
       "397e302e-393e-4f54-b360-fcffe394271e.FPKM.txt.gz 3.404631       \n",
       "037b5a94-487e-4f5b-90a3-d696eb4a8a3e.FPKM.txt.gz 3.032101       \n",
       "5e010a9a-7f65-434b-ae4c-43948461187c.FPKM.txt.gz 4.610582       \n",
       "ae59d924-06ec-428d-b470-e78ed92c5e36.FPKM.txt.gz 1.970854       \n",
       "                                                 ENSG00000003989\n",
       "dc0ce32f-d5aa-489f-ba4b-e01443815121.FPKM.txt.gz 2.8639385      \n",
       "2b33014e-c7ff-41aa-82bf-3121756639ad.FPKM.txt.gz 0.3785116      \n",
       "397e302e-393e-4f54-b360-fcffe394271e.FPKM.txt.gz 4.9731520      \n",
       "037b5a94-487e-4f5b-90a3-d696eb4a8a3e.FPKM.txt.gz 0.9335726      \n",
       "5e010a9a-7f65-434b-ae4c-43948461187c.FPKM.txt.gz 2.5655972      \n",
       "ae59d924-06ec-428d-b470-e78ed92c5e36.FPKM.txt.gz 0.9030383      \n",
       "                                                 ENSG00000004399\n",
       "dc0ce32f-d5aa-489f-ba4b-e01443815121.FPKM.txt.gz 4.918863       \n",
       "2b33014e-c7ff-41aa-82bf-3121756639ad.FPKM.txt.gz 2.538538       \n",
       "397e302e-393e-4f54-b360-fcffe394271e.FPKM.txt.gz 2.678072       \n",
       "037b5a94-487e-4f5b-90a3-d696eb4a8a3e.FPKM.txt.gz 3.655352       \n",
       "5e010a9a-7f65-434b-ae4c-43948461187c.FPKM.txt.gz 5.360715       \n",
       "ae59d924-06ec-428d-b470-e78ed92c5e36.FPKM.txt.gz 3.112700       \n",
       "                                                 ENSG00000004776\n",
       "dc0ce32f-d5aa-489f-ba4b-e01443815121.FPKM.txt.gz 1.3895668      \n",
       "2b33014e-c7ff-41aa-82bf-3121756639ad.FPKM.txt.gz 1.1763228      \n",
       "397e302e-393e-4f54-b360-fcffe394271e.FPKM.txt.gz 1.6369146      \n",
       "037b5a94-487e-4f5b-90a3-d696eb4a8a3e.FPKM.txt.gz 0.6040713      \n",
       "5e010a9a-7f65-434b-ae4c-43948461187c.FPKM.txt.gz 5.6892992      \n",
       "ae59d924-06ec-428d-b470-e78ed92c5e36.FPKM.txt.gz 1.0976108      \n",
       "                                                 ENSG00000004799 ⋯\n",
       "dc0ce32f-d5aa-489f-ba4b-e01443815121.FPKM.txt.gz 3.649615        ⋯\n",
       "2b33014e-c7ff-41aa-82bf-3121756639ad.FPKM.txt.gz 1.722466        ⋯\n",
       "397e302e-393e-4f54-b360-fcffe394271e.FPKM.txt.gz 1.257011        ⋯\n",
       "037b5a94-487e-4f5b-90a3-d696eb4a8a3e.FPKM.txt.gz 2.825786        ⋯\n",
       "5e010a9a-7f65-434b-ae4c-43948461187c.FPKM.txt.gz 4.719731        ⋯\n",
       "ae59d924-06ec-428d-b470-e78ed92c5e36.FPKM.txt.gz 2.687061        ⋯\n",
       "                                                 ENSG00000273284\n",
       "dc0ce32f-d5aa-489f-ba4b-e01443815121.FPKM.txt.gz 0.4646683      \n",
       "2b33014e-c7ff-41aa-82bf-3121756639ad.FPKM.txt.gz 1.8032270      \n",
       "397e302e-393e-4f54-b360-fcffe394271e.FPKM.txt.gz 1.2570106      \n",
       "037b5a94-487e-4f5b-90a3-d696eb4a8a3e.FPKM.txt.gz 1.2570106      \n",
       "5e010a9a-7f65-434b-ae4c-43948461187c.FPKM.txt.gz 0.2868811      \n",
       "ae59d924-06ec-428d-b470-e78ed92c5e36.FPKM.txt.gz 0.7824086      \n",
       "                                                 ENSG00000273302\n",
       "dc0ce32f-d5aa-489f-ba4b-e01443815121.FPKM.txt.gz 0.16349873     \n",
       "2b33014e-c7ff-41aa-82bf-3121756639ad.FPKM.txt.gz 0.48542683     \n",
       "397e302e-393e-4f54-b360-fcffe394271e.FPKM.txt.gz 0.32192809     \n",
       "037b5a94-487e-4f5b-90a3-d696eb4a8a3e.FPKM.txt.gz 0.91073266     \n",
       "5e010a9a-7f65-434b-ae4c-43948461187c.FPKM.txt.gz 0.05658353     \n",
       "ae59d924-06ec-428d-b470-e78ed92c5e36.FPKM.txt.gz 0.26303441     \n",
       "                                                 ENSG00000273338\n",
       "dc0ce32f-d5aa-489f-ba4b-e01443815121.FPKM.txt.gz 0.3785116      \n",
       "2b33014e-c7ff-41aa-82bf-3121756639ad.FPKM.txt.gz 0.1763228      \n",
       "397e302e-393e-4f54-b360-fcffe394271e.FPKM.txt.gz 0.3673711      \n",
       "037b5a94-487e-4f5b-90a3-d696eb4a8a3e.FPKM.txt.gz 0.2868811      \n",
       "5e010a9a-7f65-434b-ae4c-43948461187c.FPKM.txt.gz 0.1375035      \n",
       "ae59d924-06ec-428d-b470-e78ed92c5e36.FPKM.txt.gz 1.0496308      \n",
       "                                                 ENSG00000273340\n",
       "dc0ce32f-d5aa-489f-ba4b-e01443815121.FPKM.txt.gz 0.3785116      \n",
       "2b33014e-c7ff-41aa-82bf-3121756639ad.FPKM.txt.gz 1.6825733      \n",
       "397e302e-393e-4f54-b360-fcffe394271e.FPKM.txt.gz 0.2630344      \n",
       "037b5a94-487e-4f5b-90a3-d696eb4a8a3e.FPKM.txt.gz 0.8479969      \n",
       "5e010a9a-7f65-434b-ae4c-43948461187c.FPKM.txt.gz 0.6040713      \n",
       "ae59d924-06ec-428d-b470-e78ed92c5e36.FPKM.txt.gz 0.4222330      \n",
       "                                                 ENSG00000273350\n",
       "dc0ce32f-d5aa-489f-ba4b-e01443815121.FPKM.txt.gz 0.21412481     \n",
       "2b33014e-c7ff-41aa-82bf-3121756639ad.FPKM.txt.gz 0.56559718     \n",
       "397e302e-393e-4f54-b360-fcffe394271e.FPKM.txt.gz 0.46466827     \n",
       "037b5a94-487e-4f5b-90a3-d696eb4a8a3e.FPKM.txt.gz 0.80735492     \n",
       "5e010a9a-7f65-434b-ae4c-43948461187c.FPKM.txt.gz 0.04264434     \n",
       "ae59d924-06ec-428d-b470-e78ed92c5e36.FPKM.txt.gz 0.79077204     \n",
       "                                                 ENSG00000273369\n",
       "dc0ce32f-d5aa-489f-ba4b-e01443815121.FPKM.txt.gz 0.0976108      \n",
       "2b33014e-c7ff-41aa-82bf-3121756639ad.FPKM.txt.gz 0.4646683      \n",
       "397e302e-393e-4f54-b360-fcffe394271e.FPKM.txt.gz 0.3895668      \n",
       "037b5a94-487e-4f5b-90a3-d696eb4a8a3e.FPKM.txt.gz 1.2448871      \n",
       "5e010a9a-7f65-434b-ae4c-43948461187c.FPKM.txt.gz 0.2868811      \n",
       "ae59d924-06ec-428d-b470-e78ed92c5e36.FPKM.txt.gz 0.3103401      \n",
       "                                                 ENSG00000273373\n",
       "dc0ce32f-d5aa-489f-ba4b-e01443815121.FPKM.txt.gz 0.7311832      \n",
       "2b33014e-c7ff-41aa-82bf-3121756639ad.FPKM.txt.gz 1.0908534      \n",
       "397e302e-393e-4f54-b360-fcffe394271e.FPKM.txt.gz 1.8599695      \n",
       "037b5a94-487e-4f5b-90a3-d696eb4a8a3e.FPKM.txt.gz 1.7697717      \n",
       "5e010a9a-7f65-434b-ae4c-43948461187c.FPKM.txt.gz 0.4005379      \n",
       "ae59d924-06ec-428d-b470-e78ed92c5e36.FPKM.txt.gz 0.8797058      \n",
       "                                                 ENSG00000273399\n",
       "dc0ce32f-d5aa-489f-ba4b-e01443815121.FPKM.txt.gz 0.0000000      \n",
       "2b33014e-c7ff-41aa-82bf-3121756639ad.FPKM.txt.gz 0.0976108      \n",
       "397e302e-393e-4f54-b360-fcffe394271e.FPKM.txt.gz 0.4005379      \n",
       "037b5a94-487e-4f5b-90a3-d696eb4a8a3e.FPKM.txt.gz 1.1634987      \n",
       "5e010a9a-7f65-434b-ae4c-43948461187c.FPKM.txt.gz 0.1375035      \n",
       "ae59d924-06ec-428d-b470-e78ed92c5e36.FPKM.txt.gz 0.0000000      \n",
       "                                                 ENSG00000273449\n",
       "dc0ce32f-d5aa-489f-ba4b-e01443815121.FPKM.txt.gz 0.2750070      \n",
       "2b33014e-c7ff-41aa-82bf-3121756639ad.FPKM.txt.gz 0.5360529      \n",
       "397e302e-393e-4f54-b360-fcffe394271e.FPKM.txt.gz 0.9486008      \n",
       "037b5a94-487e-4f5b-90a3-d696eb4a8a3e.FPKM.txt.gz 1.0840643      \n",
       "5e010a9a-7f65-434b-ae4c-43948461187c.FPKM.txt.gz 0.1763228      \n",
       "ae59d924-06ec-428d-b470-e78ed92c5e36.FPKM.txt.gz 0.3103401      \n",
       "                                                 ENSG00000273474\n",
       "dc0ce32f-d5aa-489f-ba4b-e01443815121.FPKM.txt.gz 0.12432814     \n",
       "2b33014e-c7ff-41aa-82bf-3121756639ad.FPKM.txt.gz 0.05658353     \n",
       "397e302e-393e-4f54-b360-fcffe394271e.FPKM.txt.gz 0.97085365     \n",
       "037b5a94-487e-4f5b-90a3-d696eb4a8a3e.FPKM.txt.gz 0.85598970     \n",
       "5e010a9a-7f65-434b-ae4c-43948461187c.FPKM.txt.gz 0.12432814     \n",
       "ae59d924-06ec-428d-b470-e78ed92c5e36.FPKM.txt.gz 0.07038933     "
      ]
     },
     "metadata": {},
     "output_type": "display_data"
    }
   ],
   "source": [
    "head(datExpr)"
   ]
  },
  {
   "cell_type": "code",
   "execution_count": 20,
   "metadata": {},
   "outputs": [
    {
     "data": {
      "text/html": [
       "<table>\n",
       "<caption>A data.frame: 6 × 2</caption>\n",
       "<thead>\n",
       "\t<tr><th></th><th scope=col>cancer.type</th><th scope=col>Subtype_Selected</th></tr>\n",
       "\t<tr><th></th><th scope=col>&lt;chr&gt;</th><th scope=col>&lt;chr&gt;</th></tr>\n",
       "</thead>\n",
       "<tbody>\n",
       "\t<tr><th scope=row>dc0ce32f-d5aa-489f-ba4b-e01443815121.FPKM.txt.gz</th><td>LUAD</td><td>LUAD.5        </td></tr>\n",
       "\t<tr><th scope=row>2b33014e-c7ff-41aa-82bf-3121756639ad.FPKM.txt.gz</th><td>LUSC</td><td>LUSC.primitive</td></tr>\n",
       "\t<tr><th scope=row>397e302e-393e-4f54-b360-fcffe394271e.FPKM.txt.gz</th><td>LUAD</td><td>LUAD.1        </td></tr>\n",
       "\t<tr><th scope=row>037b5a94-487e-4f5b-90a3-d696eb4a8a3e.FPKM.txt.gz</th><td>LUAD</td><td>LUAD.4        </td></tr>\n",
       "\t<tr><th scope=row>5e010a9a-7f65-434b-ae4c-43948461187c.FPKM.txt.gz</th><td>LUSC</td><td>LUSC.classical</td></tr>\n",
       "\t<tr><th scope=row>ae59d924-06ec-428d-b470-e78ed92c5e36.FPKM.txt.gz</th><td>LUSC</td><td>LUSC.classical</td></tr>\n",
       "</tbody>\n",
       "</table>\n"
      ],
      "text/latex": [
       "A data.frame: 6 × 2\n",
       "\\begin{tabular}{r|ll}\n",
       "  & cancer.type & Subtype\\_Selected\\\\\n",
       "  & <chr> & <chr>\\\\\n",
       "\\hline\n",
       "\tdc0ce32f-d5aa-489f-ba4b-e01443815121.FPKM.txt.gz & LUAD & LUAD.5        \\\\\n",
       "\t2b33014e-c7ff-41aa-82bf-3121756639ad.FPKM.txt.gz & LUSC & LUSC.primitive\\\\\n",
       "\t397e302e-393e-4f54-b360-fcffe394271e.FPKM.txt.gz & LUAD & LUAD.1        \\\\\n",
       "\t037b5a94-487e-4f5b-90a3-d696eb4a8a3e.FPKM.txt.gz & LUAD & LUAD.4        \\\\\n",
       "\t5e010a9a-7f65-434b-ae4c-43948461187c.FPKM.txt.gz & LUSC & LUSC.classical\\\\\n",
       "\tae59d924-06ec-428d-b470-e78ed92c5e36.FPKM.txt.gz & LUSC & LUSC.classical\\\\\n",
       "\\end{tabular}\n"
      ],
      "text/markdown": [
       "\n",
       "A data.frame: 6 × 2\n",
       "\n",
       "| <!--/--> | cancer.type &lt;chr&gt; | Subtype_Selected &lt;chr&gt; |\n",
       "|---|---|---|\n",
       "| dc0ce32f-d5aa-489f-ba4b-e01443815121.FPKM.txt.gz | LUAD | LUAD.5         |\n",
       "| 2b33014e-c7ff-41aa-82bf-3121756639ad.FPKM.txt.gz | LUSC | LUSC.primitive |\n",
       "| 397e302e-393e-4f54-b360-fcffe394271e.FPKM.txt.gz | LUAD | LUAD.1         |\n",
       "| 037b5a94-487e-4f5b-90a3-d696eb4a8a3e.FPKM.txt.gz | LUAD | LUAD.4         |\n",
       "| 5e010a9a-7f65-434b-ae4c-43948461187c.FPKM.txt.gz | LUSC | LUSC.classical |\n",
       "| ae59d924-06ec-428d-b470-e78ed92c5e36.FPKM.txt.gz | LUSC | LUSC.classical |\n",
       "\n"
      ],
      "text/plain": [
       "                                                 cancer.type Subtype_Selected\n",
       "dc0ce32f-d5aa-489f-ba4b-e01443815121.FPKM.txt.gz LUAD        LUAD.5          \n",
       "2b33014e-c7ff-41aa-82bf-3121756639ad.FPKM.txt.gz LUSC        LUSC.primitive  \n",
       "397e302e-393e-4f54-b360-fcffe394271e.FPKM.txt.gz LUAD        LUAD.1          \n",
       "037b5a94-487e-4f5b-90a3-d696eb4a8a3e.FPKM.txt.gz LUAD        LUAD.4          \n",
       "5e010a9a-7f65-434b-ae4c-43948461187c.FPKM.txt.gz LUSC        LUSC.classical  \n",
       "ae59d924-06ec-428d-b470-e78ed92c5e36.FPKM.txt.gz LUSC        LUSC.classical  "
      ]
     },
     "metadata": {},
     "output_type": "display_data"
    }
   ],
   "source": [
    "rownames(allTraits) <- allTraits$file_name\n",
    "datTraits <- allTraits[keepSamples,labels]\n",
    "rownames(datTraits) <- rownames(allTraits[keepSamples,labels])\n",
    "datTraits <- datTraits[rownames(datExpr),]\n",
    "head(datTraits)"
   ]
  },
  {
   "cell_type": "code",
   "execution_count": 21,
   "metadata": {},
   "outputs": [],
   "source": [
    "collectGarbage();"
   ]
  },
  {
   "cell_type": "code",
   "execution_count": 22,
   "metadata": {},
   "outputs": [
    {
     "data": {
      "text/html": [
       "<strong>png:</strong> 2"
      ],
      "text/latex": [
       "\\textbf{png:} 2"
      ],
      "text/markdown": [
       "**png:** 2"
      ],
      "text/plain": [
       "png \n",
       "  2 "
      ]
     },
     "metadata": {},
     "output_type": "display_data"
    }
   ],
   "source": [
    "# Re-cluster samples\n",
    "sampleTree2 = hclust(dist(datExpr), method = \"average\")\n",
    "fontsize=.5\n",
    "# Convert traits to a color representation: white means low, red means high, grey means missing entry\n",
    "traitColors = labels2colors(datTraits);\n",
    "# Plot the sample dendrogram and the colors underneath.\n",
    "pdf(\"samplehiercut.pdf\")\n",
    "plotDendroAndColors(sampleTree2, traitColors,\n",
    "    groupLabels = labels,\n",
    "    main = \"Sample dendrogram and trait heatmap\",\n",
    "    dendroLabels=FALSE,\n",
    "    rowText=datTraits,\n",
    "    rowTextIgnore=labels[[2]]\n",
    "    )\n",
    "dev.off()"
   ]
  },
  {
   "cell_type": "markdown",
   "metadata": {},
   "source": [
    "## 2"
   ]
  },
  {
   "cell_type": "code",
   "execution_count": 23,
   "metadata": {},
   "outputs": [
    {
     "name": "stdout",
     "output_type": "stream",
     "text": [
      "pickSoftThreshold: will use block size 3000.\n",
      " pickSoftThreshold: calculating connectivity for given powers...\n",
      "   ..working on genes 1 through 3000 of 3000\n",
      "   Power SFT.R.sq  slope truncated.R.sq  mean.k. median.k. max.k.\n",
      "1      1   0.0142  0.197          0.960 464.0000  4.57e+02 866.00\n",
      "2      2   0.4760 -0.902          0.932 130.0000  1.14e+02 367.00\n",
      "3      3   0.6160 -1.240          0.759  50.8000  3.62e+01 190.00\n",
      "4      4   0.9210 -1.210          0.977  24.6000  1.33e+01 128.00\n",
      "5      5   0.9440 -1.370          0.983  13.8000  5.48e+00 106.00\n",
      "6      6   0.9560 -1.400          0.974   8.5500  2.40e+00  89.80\n",
      "7      7   0.9410 -1.430          0.951   5.7100  1.12e+00  77.80\n",
      "8      8   0.9600 -1.410          0.961   4.0300  5.60e-01  68.30\n",
      "9      9   0.9720 -1.390          0.969   2.9700  2.98e-01  60.60\n",
      "10    10   0.9760 -1.370          0.973   2.2600  1.62e-01  54.30\n",
      "11    12   0.9650 -1.330          0.957   1.4100  4.93e-02  44.50\n",
      "12    14   0.9920 -1.280          0.991   0.9520  1.76e-02  37.40\n",
      "13    16   0.9960 -1.250          0.995   0.6760  6.45e-03  31.90\n",
      "14    18   0.9850 -1.220          0.982   0.5010  2.50e-03  27.60\n",
      "15    20   0.9900 -1.190          0.988   0.3830  9.45e-04  24.20\n",
      "16    22   0.9780 -1.190          0.972   0.3000  3.77e-04  21.30\n",
      "17    24   0.9810 -1.180          0.976   0.2410  1.57e-04  19.20\n",
      "18    26   0.9790 -1.160          0.975   0.1960  6.38e-05  17.40\n",
      "19    28   0.9740 -1.150          0.968   0.1630  2.55e-05  15.80\n",
      "20    30   0.9720 -1.130          0.967   0.1370  1.07e-05  14.50\n",
      "21    32   0.9890 -1.130          0.987   0.1160  4.48e-06  13.30\n",
      "22    34   0.9890 -1.110          0.989   0.0994  1.89e-06  12.30\n",
      "23    36   0.9870 -1.100          0.987   0.0860  7.84e-07  11.40\n",
      "24    38   0.9740 -1.100          0.976   0.0750  3.42e-07  10.50\n",
      "25    40   0.9220 -1.120          0.915   0.0658  1.47e-07   9.81\n",
      "26    42   0.3230 -1.470          0.156   0.0581  6.23e-08   9.15\n",
      "27    44   0.9750 -1.100          0.972   0.0516  2.73e-08   8.56\n",
      "28    46   0.9770 -1.090          0.972   0.0461  1.17e-08   8.02\n",
      "29    48   0.9770 -1.070          0.973   0.0414  5.02e-09   7.53\n",
      "30    50   0.9780 -1.070          0.977   0.0372  2.19e-09   7.08\n"
     ]
    },
    {
     "data": {
      "text/html": [
       "<strong>png:</strong> 2"
      ],
      "text/latex": [
       "\\textbf{png:} 2"
      ],
      "text/markdown": [
       "**png:** 2"
      ],
      "text/plain": [
       "png \n",
       "  2 "
      ]
     },
     "metadata": {},
     "output_type": "display_data"
    }
   ],
   "source": [
    "# Choose a set of soft-thresholding powers\n",
    "powers = c(c(1:10), seq(from = 12, to=50, by=2))\n",
    "# Call the network topology analysis function\n",
    "sft = pickSoftThreshold(datExpr, powerVector = powers, verbose = 5)\n",
    "# Plot the results:\n",
    "sizeGrWindow(9, 5)\n",
    "pdf(\"scaletopology.pdf\")\n",
    "par(mfrow = c(1,2));\n",
    "cex1 = 0.9;\n",
    "# Scale-free topology fit index as a function of the soft-thresholding power\n",
    "plot(sft$fitIndices[,1], -sign(sft$fitIndices[,3])*sft$fitIndices[,2],\n",
    "xlab=\"Soft Threshold (power)\",ylab=\"Scale Free Topology Model Fit,signed R^2\",type=\"n\",\n",
    "main = paste(\"Scale independence\"));\n",
    "text(sft$fitIndices[,1], -sign(sft$fitIndices[,3])*sft$fitIndices[,2],\n",
    "labels=powers,cex=cex1,col=\"red\");\n",
    "# this line corresponds to using an R^2 cut-off of h\n",
    "abline(h=0.90,col=\"red\")\n",
    "# Mean connectivity as a function of the soft-thresholding power\n",
    "plot(sft$fitIndices[,1], sft$fitIndices[,5],\n",
    "xlab=\"Soft Threshold (power)\",ylab=\"Mean Connectivity\", type=\"n\",\n",
    "main = paste(\"Mean connectivity\"))\n",
    "text(sft$fitIndices[,1], sft$fitIndices[,5], labels=powers, cex=cex1,col=\"red\")\n",
    "dev.off()"
   ]
  },
  {
   "cell_type": "code",
   "execution_count": 24,
   "metadata": {},
   "outputs": [
    {
     "name": "stdout",
     "output_type": "stream",
     "text": [
      " Calculating module eigengenes block-wise from all genes\n",
      "   Flagging genes and samples with too many missing values...\n",
      "    ..step 1\n",
      " ..Working on block 1 .\n",
      "    TOM calculation: adjacency..\n",
      "    ..will use 2 parallel threads.\n",
      "     Fraction of slow calculations: 0.000000\n",
      "    ..connectivity..\n",
      "    ..matrix multiplication (system BLAS)..\n",
      "    ..normalization..\n",
      "    ..done.\n",
      "   ..saving TOM for block 1 into file wgcna-block.1.RData\n",
      " ....clustering..\n",
      " ....detecting modules..\n",
      " ....calculating module eigengenes..\n",
      " ....checking kME in modules..\n",
      " ..merging modules that are too close..\n",
      "     mergeCloseModules: Merging modules whose distance is less than 0.2\n",
      "       Calculating new MEs...\n"
     ]
    }
   ],
   "source": [
    "net = blockwiseModules(datExpr, power = 30,\n",
    "TOMType = \"unsigned\", minModuleSize = 5,\n",
    "reassignThreshold = 0, mergeCutHeight = 0.2,\n",
    "numericLabels = TRUE, pamRespectsDendro = FALSE,\n",
    "saveTOMs = TRUE,\n",
    "saveTOMFileBase = \"wgcna\",\n",
    "verbose = 3)"
   ]
  },
  {
   "cell_type": "code",
   "execution_count": 25,
   "metadata": {},
   "outputs": [
    {
     "data": {
      "text/html": [
       "<strong>png:</strong> 2"
      ],
      "text/latex": [
       "\\textbf{png:} 2"
      ],
      "text/markdown": [
       "**png:** 2"
      ],
      "text/plain": [
       "png \n",
       "  2 "
      ]
     },
     "metadata": {},
     "output_type": "display_data"
    }
   ],
   "source": [
    "# open a graphics window\n",
    "sizeGrWindow(12, 9)\n",
    "pdf(\"netdendograms.pdf\")\n",
    "# Convert labels to colors for plotting\n",
    "mergedColors = labels2colors(net$colors)\n",
    "# Plot the dendrogram and the module colors underneath\n",
    "plotDendroAndColors(net$dendrograms[[1]], mergedColors[net$blockGenes[[1]]],\n",
    "\"Module colors\",\n",
    "dendroLabels = FALSE, hang = 0.03,\n",
    "addGuide = TRUE, guideHang = 0.05)\n",
    "dev.off()"
   ]
  },
  {
   "cell_type": "code",
   "execution_count": 26,
   "metadata": {},
   "outputs": [],
   "source": [
    "moduleLabels = net$colors\n",
    "moduleColors = labels2colors(net$colors)\n",
    "MEs = net$MEs;\n",
    "geneTree = net$dendrograms[[1]];"
   ]
  },
  {
   "cell_type": "markdown",
   "metadata": {},
   "source": [
    "## 3"
   ]
  },
  {
   "cell_type": "code",
   "execution_count": 27,
   "metadata": {},
   "outputs": [],
   "source": [
    "datTraits$cancer.type <- match(datTraits$cancer.type, unique(datTraits$cancer.type))\n",
    "datTraits$Subtype_Selected <- match(datTraits$Subtype_Selected, unique(datTraits$Subtype_Selected))"
   ]
  },
  {
   "cell_type": "code",
   "execution_count": 28,
   "metadata": {},
   "outputs": [],
   "source": [
    "# Define numbers of genes and samples\n",
    "nGenes = ncol(datExpr);\n",
    "nSamples = nrow(datExpr);\n",
    "# Recalculate MEs with color labels\n",
    "MEs0 = moduleEigengenes(datExpr, moduleColors)$eigengenes\n",
    "MEs = orderMEs(MEs0)\n",
    "moduleTraitCor = cor(MEs, datTraits, use = \"p\");\n",
    "moduleTraitPvalue = corPvalueStudent(moduleTraitCor, nSamples);"
   ]
  },
  {
   "cell_type": "code",
   "execution_count": 29,
   "metadata": {},
   "outputs": [
    {
     "data": {
      "text/html": [
       "<strong>png:</strong> 2"
      ],
      "text/latex": [
       "\\textbf{png:} 2"
      ],
      "text/markdown": [
       "**png:** 2"
      ],
      "text/plain": [
       "png \n",
       "  2 "
      ]
     },
     "metadata": {},
     "output_type": "display_data"
    }
   ],
   "source": [
    "pdf(\"moduleTrait.pdf\", width=9, height=18)\n",
    "# Will display correlations and their p-values\n",
    "textMatrix = paste(signif(moduleTraitCor, 2), \"\\n(\",\n",
    "signif(moduleTraitPvalue, 1), \")\", sep = \"\");\n",
    "dim(textMatrix) = dim(moduleTraitCor)\n",
    "par(mar = c(6, 8.5, 3, 3));\n",
    "# Display the correlation values within a heatmap plot\n",
    "labeledHeatmap(Matrix = moduleTraitCor,\n",
    "xLabels = labels,\n",
    "yLabels = names(MEs),\n",
    "ySymbols = names(MEs),\n",
    "colorLabels = FALSE,\n",
    "colors = blueWhiteRed(50),\n",
    "textMatrix = textMatrix,\n",
    "setStdMargins = FALSE,\n",
    "cex.text = 0.5,\n",
    "zlim = c(-1,1),\n",
    "main = paste(\"Module-trait relationships\"))\n",
    "dev.off()"
   ]
  },
  {
   "cell_type": "code",
   "execution_count": 30,
   "metadata": {},
   "outputs": [
    {
     "name": "stderr",
     "output_type": "stream",
     "text": [
      "Warning message in storage.mode(y) <- \"double\":\n",
      "“NAs introduced by coercion”\n"
     ]
    }
   ],
   "source": [
    "# Define variable weight containing the weight column of datTrait\n",
    "weight = as.data.frame(rownames(datTraits));\n",
    "names(weight) = \"weight\"\n",
    "# names (colors) of the modules\n",
    "modNames = substring(names(MEs), 3)\n",
    "geneModuleMembership = as.data.frame(cor(datExpr, MEs, use = \"p\"));\n",
    "MMPvalue = as.data.frame(corPvalueStudent(as.matrix(geneModuleMembership), nSamples));\n",
    "names(geneModuleMembership) = paste(\"MM\", modNames, sep=\"\");\n",
    "names(MMPvalue) = paste(\"p.MM\", modNames, sep=\"\");\n",
    "geneTraitSignificance = as.data.frame(cor(datExpr, weight, use = \"p\"));\n",
    "GSPvalue = as.data.frame(corPvalueStudent(as.matrix(geneTraitSignificance), nSamples));\n",
    "names(geneTraitSignificance) = paste(\"GS.\", names(weight), sep=\"\");\n",
    "names(GSPvalue) = paste(\"p.GS.\", names(weight), sep=\"\");"
   ]
  },
  {
   "cell_type": "code",
   "execution_count": 31,
   "metadata": {},
   "outputs": [
    {
     "ename": "ERROR",
     "evalue": "Error in abs(geneModuleMembership[moduleGenes, column]): non-numeric argument to mathematical function\n",
     "output_type": "error",
     "traceback": [
      "Error in abs(geneModuleMembership[moduleGenes, column]): non-numeric argument to mathematical function\nTraceback:\n",
      "1. verboseScatterplot(abs(geneModuleMembership[moduleGenes, column]), \n .     abs(geneTraitSignificance[moduleGenes, 1]), xlab = paste(\"Module Membership in\", \n .         module, \"module\"), ylab = \"Gene significance for primary_site\", \n .     main = paste(\"Module membership vs. gene significance\\n\"), \n .     cex.main = 1.2, cex.lab = 1.2, cex.axis = 1.2, col = module)"
     ]
    }
   ],
   "source": [
    "module = \"gray\"\n",
    "column = match(module, modNames);\n",
    "moduleGenes = moduleColors==module;\n",
    "sizeGrWindow(7, 7);\n",
    "pdf(\"modulemembership.pdf\")\n",
    "par(mfrow = c(1,1));\n",
    "verboseScatterplot(abs(geneModuleMembership[moduleGenes, column]),\n",
    "    abs(geneTraitSignificance[moduleGenes, 1]),\n",
    "    xlab = paste(\"Module Membership in\", module, \"module\"),\n",
    "    ylab = \"Gene significance for primary_site\",\n",
    "    main = paste(\"Module membership vs. gene significance\\n\"),\n",
    "    cex.main = 1.2, cex.lab = 1.2, cex.axis = 1.2, col = module)\n",
    "dev.off()"
   ]
  },
  {
   "cell_type": "markdown",
   "metadata": {},
   "source": [
    "## 5 "
   ]
  },
  {
   "cell_type": "code",
   "execution_count": null,
   "metadata": {},
   "outputs": [],
   "source": [
    "# Re-cluster samples\n",
    "sampleTree3 = hclust(dist(MEs0), method = \"average\")\n",
    "# Convert traits to a color representation: white means low, red means high, grey means missing entry\n",
    "traitColors = labels2colors(datTraits);\n",
    "# Plot the sample dendrogram and the colors underneath.\n",
    "pdf(\"nethier.pdf\", width=10)\n",
    "# Set the plot margin: bottom, left, top & right\n",
    "par(mar = c(5, 4, 1.4, 0.2) + 0.1,\n",
    "    xpd = NA) # allow content to go into outer margin \n",
    "plotDendroAndColors(sampleTree3, traitColors,\n",
    "groupLabels = labels,\n",
    "main = \"Network dendrogram and trait heatmap\",\n",
    "dendroLabels=FALSE,\n",
    "#rowText=allTraits[keepSamples,labels],\n",
    "#rowTextIgnore=labels[[2]],\n",
    "addGuide=TRUE)\n",
    "dev.off()"
   ]
  },
  {
   "cell_type": "code",
   "execution_count": null,
   "metadata": {},
   "outputs": [],
   "source": [
    "rownames(allTraits)=allTraits$file_name\n",
    "unique(allTraits[rownames(datTraits),'Subtype_Selected'])"
   ]
  },
  {
   "cell_type": "code",
   "execution_count": null,
   "metadata": {},
   "outputs": [],
   "source": [
    "svg(\"nethier_legend.svg\", width=10)\n",
    "add_legend(\"topleft\", legend = unique(allTraits[rownames(datTraits),'SMTS']), pch = 1, pt.cex = 1, cex = 1.5, bty = 'n', ncol=2,\n",
    "       inset = c(0.1, 0.), # place outside\n",
    "       title = \"SMTS\", \n",
    "       col = traitColors)\n",
    "dev.off()"
   ]
  },
  {
   "cell_type": "code",
   "execution_count": null,
   "metadata": {},
   "outputs": [],
   "source": [
    "collectGarbage()"
   ]
  },
  {
   "cell_type": "code",
   "execution_count": null,
   "metadata": {},
   "outputs": [],
   "source": [
    "clust = cutreeStatic(sampleTree3, cutHeight = 0.4, minSize = 10)\n",
    "table(clust)"
   ]
  },
  {
   "cell_type": "code",
   "execution_count": null,
   "metadata": {},
   "outputs": [],
   "source": [
    "# Re-cluster samples after cut\n",
    "sampleTree4 = hclust(dist(MEs0[(clust==1),]), method = \"average\")\n",
    "# Convert traits to a color representation: white means low, red means high, grey means missing entry\n",
    "traitColors = labels2colors(datTraits[(clust==1),]);\n",
    "# Plot the sample dendrogram and the colors underneath.\n",
    "svg(\"nethiercut.svg\")\n",
    "plotDendroAndColors(sampleTree4, traitColors,\n",
    "groupLabels = labels,\n",
    "main = \"Network dendrogram and trait heatmap\",\n",
    "dendroLabels=FALSE)\n",
    "dev.off()"
   ]
  },
  {
   "cell_type": "code",
   "execution_count": null,
   "metadata": {},
   "outputs": [],
   "source": [
    "# Calculate topological overlap anew: this could be done more efficiently by saving the TOM\n",
    "# calculated during module detection, but let us do it again here.\n",
    "dissTOM = 1-TOMsimilarityFromExpr(datExpr, power = 6);\n",
    "# Transform dissTOM with a power to make moderately strong connections more visible in the heatmap\n",
    "plotTOM = dissTOM^7;\n",
    "# Set diagonal to NA for a nicer plot\n",
    "diag(plotTOM) = NA;\n",
    "# Call the plot function\n",
    "sizeGrWindow(9,9)\n",
    "svg(\"networkmap.svg\")\n",
    "TOMplot(plotTOM, geneTree, moduleColors, main = \"Network heatmap plot, all genes\")\n",
    "dev.off()"
   ]
  },
  {
   "cell_type": "code",
   "execution_count": null,
   "metadata": {},
   "outputs": [],
   "source": [
    "#selct genes to be faster\n",
    "nSelect = nGenes*0.7\n",
    "# For reproducibility, we set the random seed\n",
    "set.seed(10);\n",
    "select = sample(nGenes, size = nSelect);\n",
    "selectTOM = dissTOM[select, select];\n",
    "# There’s no simple way of restricting a clustering tree to a subset of genes, so we must re-cluster.\n",
    "selectTree = hclust(as.dist(selectTOM), method = \"average\")\n",
    "selectColors = moduleColors[select];\n",
    "# Open a graphical window\n",
    "sizeGrWindow(9,9)\n",
    "svg(\"networkmap.svg\")\n",
    "# Taking the dissimilarity to a power, say 10, makes the plot more informative by effectively changing\n",
    "# the color palette; setting the diagonal to NA also improves the clarity of the plot\n",
    "plotDiss = selectTOM^7;\n",
    "diag(plotDiss) = NA;\n",
    "TOMplot(plotDiss, selectTree, selectColors, main = \"Network heatmap plot, selected genes\")\n",
    "dev.off()"
   ]
  },
  {
   "cell_type": "code",
   "execution_count": null,
   "metadata": {},
   "outputs": [],
   "source": [
    "# Recalculate module eigengenes\n",
    "MEs = moduleEigengenes(datExpr, moduleColors)$eigengenes\n",
    "# Isolate weight from the clinical traits\n",
    "weight = as.data.frame(datTraits$SMTS);\n",
    "names(weight) = \"SMTS\"\n",
    "# Add the weight to existing module eigengenes\n",
    "MET = orderMEs(cbind(MEs, weight))\n",
    "# Plot the relationships among the eigengenes and the trait\n",
    "sizeGrWindow(5,7.5);\n",
    "svg(\"eigenHeat.svg\")\n",
    "par(cex = 0.9)\n",
    "plotEigengeneNetworks(MET, \"\", marDendro = c(0,4,1,2), marHeatmap = c(3,4,1,2), cex.lab = 0.8, xLabelsAngle = 90)\n",
    "dev.off()"
   ]
  },
  {
   "cell_type": "code",
   "execution_count": null,
   "metadata": {},
   "outputs": [],
   "source": [
    "# Plot the dendrogram\n",
    "sizeGrWindow(6,6);\n",
    "svg(\"eigendendogram.svg\")\n",
    "par(cex = 1.0)\n",
    "plotEigengeneNetworks(MET, \"Eigengene dendrogram\", marDendro = c(0,4,2,0),\n",
    "plotHeatmaps = FALSE)\n",
    "# Plot the heatmap matrix (note: this plot will overwrite the dendrogram plot)\n",
    "par(cex = 1.0)\n",
    "plotEigengeneNetworks(MET, \"Eigengene adjacency heatmap\", marHeatmap = c(3,4,2,2),\n",
    "plotDendrograms = FALSE, xLabelsAngle = 90)\n",
    "dev.off()"
   ]
  },
  {
   "cell_type": "markdown",
   "metadata": {},
   "source": [
    "Values of *k* must be read from *clustersizes.txt file*"
   ]
  },
  {
   "cell_type": "code",
   "execution_count": null,
   "metadata": {},
   "outputs": [],
   "source": [
    "write.csv(cutree(sampleTree3, k=2), \"wgcna/wgcna_level_2_labels.csv\")\n",
    "write.csv(cutree(sampleTree3, k=8), \"wgcna/wgcna_level_1_labels.csv\")\n",
    "write.csv(cutree(sampleTree3, k=58), \"wgcna/wgcna_level_0_labels.csv\")"
   ]
  },
  {
   "cell_type": "code",
   "execution_count": 32,
   "metadata": {},
   "outputs": [],
   "source": [
    "write.csv(geneModuleMembership, \"wgcna/wgcna_level_0_word-dist.csv\")"
   ]
  },
  {
   "cell_type": "code",
   "execution_count": 33,
   "metadata": {},
   "outputs": [],
   "source": [
    "write.csv(MEs, \"wgcna/wgcna_level_0_topic-dist.csv\")"
   ]
  },
  {
   "cell_type": "code",
   "execution_count": null,
   "metadata": {},
   "outputs": [],
   "source": []
  }
 ],
 "metadata": {
  "kernelspec": {
   "display_name": "R",
   "language": "R",
   "name": "ir"
  },
  "language_info": {
   "codemirror_mode": "r",
   "file_extension": ".r",
   "mimetype": "text/x-r-source",
   "name": "R",
   "pygments_lexer": "r",
   "version": "4.0.3"
  }
 },
 "nbformat": 4,
 "nbformat_minor": 4
}
