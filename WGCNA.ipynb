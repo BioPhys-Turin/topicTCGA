{
 "cells": [
  {
   "cell_type": "code",
   "execution_count": 1,
   "metadata": {},
   "outputs": [
    {
     "data": {
      "text/html": [
       "'/home/jovyan/work/phd/cancers'"
      ],
      "text/latex": [
       "'/home/jovyan/work/phd/cancers'"
      ],
      "text/markdown": [
       "'/home/jovyan/work/phd/cancers'"
      ],
      "text/plain": [
       "[1] \"/home/jovyan/work/phd/cancers\""
      ]
     },
     "metadata": {},
     "output_type": "display_data"
    },
    {
     "name": "stderr",
     "output_type": "stream",
     "text": [
      "Loading required package: dynamicTreeCut\n",
      "\n",
      "Loading required package: fastcluster\n",
      "\n",
      "\n",
      "Attaching package: ‘fastcluster’\n",
      "\n",
      "\n",
      "The following object is masked from ‘package:stats’:\n",
      "\n",
      "    hclust\n",
      "\n",
      "\n",
      "\n",
      "\n",
      "\n",
      "Attaching package: ‘WGCNA’\n",
      "\n",
      "\n",
      "The following object is masked from ‘package:stats’:\n",
      "\n",
      "    cor\n",
      "\n",
      "\n"
     ]
    },
    {
     "name": "stdout",
     "output_type": "stream",
     "text": [
      "Allowing multi-threading with up to 2 threads.\n"
     ]
    }
   ],
   "source": [
    "# Display the current working directory\n",
    "getwd();\n",
    "# If necessary, change the path below to the directory where the data files are stored.\n",
    "# \".\" means current directory. On Windows use a forward slash / instead of the usual \\.\n",
    "workingDir = \"breast\";\n",
    "setwd(workingDir);\n",
    "# Load WGCNA package\n",
    "library(WGCNA)\n",
    "allowWGCNAThreads()\n",
    "# The following setting is important, do not omit.\n",
    "options(stringsAsFactors = FALSE);"
   ]
  },
  {
   "cell_type": "code",
   "execution_count": 2,
   "metadata": {},
   "outputs": [],
   "source": [
    "add_legend <- function(...) {\n",
    "  opar <- par(fig=c(0, 1, 0, 1), oma=c(0, 0, 0, 0), \n",
    "    mar=c(0, 0, 0, 0), new=TRUE)\n",
    "  on.exit(par(opar))\n",
    "  plot(0, 0, type='n', bty='n', xaxt='n', yaxt='n')\n",
    "  legend(...)\n",
    "}"
   ]
  },
  {
   "cell_type": "code",
   "execution_count": 3,
   "metadata": {},
   "outputs": [],
   "source": [
    "datExpr <- t(read.csv(\"mainTable.csv\", check.names=FALSE, row.names = \"0\"))\n",
    "genes <- dimnames(datExpr)[[2]]\n",
    "samples <- dimnames(datExpr)[[1]]\n",
    "datExpr <- as.data.frame(apply(datExpr,2, as.numeric)) #numeric\n",
    "dimnames(datExpr)[[1]] <- samples\n",
    "allTraits <- read.csv(\"files.dat\")"
   ]
  },
  {
   "cell_type": "code",
   "execution_count": 4,
   "metadata": {},
   "outputs": [
    {
     "data": {
      "text/html": [
       "<table>\n",
       "<caption>A data.frame: 5 × 5</caption>\n",
       "<thead>\n",
       "\t<tr><th></th><th scope=col>ENSG00000142615</th><th scope=col>ENSG00000142959</th><th scope=col>ENSG00000179751</th><th scope=col>ENSG00000183773</th><th scope=col>ENSG00000155850</th></tr>\n",
       "\t<tr><th></th><th scope=col>&lt;dbl&gt;</th><th scope=col>&lt;dbl&gt;</th><th scope=col>&lt;dbl&gt;</th><th scope=col>&lt;dbl&gt;</th><th scope=col>&lt;dbl&gt;</th></tr>\n",
       "</thead>\n",
       "<tbody>\n",
       "\t<tr><th scope=row>87fcecde-b317-4518-bea1-cc8d14a18107.FPKM.txt.gz</th><td>0</td><td>0</td><td>0</td><td>0</td><td>2</td></tr>\n",
       "\t<tr><th scope=row>bbf9a30d-3067-491b-9aea-0cb9bed91969.FPKM.txt.gz</th><td>0</td><td>0</td><td>0</td><td>0</td><td>2</td></tr>\n",
       "\t<tr><th scope=row>c909a75f-23e8-4c96-82f2-72e46fdb8155.FPKM.txt.gz</th><td>0</td><td>0</td><td>0</td><td>0</td><td>1</td></tr>\n",
       "\t<tr><th scope=row>1c89ff2f-6e0a-4244-952b-1391dba1b815.FPKM.txt.gz</th><td>0</td><td>0</td><td>0</td><td>0</td><td>2</td></tr>\n",
       "\t<tr><th scope=row>2a6ae2e8-733f-4349-8eec-d25e2b4abf86.FPKM.txt.gz</th><td>0</td><td>0</td><td>0</td><td>0</td><td>2</td></tr>\n",
       "</tbody>\n",
       "</table>\n"
      ],
      "text/latex": [
       "A data.frame: 5 × 5\n",
       "\\begin{tabular}{r|lllll}\n",
       "  & ENSG00000142615 & ENSG00000142959 & ENSG00000179751 & ENSG00000183773 & ENSG00000155850\\\\\n",
       "  & <dbl> & <dbl> & <dbl> & <dbl> & <dbl>\\\\\n",
       "\\hline\n",
       "\t87fcecde-b317-4518-bea1-cc8d14a18107.FPKM.txt.gz & 0 & 0 & 0 & 0 & 2\\\\\n",
       "\tbbf9a30d-3067-491b-9aea-0cb9bed91969.FPKM.txt.gz & 0 & 0 & 0 & 0 & 2\\\\\n",
       "\tc909a75f-23e8-4c96-82f2-72e46fdb8155.FPKM.txt.gz & 0 & 0 & 0 & 0 & 1\\\\\n",
       "\t1c89ff2f-6e0a-4244-952b-1391dba1b815.FPKM.txt.gz & 0 & 0 & 0 & 0 & 2\\\\\n",
       "\t2a6ae2e8-733f-4349-8eec-d25e2b4abf86.FPKM.txt.gz & 0 & 0 & 0 & 0 & 2\\\\\n",
       "\\end{tabular}\n"
      ],
      "text/markdown": [
       "\n",
       "A data.frame: 5 × 5\n",
       "\n",
       "| <!--/--> | ENSG00000142615 &lt;dbl&gt; | ENSG00000142959 &lt;dbl&gt; | ENSG00000179751 &lt;dbl&gt; | ENSG00000183773 &lt;dbl&gt; | ENSG00000155850 &lt;dbl&gt; |\n",
       "|---|---|---|---|---|---|\n",
       "| 87fcecde-b317-4518-bea1-cc8d14a18107.FPKM.txt.gz | 0 | 0 | 0 | 0 | 2 |\n",
       "| bbf9a30d-3067-491b-9aea-0cb9bed91969.FPKM.txt.gz | 0 | 0 | 0 | 0 | 2 |\n",
       "| c909a75f-23e8-4c96-82f2-72e46fdb8155.FPKM.txt.gz | 0 | 0 | 0 | 0 | 1 |\n",
       "| 1c89ff2f-6e0a-4244-952b-1391dba1b815.FPKM.txt.gz | 0 | 0 | 0 | 0 | 2 |\n",
       "| 2a6ae2e8-733f-4349-8eec-d25e2b4abf86.FPKM.txt.gz | 0 | 0 | 0 | 0 | 2 |\n",
       "\n"
      ],
      "text/plain": [
       "                                                 ENSG00000142615\n",
       "87fcecde-b317-4518-bea1-cc8d14a18107.FPKM.txt.gz 0              \n",
       "bbf9a30d-3067-491b-9aea-0cb9bed91969.FPKM.txt.gz 0              \n",
       "c909a75f-23e8-4c96-82f2-72e46fdb8155.FPKM.txt.gz 0              \n",
       "1c89ff2f-6e0a-4244-952b-1391dba1b815.FPKM.txt.gz 0              \n",
       "2a6ae2e8-733f-4349-8eec-d25e2b4abf86.FPKM.txt.gz 0              \n",
       "                                                 ENSG00000142959\n",
       "87fcecde-b317-4518-bea1-cc8d14a18107.FPKM.txt.gz 0              \n",
       "bbf9a30d-3067-491b-9aea-0cb9bed91969.FPKM.txt.gz 0              \n",
       "c909a75f-23e8-4c96-82f2-72e46fdb8155.FPKM.txt.gz 0              \n",
       "1c89ff2f-6e0a-4244-952b-1391dba1b815.FPKM.txt.gz 0              \n",
       "2a6ae2e8-733f-4349-8eec-d25e2b4abf86.FPKM.txt.gz 0              \n",
       "                                                 ENSG00000179751\n",
       "87fcecde-b317-4518-bea1-cc8d14a18107.FPKM.txt.gz 0              \n",
       "bbf9a30d-3067-491b-9aea-0cb9bed91969.FPKM.txt.gz 0              \n",
       "c909a75f-23e8-4c96-82f2-72e46fdb8155.FPKM.txt.gz 0              \n",
       "1c89ff2f-6e0a-4244-952b-1391dba1b815.FPKM.txt.gz 0              \n",
       "2a6ae2e8-733f-4349-8eec-d25e2b4abf86.FPKM.txt.gz 0              \n",
       "                                                 ENSG00000183773\n",
       "87fcecde-b317-4518-bea1-cc8d14a18107.FPKM.txt.gz 0              \n",
       "bbf9a30d-3067-491b-9aea-0cb9bed91969.FPKM.txt.gz 0              \n",
       "c909a75f-23e8-4c96-82f2-72e46fdb8155.FPKM.txt.gz 0              \n",
       "1c89ff2f-6e0a-4244-952b-1391dba1b815.FPKM.txt.gz 0              \n",
       "2a6ae2e8-733f-4349-8eec-d25e2b4abf86.FPKM.txt.gz 0              \n",
       "                                                 ENSG00000155850\n",
       "87fcecde-b317-4518-bea1-cc8d14a18107.FPKM.txt.gz 2              \n",
       "bbf9a30d-3067-491b-9aea-0cb9bed91969.FPKM.txt.gz 2              \n",
       "c909a75f-23e8-4c96-82f2-72e46fdb8155.FPKM.txt.gz 1              \n",
       "1c89ff2f-6e0a-4244-952b-1391dba1b815.FPKM.txt.gz 2              \n",
       "2a6ae2e8-733f-4349-8eec-d25e2b4abf86.FPKM.txt.gz 2              "
      ]
     },
     "metadata": {},
     "output_type": "display_data"
    }
   ],
   "source": [
    "datExpr[1:5,1:5]"
   ]
  },
  {
   "cell_type": "code",
   "execution_count": null,
   "metadata": {},
   "outputs": [],
   "source": [
    "log2_1 <- function(x){\n",
    "    log2(x+1)\n",
    "}\n",
    "datExpr <- as.data.frame(apply(datExpr,2, log2_1))\n",
    "dimnames(datExpr)[[1]] <- samples"
   ]
  },
  {
   "cell_type": "code",
   "execution_count": null,
   "metadata": {},
   "outputs": [],
   "source": [
    "datExpr[1:5,1:5]"
   ]
  },
  {
   "cell_type": "code",
   "execution_count": 5,
   "metadata": {},
   "outputs": [
    {
     "data": {
      "text/html": [
       "16"
      ],
      "text/latex": [
       "16"
      ],
      "text/markdown": [
       "16"
      ],
      "text/plain": [
       "[1] 16"
      ]
     },
     "metadata": {},
     "output_type": "display_data"
    }
   ],
   "source": [
    "max(datExpr)"
   ]
  },
  {
   "cell_type": "code",
   "execution_count": 6,
   "metadata": {},
   "outputs": [
    {
     "data": {
      "text/html": [
       "<table>\n",
       "<caption>A data.frame: 6 × 52</caption>\n",
       "<thead>\n",
       "\t<tr><th></th><th scope=col>file_name</th><th scope=col>cases.0.submitter_id</th><th scope=col>cases.0.demographic.gender</th><th scope=col>cases.0.demographic.days_to_birth</th><th scope=col>cases.0.demographic.days_to_death</th><th scope=col>cases.0.demographic.vital_status</th><th scope=col>cases.0.diagnoses.0.age_at_diagnosis</th><th scope=col>cases.0.diagnoses.0.days_to_last_follow_up</th><th scope=col>cases.0.diagnoses.0.last_known_disease_status</th><th scope=col>cases.0.diagnoses.0.tumor_stage</th><th scope=col>⋯</th><th scope=col>cancer.type</th><th scope=col>Subtype_mRNA</th><th scope=col>Subtype_DNAmeth</th><th scope=col>Subtype_protein</th><th scope=col>Subtype_miRNA</th><th scope=col>Subtype_CNA</th><th scope=col>Subtype_Integrative</th><th scope=col>Subtype_other</th><th scope=col>Subtype_Selected</th><th scope=col>Subtype_Selected_Lum</th></tr>\n",
       "\t<tr><th></th><th scope=col>&lt;chr&gt;</th><th scope=col>&lt;chr&gt;</th><th scope=col>&lt;chr&gt;</th><th scope=col>&lt;chr&gt;</th><th scope=col>&lt;chr&gt;</th><th scope=col>&lt;chr&gt;</th><th scope=col>&lt;chr&gt;</th><th scope=col>&lt;chr&gt;</th><th scope=col>&lt;chr&gt;</th><th scope=col>&lt;chr&gt;</th><th scope=col>⋯</th><th scope=col>&lt;chr&gt;</th><th scope=col>&lt;chr&gt;</th><th scope=col>&lt;chr&gt;</th><th scope=col>&lt;chr&gt;</th><th scope=col>&lt;chr&gt;</th><th scope=col>&lt;chr&gt;</th><th scope=col>&lt;chr&gt;</th><th scope=col>&lt;chr&gt;</th><th scope=col>&lt;chr&gt;</th><th scope=col>&lt;chr&gt;</th></tr>\n",
       "</thead>\n",
       "<tbody>\n",
       "\t<tr><th scope=row>1</th><td>3a3d56a9-e18a-4346-9350-bed393553080.FPKM.txt.gz</td><td>TCGA-BH-A0B6</td><td>female</td><td>-17346.0</td><td>unknown</td><td>Alive</td><td>17346.0</td><td>2483.0 </td><td>not reported</td><td>stage i   </td><td>⋯</td><td>BRCA</td><td>LumA  </td><td>unknown</td><td>unknown</td><td>unknown</td><td>unknown</td><td>unknown</td><td>unknown</td><td>BRCA.LumA  </td><td>BRCA.Lum   </td></tr>\n",
       "\t<tr><th scope=row>2</th><td>05eb3daf-d392-4ede-87d6-8f0aef8b6372.FPKM.txt.gz</td><td>TCGA-BH-A208</td><td>female</td><td>-17715.0</td><td>1759.0 </td><td>Dead </td><td>17715.0</td><td>unknown</td><td>not reported</td><td>stage iib </td><td>⋯</td><td>BRCA</td><td>Normal</td><td>unknown</td><td>unknown</td><td>unknown</td><td>unknown</td><td>unknown</td><td>unknown</td><td>BRCA.Normal</td><td>BRCA.Normal</td></tr>\n",
       "\t<tr><th scope=row>3</th><td>58050606-3a53-439b-836b-de391c4c630f.FPKM.txt.gz</td><td>TCGA-E9-A22B</td><td>female</td><td>-26278.0</td><td>unknown</td><td>Alive</td><td>26278.0</td><td>1167.0 </td><td>not reported</td><td>stage ia  </td><td>⋯</td><td>BRCA</td><td>LumA  </td><td>unknown</td><td>unknown</td><td>unknown</td><td>unknown</td><td>unknown</td><td>unknown</td><td>BRCA.LumA  </td><td>BRCA.Lum   </td></tr>\n",
       "\t<tr><th scope=row>4</th><td>28973531-fd03-4f86-8cf5-4c6941560c37.FPKM.txt.gz</td><td>TCGA-A2-A0EW</td><td>female</td><td>-19413.0</td><td>1884.0 </td><td>Dead </td><td>19413.0</td><td>905.0  </td><td>not reported</td><td>stage iiic</td><td>⋯</td><td>BRCA</td><td>LumA  </td><td>unknown</td><td>unknown</td><td>unknown</td><td>unknown</td><td>unknown</td><td>unknown</td><td>BRCA.LumA  </td><td>BRCA.Lum   </td></tr>\n",
       "\t<tr><th scope=row>5</th><td>0b6603e7-a619-40d0-8af8-ddc7d30ffd7e.FPKM.txt.gz</td><td>TCGA-AR-A1AY</td><td>female</td><td>-23927.0</td><td>unknown</td><td>Alive</td><td>23927.0</td><td>1026.0 </td><td>not reported</td><td>stage i   </td><td>⋯</td><td>BRCA</td><td>Basal </td><td>unknown</td><td>unknown</td><td>unknown</td><td>unknown</td><td>unknown</td><td>unknown</td><td>BRCA.Basal </td><td>BRCA.Basal </td></tr>\n",
       "\t<tr><th scope=row>6</th><td>e9422605-b2da-42b0-aa64-a98472834140.FPKM.txt.gz</td><td>TCGA-A8-A09I</td><td>female</td><td>-30711.0</td><td>unknown</td><td>Alive</td><td>30711.0</td><td>1371.0 </td><td>not reported</td><td>stage iia </td><td>⋯</td><td>BRCA</td><td>LumB  </td><td>unknown</td><td>unknown</td><td>unknown</td><td>unknown</td><td>unknown</td><td>unknown</td><td>BRCA.LumB  </td><td>BRCA.Lum   </td></tr>\n",
       "</tbody>\n",
       "</table>\n"
      ],
      "text/latex": [
       "A data.frame: 6 × 52\n",
       "\\begin{tabular}{r|lllllllllllllllllllll}\n",
       "  & file\\_name & cases.0.submitter\\_id & cases.0.demographic.gender & cases.0.demographic.days\\_to\\_birth & cases.0.demographic.days\\_to\\_death & cases.0.demographic.vital\\_status & cases.0.diagnoses.0.age\\_at\\_diagnosis & cases.0.diagnoses.0.days\\_to\\_last\\_follow\\_up & cases.0.diagnoses.0.last\\_known\\_disease\\_status & cases.0.diagnoses.0.tumor\\_stage & ⋯ & cancer.type & Subtype\\_mRNA & Subtype\\_DNAmeth & Subtype\\_protein & Subtype\\_miRNA & Subtype\\_CNA & Subtype\\_Integrative & Subtype\\_other & Subtype\\_Selected & Subtype\\_Selected\\_Lum\\\\\n",
       "  & <chr> & <chr> & <chr> & <chr> & <chr> & <chr> & <chr> & <chr> & <chr> & <chr> & ⋯ & <chr> & <chr> & <chr> & <chr> & <chr> & <chr> & <chr> & <chr> & <chr> & <chr>\\\\\n",
       "\\hline\n",
       "\t1 & 3a3d56a9-e18a-4346-9350-bed393553080.FPKM.txt.gz & TCGA-BH-A0B6 & female & -17346.0 & unknown & Alive & 17346.0 & 2483.0  & not reported & stage i    & ⋯ & BRCA & LumA   & unknown & unknown & unknown & unknown & unknown & unknown & BRCA.LumA   & BRCA.Lum   \\\\\n",
       "\t2 & 05eb3daf-d392-4ede-87d6-8f0aef8b6372.FPKM.txt.gz & TCGA-BH-A208 & female & -17715.0 & 1759.0  & Dead  & 17715.0 & unknown & not reported & stage iib  & ⋯ & BRCA & Normal & unknown & unknown & unknown & unknown & unknown & unknown & BRCA.Normal & BRCA.Normal\\\\\n",
       "\t3 & 58050606-3a53-439b-836b-de391c4c630f.FPKM.txt.gz & TCGA-E9-A22B & female & -26278.0 & unknown & Alive & 26278.0 & 1167.0  & not reported & stage ia   & ⋯ & BRCA & LumA   & unknown & unknown & unknown & unknown & unknown & unknown & BRCA.LumA   & BRCA.Lum   \\\\\n",
       "\t4 & 28973531-fd03-4f86-8cf5-4c6941560c37.FPKM.txt.gz & TCGA-A2-A0EW & female & -19413.0 & 1884.0  & Dead  & 19413.0 & 905.0   & not reported & stage iiic & ⋯ & BRCA & LumA   & unknown & unknown & unknown & unknown & unknown & unknown & BRCA.LumA   & BRCA.Lum   \\\\\n",
       "\t5 & 0b6603e7-a619-40d0-8af8-ddc7d30ffd7e.FPKM.txt.gz & TCGA-AR-A1AY & female & -23927.0 & unknown & Alive & 23927.0 & 1026.0  & not reported & stage i    & ⋯ & BRCA & Basal  & unknown & unknown & unknown & unknown & unknown & unknown & BRCA.Basal  & BRCA.Basal \\\\\n",
       "\t6 & e9422605-b2da-42b0-aa64-a98472834140.FPKM.txt.gz & TCGA-A8-A09I & female & -30711.0 & unknown & Alive & 30711.0 & 1371.0  & not reported & stage iia  & ⋯ & BRCA & LumB   & unknown & unknown & unknown & unknown & unknown & unknown & BRCA.LumB   & BRCA.Lum   \\\\\n",
       "\\end{tabular}\n"
      ],
      "text/markdown": [
       "\n",
       "A data.frame: 6 × 52\n",
       "\n",
       "| <!--/--> | file_name &lt;chr&gt; | cases.0.submitter_id &lt;chr&gt; | cases.0.demographic.gender &lt;chr&gt; | cases.0.demographic.days_to_birth &lt;chr&gt; | cases.0.demographic.days_to_death &lt;chr&gt; | cases.0.demographic.vital_status &lt;chr&gt; | cases.0.diagnoses.0.age_at_diagnosis &lt;chr&gt; | cases.0.diagnoses.0.days_to_last_follow_up &lt;chr&gt; | cases.0.diagnoses.0.last_known_disease_status &lt;chr&gt; | cases.0.diagnoses.0.tumor_stage &lt;chr&gt; | ⋯ ⋯ | cancer.type &lt;chr&gt; | Subtype_mRNA &lt;chr&gt; | Subtype_DNAmeth &lt;chr&gt; | Subtype_protein &lt;chr&gt; | Subtype_miRNA &lt;chr&gt; | Subtype_CNA &lt;chr&gt; | Subtype_Integrative &lt;chr&gt; | Subtype_other &lt;chr&gt; | Subtype_Selected &lt;chr&gt; | Subtype_Selected_Lum &lt;chr&gt; |\n",
       "|---|---|---|---|---|---|---|---|---|---|---|---|---|---|---|---|---|---|---|---|---|---|\n",
       "| 1 | 3a3d56a9-e18a-4346-9350-bed393553080.FPKM.txt.gz | TCGA-BH-A0B6 | female | -17346.0 | unknown | Alive | 17346.0 | 2483.0  | not reported | stage i    | ⋯ | BRCA | LumA   | unknown | unknown | unknown | unknown | unknown | unknown | BRCA.LumA   | BRCA.Lum    |\n",
       "| 2 | 05eb3daf-d392-4ede-87d6-8f0aef8b6372.FPKM.txt.gz | TCGA-BH-A208 | female | -17715.0 | 1759.0  | Dead  | 17715.0 | unknown | not reported | stage iib  | ⋯ | BRCA | Normal | unknown | unknown | unknown | unknown | unknown | unknown | BRCA.Normal | BRCA.Normal |\n",
       "| 3 | 58050606-3a53-439b-836b-de391c4c630f.FPKM.txt.gz | TCGA-E9-A22B | female | -26278.0 | unknown | Alive | 26278.0 | 1167.0  | not reported | stage ia   | ⋯ | BRCA | LumA   | unknown | unknown | unknown | unknown | unknown | unknown | BRCA.LumA   | BRCA.Lum    |\n",
       "| 4 | 28973531-fd03-4f86-8cf5-4c6941560c37.FPKM.txt.gz | TCGA-A2-A0EW | female | -19413.0 | 1884.0  | Dead  | 19413.0 | 905.0   | not reported | stage iiic | ⋯ | BRCA | LumA   | unknown | unknown | unknown | unknown | unknown | unknown | BRCA.LumA   | BRCA.Lum    |\n",
       "| 5 | 0b6603e7-a619-40d0-8af8-ddc7d30ffd7e.FPKM.txt.gz | TCGA-AR-A1AY | female | -23927.0 | unknown | Alive | 23927.0 | 1026.0  | not reported | stage i    | ⋯ | BRCA | Basal  | unknown | unknown | unknown | unknown | unknown | unknown | BRCA.Basal  | BRCA.Basal  |\n",
       "| 6 | e9422605-b2da-42b0-aa64-a98472834140.FPKM.txt.gz | TCGA-A8-A09I | female | -30711.0 | unknown | Alive | 30711.0 | 1371.0  | not reported | stage iia  | ⋯ | BRCA | LumB   | unknown | unknown | unknown | unknown | unknown | unknown | BRCA.LumB   | BRCA.Lum    |\n",
       "\n"
      ],
      "text/plain": [
       "  file_name                                        cases.0.submitter_id\n",
       "1 3a3d56a9-e18a-4346-9350-bed393553080.FPKM.txt.gz TCGA-BH-A0B6        \n",
       "2 05eb3daf-d392-4ede-87d6-8f0aef8b6372.FPKM.txt.gz TCGA-BH-A208        \n",
       "3 58050606-3a53-439b-836b-de391c4c630f.FPKM.txt.gz TCGA-E9-A22B        \n",
       "4 28973531-fd03-4f86-8cf5-4c6941560c37.FPKM.txt.gz TCGA-A2-A0EW        \n",
       "5 0b6603e7-a619-40d0-8af8-ddc7d30ffd7e.FPKM.txt.gz TCGA-AR-A1AY        \n",
       "6 e9422605-b2da-42b0-aa64-a98472834140.FPKM.txt.gz TCGA-A8-A09I        \n",
       "  cases.0.demographic.gender cases.0.demographic.days_to_birth\n",
       "1 female                     -17346.0                         \n",
       "2 female                     -17715.0                         \n",
       "3 female                     -26278.0                         \n",
       "4 female                     -19413.0                         \n",
       "5 female                     -23927.0                         \n",
       "6 female                     -30711.0                         \n",
       "  cases.0.demographic.days_to_death cases.0.demographic.vital_status\n",
       "1 unknown                           Alive                           \n",
       "2 1759.0                            Dead                            \n",
       "3 unknown                           Alive                           \n",
       "4 1884.0                            Dead                            \n",
       "5 unknown                           Alive                           \n",
       "6 unknown                           Alive                           \n",
       "  cases.0.diagnoses.0.age_at_diagnosis\n",
       "1 17346.0                             \n",
       "2 17715.0                             \n",
       "3 26278.0                             \n",
       "4 19413.0                             \n",
       "5 23927.0                             \n",
       "6 30711.0                             \n",
       "  cases.0.diagnoses.0.days_to_last_follow_up\n",
       "1 2483.0                                    \n",
       "2 unknown                                   \n",
       "3 1167.0                                    \n",
       "4 905.0                                     \n",
       "5 1026.0                                    \n",
       "6 1371.0                                    \n",
       "  cases.0.diagnoses.0.last_known_disease_status cases.0.diagnoses.0.tumor_stage\n",
       "1 not reported                                  stage i                        \n",
       "2 not reported                                  stage iib                      \n",
       "3 not reported                                  stage ia                       \n",
       "4 not reported                                  stage iiic                     \n",
       "5 not reported                                  stage i                        \n",
       "6 not reported                                  stage iia                      \n",
       "  ⋯ cancer.type Subtype_mRNA Subtype_DNAmeth Subtype_protein Subtype_miRNA\n",
       "1 ⋯ BRCA        LumA         unknown         unknown         unknown      \n",
       "2 ⋯ BRCA        Normal       unknown         unknown         unknown      \n",
       "3 ⋯ BRCA        LumA         unknown         unknown         unknown      \n",
       "4 ⋯ BRCA        LumA         unknown         unknown         unknown      \n",
       "5 ⋯ BRCA        Basal        unknown         unknown         unknown      \n",
       "6 ⋯ BRCA        LumB         unknown         unknown         unknown      \n",
       "  Subtype_CNA Subtype_Integrative Subtype_other Subtype_Selected\n",
       "1 unknown     unknown             unknown       BRCA.LumA       \n",
       "2 unknown     unknown             unknown       BRCA.Normal     \n",
       "3 unknown     unknown             unknown       BRCA.LumA       \n",
       "4 unknown     unknown             unknown       BRCA.LumA       \n",
       "5 unknown     unknown             unknown       BRCA.Basal      \n",
       "6 unknown     unknown             unknown       BRCA.LumB       \n",
       "  Subtype_Selected_Lum\n",
       "1 BRCA.Lum            \n",
       "2 BRCA.Normal         \n",
       "3 BRCA.Lum            \n",
       "4 BRCA.Lum            \n",
       "5 BRCA.Basal          \n",
       "6 BRCA.Lum            "
      ]
     },
     "metadata": {},
     "output_type": "display_data"
    }
   ],
   "source": [
    "head(allTraits)"
   ]
  },
  {
   "cell_type": "code",
   "execution_count": 7,
   "metadata": {},
   "outputs": [
    {
     "data": {
      "text/html": [
       "<table>\n",
       "<caption>A data.frame: 6 × 2</caption>\n",
       "<thead>\n",
       "\t<tr><th></th><th scope=col>Subtype_Selected</th><th scope=col>Subtype_Selected_Lum</th></tr>\n",
       "\t<tr><th></th><th scope=col>&lt;chr&gt;</th><th scope=col>&lt;chr&gt;</th></tr>\n",
       "</thead>\n",
       "<tbody>\n",
       "\t<tr><th scope=row>87fcecde-b317-4518-bea1-cc8d14a18107.FPKM.txt.gz</th><td>BRCA.LumB  </td><td>BRCA.Lum   </td></tr>\n",
       "\t<tr><th scope=row>bbf9a30d-3067-491b-9aea-0cb9bed91969.FPKM.txt.gz</th><td>BRCA.LumA  </td><td>BRCA.Lum   </td></tr>\n",
       "\t<tr><th scope=row>c909a75f-23e8-4c96-82f2-72e46fdb8155.FPKM.txt.gz</th><td>BRCA.Basal </td><td>BRCA.Basal </td></tr>\n",
       "\t<tr><th scope=row>1c89ff2f-6e0a-4244-952b-1391dba1b815.FPKM.txt.gz</th><td>BRCA.Normal</td><td>BRCA.Normal</td></tr>\n",
       "\t<tr><th scope=row>2a6ae2e8-733f-4349-8eec-d25e2b4abf86.FPKM.txt.gz</th><td>BRCA.LumA  </td><td>BRCA.Lum   </td></tr>\n",
       "\t<tr><th scope=row>0a2c1866-d6e1-4add-bcb0-b297ba1394ac.FPKM.txt.gz</th><td>BRCA.LumB  </td><td>BRCA.Lum   </td></tr>\n",
       "</tbody>\n",
       "</table>\n"
      ],
      "text/latex": [
       "A data.frame: 6 × 2\n",
       "\\begin{tabular}{r|ll}\n",
       "  & Subtype\\_Selected & Subtype\\_Selected\\_Lum\\\\\n",
       "  & <chr> & <chr>\\\\\n",
       "\\hline\n",
       "\t87fcecde-b317-4518-bea1-cc8d14a18107.FPKM.txt.gz & BRCA.LumB   & BRCA.Lum   \\\\\n",
       "\tbbf9a30d-3067-491b-9aea-0cb9bed91969.FPKM.txt.gz & BRCA.LumA   & BRCA.Lum   \\\\\n",
       "\tc909a75f-23e8-4c96-82f2-72e46fdb8155.FPKM.txt.gz & BRCA.Basal  & BRCA.Basal \\\\\n",
       "\t1c89ff2f-6e0a-4244-952b-1391dba1b815.FPKM.txt.gz & BRCA.Normal & BRCA.Normal\\\\\n",
       "\t2a6ae2e8-733f-4349-8eec-d25e2b4abf86.FPKM.txt.gz & BRCA.LumA   & BRCA.Lum   \\\\\n",
       "\t0a2c1866-d6e1-4add-bcb0-b297ba1394ac.FPKM.txt.gz & BRCA.LumB   & BRCA.Lum   \\\\\n",
       "\\end{tabular}\n"
      ],
      "text/markdown": [
       "\n",
       "A data.frame: 6 × 2\n",
       "\n",
       "| <!--/--> | Subtype_Selected &lt;chr&gt; | Subtype_Selected_Lum &lt;chr&gt; |\n",
       "|---|---|---|\n",
       "| 87fcecde-b317-4518-bea1-cc8d14a18107.FPKM.txt.gz | BRCA.LumB   | BRCA.Lum    |\n",
       "| bbf9a30d-3067-491b-9aea-0cb9bed91969.FPKM.txt.gz | BRCA.LumA   | BRCA.Lum    |\n",
       "| c909a75f-23e8-4c96-82f2-72e46fdb8155.FPKM.txt.gz | BRCA.Basal  | BRCA.Basal  |\n",
       "| 1c89ff2f-6e0a-4244-952b-1391dba1b815.FPKM.txt.gz | BRCA.Normal | BRCA.Normal |\n",
       "| 2a6ae2e8-733f-4349-8eec-d25e2b4abf86.FPKM.txt.gz | BRCA.LumA   | BRCA.Lum    |\n",
       "| 0a2c1866-d6e1-4add-bcb0-b297ba1394ac.FPKM.txt.gz | BRCA.LumB   | BRCA.Lum    |\n",
       "\n"
      ],
      "text/plain": [
       "                                                 Subtype_Selected\n",
       "87fcecde-b317-4518-bea1-cc8d14a18107.FPKM.txt.gz BRCA.LumB       \n",
       "bbf9a30d-3067-491b-9aea-0cb9bed91969.FPKM.txt.gz BRCA.LumA       \n",
       "c909a75f-23e8-4c96-82f2-72e46fdb8155.FPKM.txt.gz BRCA.Basal      \n",
       "1c89ff2f-6e0a-4244-952b-1391dba1b815.FPKM.txt.gz BRCA.Normal     \n",
       "2a6ae2e8-733f-4349-8eec-d25e2b4abf86.FPKM.txt.gz BRCA.LumA       \n",
       "0a2c1866-d6e1-4add-bcb0-b297ba1394ac.FPKM.txt.gz BRCA.LumB       \n",
       "                                                 Subtype_Selected_Lum\n",
       "87fcecde-b317-4518-bea1-cc8d14a18107.FPKM.txt.gz BRCA.Lum            \n",
       "bbf9a30d-3067-491b-9aea-0cb9bed91969.FPKM.txt.gz BRCA.Lum            \n",
       "c909a75f-23e8-4c96-82f2-72e46fdb8155.FPKM.txt.gz BRCA.Basal          \n",
       "1c89ff2f-6e0a-4244-952b-1391dba1b815.FPKM.txt.gz BRCA.Normal         \n",
       "2a6ae2e8-733f-4349-8eec-d25e2b4abf86.FPKM.txt.gz BRCA.Lum            \n",
       "0a2c1866-d6e1-4add-bcb0-b297ba1394ac.FPKM.txt.gz BRCA.Lum            "
      ]
     },
     "metadata": {},
     "output_type": "display_data"
    }
   ],
   "source": [
    "#labels <- c('cancer.type', 'Subtype_Selected') #<-lung\n",
    "labels <- c('Subtype_Selected', 'Subtype_Selected_Lum') #<-BRCA\n",
    "datTraits <- allTraits[,labels]\n",
    "rownames(datTraits) <- allTraits$file_name #<--CHECK\n",
    "datTraits <- datTraits[rownames(datExpr),]\n",
    "head(datTraits)"
   ]
  },
  {
   "cell_type": "code",
   "execution_count": 8,
   "metadata": {},
   "outputs": [
    {
     "data": {
      "text/plain": [
       "\n",
       "FALSE \n",
       " 1222 "
      ]
     },
     "metadata": {},
     "output_type": "display_data"
    }
   ],
   "source": [
    "table( dimnames(datExpr)[[1]]==datTraits$Subtype_Selected)"
   ]
  },
  {
   "cell_type": "code",
   "execution_count": 9,
   "metadata": {},
   "outputs": [],
   "source": [
    "y = datTraits$Subtype_Selected"
   ]
  },
  {
   "cell_type": "code",
   "execution_count": 10,
   "metadata": {},
   "outputs": [],
   "source": [
    "meanExpressionBySample=apply( datExpr,1,mean, na.rm=T)\n",
    "NumberMissingBySample=apply( is.na(data.frame(datExpr)),1, sum)"
   ]
  },
  {
   "cell_type": "markdown",
   "metadata": {},
   "source": [
    "## 1"
   ]
  },
  {
   "cell_type": "code",
   "execution_count": 11,
   "metadata": {},
   "outputs": [
    {
     "name": "stdout",
     "output_type": "stream",
     "text": [
      " Flagging genes and samples with too many missing values...\n",
      "  ..step 1\n",
      "  ..Excluding 5 genes from the calculation due to too many missing samples or zero variance.\n",
      "  ..step 2\n"
     ]
    },
    {
     "data": {
      "text/html": [
       "FALSE"
      ],
      "text/latex": [
       "FALSE"
      ],
      "text/markdown": [
       "FALSE"
      ],
      "text/plain": [
       "[1] FALSE"
      ]
     },
     "metadata": {},
     "output_type": "display_data"
    }
   ],
   "source": [
    "gsg = goodSamplesGenes(datExpr, verbose = 3);\n",
    "gsg$allOK"
   ]
  },
  {
   "cell_type": "code",
   "execution_count": 12,
   "metadata": {},
   "outputs": [
    {
     "data": {
      "text/html": [
       "<strong>png:</strong> 2"
      ],
      "text/latex": [
       "\\textbf{png:} 2"
      ],
      "text/markdown": [
       "**png:** 2"
      ],
      "text/plain": [
       "png \n",
       "  2 "
      ]
     },
     "metadata": {},
     "output_type": "display_data"
    }
   ],
   "source": [
    "sampleTree = hclust(dist(datExpr), method = \"average\");\n",
    "# Plot the sample tree: Open a graphic output window of size 12 by 9 inches\n",
    "# The user should change the dimensions if the window is too large or too small.\n",
    "sizeGrWindow(12,9)\n",
    "svg(\"tests/low_filters/samplehier.svg\")\n",
    "par(cex = 0.6);\n",
    "par(mar = c(0,4,2,0))\n",
    "plot(sampleTree, main = \"Sample clustering to detect outliers\", sub=\"\", xlab=\"\", cex.lab = 1.5,\n",
    "cex.axis = 1.5, cex.main = 2)\n",
    "dev.off()"
   ]
  },
  {
   "cell_type": "code",
   "execution_count": 13,
   "metadata": {},
   "outputs": [
    {
     "data": {
      "text/plain": [
       "clust\n",
       "   1 \n",
       "1222 "
      ]
     },
     "metadata": {},
     "output_type": "display_data"
    }
   ],
   "source": [
    "# Determine cluster under the line\n",
    "clust = cutreeStatic(sampleTree, cutHeight = 1e5, minSize = 10)\n",
    "table(clust)"
   ]
  },
  {
   "cell_type": "code",
   "execution_count": 14,
   "metadata": {},
   "outputs": [],
   "source": [
    "# clust 1 contains the samples we want to keep.\n",
    "keepSamples = (clust==1)\n",
    "datExpr = datExpr[keepSamples, ]\n",
    "nGenes = ncol(datExpr)\n",
    "nSamples = nrow(datExpr)\n",
    "\n",
    "genes <- dimnames(datExpr)[[2]]\n",
    "samples <- dimnames(datExpr)[[1]]\n",
    "datExpr <- as.data.frame(apply(datExpr,2, as.numeric)) #numeric\n",
    "dimnames(datExpr)[[1]] <- samples"
   ]
  },
  {
   "cell_type": "code",
   "execution_count": 15,
   "metadata": {},
   "outputs": [
    {
     "data": {
      "text/html": [
       "<table>\n",
       "<caption>A data.frame: 6 × 992</caption>\n",
       "<thead>\n",
       "\t<tr><th></th><th scope=col>ENSG00000142615</th><th scope=col>ENSG00000142959</th><th scope=col>ENSG00000179751</th><th scope=col>ENSG00000183773</th><th scope=col>ENSG00000155850</th><th scope=col>ENSG00000176387</th><th scope=col>ENSG00000243480</th><th scope=col>ENSG00000171747</th><th scope=col>ENSG00000120756</th><th scope=col>ENSG00000184730</th><th scope=col>⋯</th><th scope=col>ENSG00000041982</th><th scope=col>ENSG00000176894</th><th scope=col>ENSG00000161267</th><th scope=col>ENSG00000120915</th><th scope=col>ENSG00000172456</th><th scope=col>ENSG00000103257</th><th scope=col>ENSG00000105173</th><th scope=col>ENSG00000092758</th><th scope=col>ENSG00000172179</th><th scope=col>ENSG00000157613</th></tr>\n",
       "\t<tr><th></th><th scope=col>&lt;dbl&gt;</th><th scope=col>&lt;dbl&gt;</th><th scope=col>&lt;dbl&gt;</th><th scope=col>&lt;dbl&gt;</th><th scope=col>&lt;dbl&gt;</th><th scope=col>&lt;dbl&gt;</th><th scope=col>&lt;dbl&gt;</th><th scope=col>&lt;dbl&gt;</th><th scope=col>&lt;dbl&gt;</th><th scope=col>&lt;dbl&gt;</th><th scope=col>⋯</th><th scope=col>&lt;dbl&gt;</th><th scope=col>&lt;dbl&gt;</th><th scope=col>&lt;dbl&gt;</th><th scope=col>&lt;dbl&gt;</th><th scope=col>&lt;dbl&gt;</th><th scope=col>&lt;dbl&gt;</th><th scope=col>&lt;dbl&gt;</th><th scope=col>&lt;dbl&gt;</th><th scope=col>&lt;dbl&gt;</th><th scope=col>&lt;dbl&gt;</th></tr>\n",
       "</thead>\n",
       "<tbody>\n",
       "\t<tr><th scope=row>87fcecde-b317-4518-bea1-cc8d14a18107.FPKM.txt.gz</th><td>0</td><td>0</td><td>0</td><td>0</td><td>2</td><td>2</td><td>0</td><td>0</td><td>2</td><td>2</td><td>⋯</td><td>1</td><td>3</td><td>3</td><td>4</td><td>1</td><td>3</td><td>1</td><td>0</td><td>0</td><td>4</td></tr>\n",
       "\t<tr><th scope=row>bbf9a30d-3067-491b-9aea-0cb9bed91969.FPKM.txt.gz</th><td>0</td><td>0</td><td>0</td><td>0</td><td>2</td><td>2</td><td>0</td><td>0</td><td>1</td><td>2</td><td>⋯</td><td>5</td><td>2</td><td>1</td><td>3</td><td>1</td><td>1</td><td>1</td><td>0</td><td>0</td><td>5</td></tr>\n",
       "\t<tr><th scope=row>c909a75f-23e8-4c96-82f2-72e46fdb8155.FPKM.txt.gz</th><td>0</td><td>0</td><td>0</td><td>0</td><td>1</td><td>4</td><td>0</td><td>0</td><td>1</td><td>2</td><td>⋯</td><td>3</td><td>3</td><td>3</td><td>2</td><td>1</td><td>7</td><td>4</td><td>0</td><td>0</td><td>2</td></tr>\n",
       "\t<tr><th scope=row>1c89ff2f-6e0a-4244-952b-1391dba1b815.FPKM.txt.gz</th><td>0</td><td>0</td><td>0</td><td>0</td><td>2</td><td>2</td><td>0</td><td>0</td><td>0</td><td>2</td><td>⋯</td><td>4</td><td>3</td><td>2</td><td>2</td><td>2</td><td>5</td><td>1</td><td>4</td><td>0</td><td>2</td></tr>\n",
       "\t<tr><th scope=row>2a6ae2e8-733f-4349-8eec-d25e2b4abf86.FPKM.txt.gz</th><td>0</td><td>0</td><td>0</td><td>0</td><td>2</td><td>2</td><td>0</td><td>0</td><td>1</td><td>1</td><td>⋯</td><td>5</td><td>3</td><td>2</td><td>4</td><td>1</td><td>1</td><td>0</td><td>0</td><td>0</td><td>5</td></tr>\n",
       "\t<tr><th scope=row>0a2c1866-d6e1-4add-bcb0-b297ba1394ac.FPKM.txt.gz</th><td>0</td><td>0</td><td>0</td><td>0</td><td>2</td><td>3</td><td>0</td><td>0</td><td>1</td><td>1</td><td>⋯</td><td>5</td><td>3</td><td>1</td><td>3</td><td>1</td><td>3</td><td>1</td><td>1</td><td>0</td><td>4</td></tr>\n",
       "</tbody>\n",
       "</table>\n"
      ],
      "text/latex": [
       "A data.frame: 6 × 992\n",
       "\\begin{tabular}{r|lllllllllllllllllllll}\n",
       "  & ENSG00000142615 & ENSG00000142959 & ENSG00000179751 & ENSG00000183773 & ENSG00000155850 & ENSG00000176387 & ENSG00000243480 & ENSG00000171747 & ENSG00000120756 & ENSG00000184730 & ⋯ & ENSG00000041982 & ENSG00000176894 & ENSG00000161267 & ENSG00000120915 & ENSG00000172456 & ENSG00000103257 & ENSG00000105173 & ENSG00000092758 & ENSG00000172179 & ENSG00000157613\\\\\n",
       "  & <dbl> & <dbl> & <dbl> & <dbl> & <dbl> & <dbl> & <dbl> & <dbl> & <dbl> & <dbl> & ⋯ & <dbl> & <dbl> & <dbl> & <dbl> & <dbl> & <dbl> & <dbl> & <dbl> & <dbl> & <dbl>\\\\\n",
       "\\hline\n",
       "\t87fcecde-b317-4518-bea1-cc8d14a18107.FPKM.txt.gz & 0 & 0 & 0 & 0 & 2 & 2 & 0 & 0 & 2 & 2 & ⋯ & 1 & 3 & 3 & 4 & 1 & 3 & 1 & 0 & 0 & 4\\\\\n",
       "\tbbf9a30d-3067-491b-9aea-0cb9bed91969.FPKM.txt.gz & 0 & 0 & 0 & 0 & 2 & 2 & 0 & 0 & 1 & 2 & ⋯ & 5 & 2 & 1 & 3 & 1 & 1 & 1 & 0 & 0 & 5\\\\\n",
       "\tc909a75f-23e8-4c96-82f2-72e46fdb8155.FPKM.txt.gz & 0 & 0 & 0 & 0 & 1 & 4 & 0 & 0 & 1 & 2 & ⋯ & 3 & 3 & 3 & 2 & 1 & 7 & 4 & 0 & 0 & 2\\\\\n",
       "\t1c89ff2f-6e0a-4244-952b-1391dba1b815.FPKM.txt.gz & 0 & 0 & 0 & 0 & 2 & 2 & 0 & 0 & 0 & 2 & ⋯ & 4 & 3 & 2 & 2 & 2 & 5 & 1 & 4 & 0 & 2\\\\\n",
       "\t2a6ae2e8-733f-4349-8eec-d25e2b4abf86.FPKM.txt.gz & 0 & 0 & 0 & 0 & 2 & 2 & 0 & 0 & 1 & 1 & ⋯ & 5 & 3 & 2 & 4 & 1 & 1 & 0 & 0 & 0 & 5\\\\\n",
       "\t0a2c1866-d6e1-4add-bcb0-b297ba1394ac.FPKM.txt.gz & 0 & 0 & 0 & 0 & 2 & 3 & 0 & 0 & 1 & 1 & ⋯ & 5 & 3 & 1 & 3 & 1 & 3 & 1 & 1 & 0 & 4\\\\\n",
       "\\end{tabular}\n"
      ],
      "text/markdown": [
       "\n",
       "A data.frame: 6 × 992\n",
       "\n",
       "| <!--/--> | ENSG00000142615 &lt;dbl&gt; | ENSG00000142959 &lt;dbl&gt; | ENSG00000179751 &lt;dbl&gt; | ENSG00000183773 &lt;dbl&gt; | ENSG00000155850 &lt;dbl&gt; | ENSG00000176387 &lt;dbl&gt; | ENSG00000243480 &lt;dbl&gt; | ENSG00000171747 &lt;dbl&gt; | ENSG00000120756 &lt;dbl&gt; | ENSG00000184730 &lt;dbl&gt; | ⋯ ⋯ | ENSG00000041982 &lt;dbl&gt; | ENSG00000176894 &lt;dbl&gt; | ENSG00000161267 &lt;dbl&gt; | ENSG00000120915 &lt;dbl&gt; | ENSG00000172456 &lt;dbl&gt; | ENSG00000103257 &lt;dbl&gt; | ENSG00000105173 &lt;dbl&gt; | ENSG00000092758 &lt;dbl&gt; | ENSG00000172179 &lt;dbl&gt; | ENSG00000157613 &lt;dbl&gt; |\n",
       "|---|---|---|---|---|---|---|---|---|---|---|---|---|---|---|---|---|---|---|---|---|---|\n",
       "| 87fcecde-b317-4518-bea1-cc8d14a18107.FPKM.txt.gz | 0 | 0 | 0 | 0 | 2 | 2 | 0 | 0 | 2 | 2 | ⋯ | 1 | 3 | 3 | 4 | 1 | 3 | 1 | 0 | 0 | 4 |\n",
       "| bbf9a30d-3067-491b-9aea-0cb9bed91969.FPKM.txt.gz | 0 | 0 | 0 | 0 | 2 | 2 | 0 | 0 | 1 | 2 | ⋯ | 5 | 2 | 1 | 3 | 1 | 1 | 1 | 0 | 0 | 5 |\n",
       "| c909a75f-23e8-4c96-82f2-72e46fdb8155.FPKM.txt.gz | 0 | 0 | 0 | 0 | 1 | 4 | 0 | 0 | 1 | 2 | ⋯ | 3 | 3 | 3 | 2 | 1 | 7 | 4 | 0 | 0 | 2 |\n",
       "| 1c89ff2f-6e0a-4244-952b-1391dba1b815.FPKM.txt.gz | 0 | 0 | 0 | 0 | 2 | 2 | 0 | 0 | 0 | 2 | ⋯ | 4 | 3 | 2 | 2 | 2 | 5 | 1 | 4 | 0 | 2 |\n",
       "| 2a6ae2e8-733f-4349-8eec-d25e2b4abf86.FPKM.txt.gz | 0 | 0 | 0 | 0 | 2 | 2 | 0 | 0 | 1 | 1 | ⋯ | 5 | 3 | 2 | 4 | 1 | 1 | 0 | 0 | 0 | 5 |\n",
       "| 0a2c1866-d6e1-4add-bcb0-b297ba1394ac.FPKM.txt.gz | 0 | 0 | 0 | 0 | 2 | 3 | 0 | 0 | 1 | 1 | ⋯ | 5 | 3 | 1 | 3 | 1 | 3 | 1 | 1 | 0 | 4 |\n",
       "\n"
      ],
      "text/plain": [
       "                                                 ENSG00000142615\n",
       "87fcecde-b317-4518-bea1-cc8d14a18107.FPKM.txt.gz 0              \n",
       "bbf9a30d-3067-491b-9aea-0cb9bed91969.FPKM.txt.gz 0              \n",
       "c909a75f-23e8-4c96-82f2-72e46fdb8155.FPKM.txt.gz 0              \n",
       "1c89ff2f-6e0a-4244-952b-1391dba1b815.FPKM.txt.gz 0              \n",
       "2a6ae2e8-733f-4349-8eec-d25e2b4abf86.FPKM.txt.gz 0              \n",
       "0a2c1866-d6e1-4add-bcb0-b297ba1394ac.FPKM.txt.gz 0              \n",
       "                                                 ENSG00000142959\n",
       "87fcecde-b317-4518-bea1-cc8d14a18107.FPKM.txt.gz 0              \n",
       "bbf9a30d-3067-491b-9aea-0cb9bed91969.FPKM.txt.gz 0              \n",
       "c909a75f-23e8-4c96-82f2-72e46fdb8155.FPKM.txt.gz 0              \n",
       "1c89ff2f-6e0a-4244-952b-1391dba1b815.FPKM.txt.gz 0              \n",
       "2a6ae2e8-733f-4349-8eec-d25e2b4abf86.FPKM.txt.gz 0              \n",
       "0a2c1866-d6e1-4add-bcb0-b297ba1394ac.FPKM.txt.gz 0              \n",
       "                                                 ENSG00000179751\n",
       "87fcecde-b317-4518-bea1-cc8d14a18107.FPKM.txt.gz 0              \n",
       "bbf9a30d-3067-491b-9aea-0cb9bed91969.FPKM.txt.gz 0              \n",
       "c909a75f-23e8-4c96-82f2-72e46fdb8155.FPKM.txt.gz 0              \n",
       "1c89ff2f-6e0a-4244-952b-1391dba1b815.FPKM.txt.gz 0              \n",
       "2a6ae2e8-733f-4349-8eec-d25e2b4abf86.FPKM.txt.gz 0              \n",
       "0a2c1866-d6e1-4add-bcb0-b297ba1394ac.FPKM.txt.gz 0              \n",
       "                                                 ENSG00000183773\n",
       "87fcecde-b317-4518-bea1-cc8d14a18107.FPKM.txt.gz 0              \n",
       "bbf9a30d-3067-491b-9aea-0cb9bed91969.FPKM.txt.gz 0              \n",
       "c909a75f-23e8-4c96-82f2-72e46fdb8155.FPKM.txt.gz 0              \n",
       "1c89ff2f-6e0a-4244-952b-1391dba1b815.FPKM.txt.gz 0              \n",
       "2a6ae2e8-733f-4349-8eec-d25e2b4abf86.FPKM.txt.gz 0              \n",
       "0a2c1866-d6e1-4add-bcb0-b297ba1394ac.FPKM.txt.gz 0              \n",
       "                                                 ENSG00000155850\n",
       "87fcecde-b317-4518-bea1-cc8d14a18107.FPKM.txt.gz 2              \n",
       "bbf9a30d-3067-491b-9aea-0cb9bed91969.FPKM.txt.gz 2              \n",
       "c909a75f-23e8-4c96-82f2-72e46fdb8155.FPKM.txt.gz 1              \n",
       "1c89ff2f-6e0a-4244-952b-1391dba1b815.FPKM.txt.gz 2              \n",
       "2a6ae2e8-733f-4349-8eec-d25e2b4abf86.FPKM.txt.gz 2              \n",
       "0a2c1866-d6e1-4add-bcb0-b297ba1394ac.FPKM.txt.gz 2              \n",
       "                                                 ENSG00000176387\n",
       "87fcecde-b317-4518-bea1-cc8d14a18107.FPKM.txt.gz 2              \n",
       "bbf9a30d-3067-491b-9aea-0cb9bed91969.FPKM.txt.gz 2              \n",
       "c909a75f-23e8-4c96-82f2-72e46fdb8155.FPKM.txt.gz 4              \n",
       "1c89ff2f-6e0a-4244-952b-1391dba1b815.FPKM.txt.gz 2              \n",
       "2a6ae2e8-733f-4349-8eec-d25e2b4abf86.FPKM.txt.gz 2              \n",
       "0a2c1866-d6e1-4add-bcb0-b297ba1394ac.FPKM.txt.gz 3              \n",
       "                                                 ENSG00000243480\n",
       "87fcecde-b317-4518-bea1-cc8d14a18107.FPKM.txt.gz 0              \n",
       "bbf9a30d-3067-491b-9aea-0cb9bed91969.FPKM.txt.gz 0              \n",
       "c909a75f-23e8-4c96-82f2-72e46fdb8155.FPKM.txt.gz 0              \n",
       "1c89ff2f-6e0a-4244-952b-1391dba1b815.FPKM.txt.gz 0              \n",
       "2a6ae2e8-733f-4349-8eec-d25e2b4abf86.FPKM.txt.gz 0              \n",
       "0a2c1866-d6e1-4add-bcb0-b297ba1394ac.FPKM.txt.gz 0              \n",
       "                                                 ENSG00000171747\n",
       "87fcecde-b317-4518-bea1-cc8d14a18107.FPKM.txt.gz 0              \n",
       "bbf9a30d-3067-491b-9aea-0cb9bed91969.FPKM.txt.gz 0              \n",
       "c909a75f-23e8-4c96-82f2-72e46fdb8155.FPKM.txt.gz 0              \n",
       "1c89ff2f-6e0a-4244-952b-1391dba1b815.FPKM.txt.gz 0              \n",
       "2a6ae2e8-733f-4349-8eec-d25e2b4abf86.FPKM.txt.gz 0              \n",
       "0a2c1866-d6e1-4add-bcb0-b297ba1394ac.FPKM.txt.gz 0              \n",
       "                                                 ENSG00000120756\n",
       "87fcecde-b317-4518-bea1-cc8d14a18107.FPKM.txt.gz 2              \n",
       "bbf9a30d-3067-491b-9aea-0cb9bed91969.FPKM.txt.gz 1              \n",
       "c909a75f-23e8-4c96-82f2-72e46fdb8155.FPKM.txt.gz 1              \n",
       "1c89ff2f-6e0a-4244-952b-1391dba1b815.FPKM.txt.gz 0              \n",
       "2a6ae2e8-733f-4349-8eec-d25e2b4abf86.FPKM.txt.gz 1              \n",
       "0a2c1866-d6e1-4add-bcb0-b297ba1394ac.FPKM.txt.gz 1              \n",
       "                                                 ENSG00000184730 ⋯\n",
       "87fcecde-b317-4518-bea1-cc8d14a18107.FPKM.txt.gz 2               ⋯\n",
       "bbf9a30d-3067-491b-9aea-0cb9bed91969.FPKM.txt.gz 2               ⋯\n",
       "c909a75f-23e8-4c96-82f2-72e46fdb8155.FPKM.txt.gz 2               ⋯\n",
       "1c89ff2f-6e0a-4244-952b-1391dba1b815.FPKM.txt.gz 2               ⋯\n",
       "2a6ae2e8-733f-4349-8eec-d25e2b4abf86.FPKM.txt.gz 1               ⋯\n",
       "0a2c1866-d6e1-4add-bcb0-b297ba1394ac.FPKM.txt.gz 1               ⋯\n",
       "                                                 ENSG00000041982\n",
       "87fcecde-b317-4518-bea1-cc8d14a18107.FPKM.txt.gz 1              \n",
       "bbf9a30d-3067-491b-9aea-0cb9bed91969.FPKM.txt.gz 5              \n",
       "c909a75f-23e8-4c96-82f2-72e46fdb8155.FPKM.txt.gz 3              \n",
       "1c89ff2f-6e0a-4244-952b-1391dba1b815.FPKM.txt.gz 4              \n",
       "2a6ae2e8-733f-4349-8eec-d25e2b4abf86.FPKM.txt.gz 5              \n",
       "0a2c1866-d6e1-4add-bcb0-b297ba1394ac.FPKM.txt.gz 5              \n",
       "                                                 ENSG00000176894\n",
       "87fcecde-b317-4518-bea1-cc8d14a18107.FPKM.txt.gz 3              \n",
       "bbf9a30d-3067-491b-9aea-0cb9bed91969.FPKM.txt.gz 2              \n",
       "c909a75f-23e8-4c96-82f2-72e46fdb8155.FPKM.txt.gz 3              \n",
       "1c89ff2f-6e0a-4244-952b-1391dba1b815.FPKM.txt.gz 3              \n",
       "2a6ae2e8-733f-4349-8eec-d25e2b4abf86.FPKM.txt.gz 3              \n",
       "0a2c1866-d6e1-4add-bcb0-b297ba1394ac.FPKM.txt.gz 3              \n",
       "                                                 ENSG00000161267\n",
       "87fcecde-b317-4518-bea1-cc8d14a18107.FPKM.txt.gz 3              \n",
       "bbf9a30d-3067-491b-9aea-0cb9bed91969.FPKM.txt.gz 1              \n",
       "c909a75f-23e8-4c96-82f2-72e46fdb8155.FPKM.txt.gz 3              \n",
       "1c89ff2f-6e0a-4244-952b-1391dba1b815.FPKM.txt.gz 2              \n",
       "2a6ae2e8-733f-4349-8eec-d25e2b4abf86.FPKM.txt.gz 2              \n",
       "0a2c1866-d6e1-4add-bcb0-b297ba1394ac.FPKM.txt.gz 1              \n",
       "                                                 ENSG00000120915\n",
       "87fcecde-b317-4518-bea1-cc8d14a18107.FPKM.txt.gz 4              \n",
       "bbf9a30d-3067-491b-9aea-0cb9bed91969.FPKM.txt.gz 3              \n",
       "c909a75f-23e8-4c96-82f2-72e46fdb8155.FPKM.txt.gz 2              \n",
       "1c89ff2f-6e0a-4244-952b-1391dba1b815.FPKM.txt.gz 2              \n",
       "2a6ae2e8-733f-4349-8eec-d25e2b4abf86.FPKM.txt.gz 4              \n",
       "0a2c1866-d6e1-4add-bcb0-b297ba1394ac.FPKM.txt.gz 3              \n",
       "                                                 ENSG00000172456\n",
       "87fcecde-b317-4518-bea1-cc8d14a18107.FPKM.txt.gz 1              \n",
       "bbf9a30d-3067-491b-9aea-0cb9bed91969.FPKM.txt.gz 1              \n",
       "c909a75f-23e8-4c96-82f2-72e46fdb8155.FPKM.txt.gz 1              \n",
       "1c89ff2f-6e0a-4244-952b-1391dba1b815.FPKM.txt.gz 2              \n",
       "2a6ae2e8-733f-4349-8eec-d25e2b4abf86.FPKM.txt.gz 1              \n",
       "0a2c1866-d6e1-4add-bcb0-b297ba1394ac.FPKM.txt.gz 1              \n",
       "                                                 ENSG00000103257\n",
       "87fcecde-b317-4518-bea1-cc8d14a18107.FPKM.txt.gz 3              \n",
       "bbf9a30d-3067-491b-9aea-0cb9bed91969.FPKM.txt.gz 1              \n",
       "c909a75f-23e8-4c96-82f2-72e46fdb8155.FPKM.txt.gz 7              \n",
       "1c89ff2f-6e0a-4244-952b-1391dba1b815.FPKM.txt.gz 5              \n",
       "2a6ae2e8-733f-4349-8eec-d25e2b4abf86.FPKM.txt.gz 1              \n",
       "0a2c1866-d6e1-4add-bcb0-b297ba1394ac.FPKM.txt.gz 3              \n",
       "                                                 ENSG00000105173\n",
       "87fcecde-b317-4518-bea1-cc8d14a18107.FPKM.txt.gz 1              \n",
       "bbf9a30d-3067-491b-9aea-0cb9bed91969.FPKM.txt.gz 1              \n",
       "c909a75f-23e8-4c96-82f2-72e46fdb8155.FPKM.txt.gz 4              \n",
       "1c89ff2f-6e0a-4244-952b-1391dba1b815.FPKM.txt.gz 1              \n",
       "2a6ae2e8-733f-4349-8eec-d25e2b4abf86.FPKM.txt.gz 0              \n",
       "0a2c1866-d6e1-4add-bcb0-b297ba1394ac.FPKM.txt.gz 1              \n",
       "                                                 ENSG00000092758\n",
       "87fcecde-b317-4518-bea1-cc8d14a18107.FPKM.txt.gz 0              \n",
       "bbf9a30d-3067-491b-9aea-0cb9bed91969.FPKM.txt.gz 0              \n",
       "c909a75f-23e8-4c96-82f2-72e46fdb8155.FPKM.txt.gz 0              \n",
       "1c89ff2f-6e0a-4244-952b-1391dba1b815.FPKM.txt.gz 4              \n",
       "2a6ae2e8-733f-4349-8eec-d25e2b4abf86.FPKM.txt.gz 0              \n",
       "0a2c1866-d6e1-4add-bcb0-b297ba1394ac.FPKM.txt.gz 1              \n",
       "                                                 ENSG00000172179\n",
       "87fcecde-b317-4518-bea1-cc8d14a18107.FPKM.txt.gz 0              \n",
       "bbf9a30d-3067-491b-9aea-0cb9bed91969.FPKM.txt.gz 0              \n",
       "c909a75f-23e8-4c96-82f2-72e46fdb8155.FPKM.txt.gz 0              \n",
       "1c89ff2f-6e0a-4244-952b-1391dba1b815.FPKM.txt.gz 0              \n",
       "2a6ae2e8-733f-4349-8eec-d25e2b4abf86.FPKM.txt.gz 0              \n",
       "0a2c1866-d6e1-4add-bcb0-b297ba1394ac.FPKM.txt.gz 0              \n",
       "                                                 ENSG00000157613\n",
       "87fcecde-b317-4518-bea1-cc8d14a18107.FPKM.txt.gz 4              \n",
       "bbf9a30d-3067-491b-9aea-0cb9bed91969.FPKM.txt.gz 5              \n",
       "c909a75f-23e8-4c96-82f2-72e46fdb8155.FPKM.txt.gz 2              \n",
       "1c89ff2f-6e0a-4244-952b-1391dba1b815.FPKM.txt.gz 2              \n",
       "2a6ae2e8-733f-4349-8eec-d25e2b4abf86.FPKM.txt.gz 5              \n",
       "0a2c1866-d6e1-4add-bcb0-b297ba1394ac.FPKM.txt.gz 4              "
      ]
     },
     "metadata": {},
     "output_type": "display_data"
    }
   ],
   "source": [
    "head(datExpr)"
   ]
  },
  {
   "cell_type": "code",
   "execution_count": 16,
   "metadata": {},
   "outputs": [
    {
     "data": {
      "text/html": [
       "<table>\n",
       "<caption>A data.frame: 6 × 2</caption>\n",
       "<thead>\n",
       "\t<tr><th></th><th scope=col>Subtype_Selected</th><th scope=col>Subtype_Selected_Lum</th></tr>\n",
       "\t<tr><th></th><th scope=col>&lt;chr&gt;</th><th scope=col>&lt;chr&gt;</th></tr>\n",
       "</thead>\n",
       "<tbody>\n",
       "\t<tr><th scope=row>87fcecde-b317-4518-bea1-cc8d14a18107.FPKM.txt.gz</th><td>BRCA.LumB  </td><td>BRCA.Lum   </td></tr>\n",
       "\t<tr><th scope=row>bbf9a30d-3067-491b-9aea-0cb9bed91969.FPKM.txt.gz</th><td>BRCA.LumA  </td><td>BRCA.Lum   </td></tr>\n",
       "\t<tr><th scope=row>c909a75f-23e8-4c96-82f2-72e46fdb8155.FPKM.txt.gz</th><td>BRCA.Basal </td><td>BRCA.Basal </td></tr>\n",
       "\t<tr><th scope=row>1c89ff2f-6e0a-4244-952b-1391dba1b815.FPKM.txt.gz</th><td>BRCA.Normal</td><td>BRCA.Normal</td></tr>\n",
       "\t<tr><th scope=row>2a6ae2e8-733f-4349-8eec-d25e2b4abf86.FPKM.txt.gz</th><td>BRCA.LumA  </td><td>BRCA.Lum   </td></tr>\n",
       "\t<tr><th scope=row>0a2c1866-d6e1-4add-bcb0-b297ba1394ac.FPKM.txt.gz</th><td>BRCA.LumB  </td><td>BRCA.Lum   </td></tr>\n",
       "</tbody>\n",
       "</table>\n"
      ],
      "text/latex": [
       "A data.frame: 6 × 2\n",
       "\\begin{tabular}{r|ll}\n",
       "  & Subtype\\_Selected & Subtype\\_Selected\\_Lum\\\\\n",
       "  & <chr> & <chr>\\\\\n",
       "\\hline\n",
       "\t87fcecde-b317-4518-bea1-cc8d14a18107.FPKM.txt.gz & BRCA.LumB   & BRCA.Lum   \\\\\n",
       "\tbbf9a30d-3067-491b-9aea-0cb9bed91969.FPKM.txt.gz & BRCA.LumA   & BRCA.Lum   \\\\\n",
       "\tc909a75f-23e8-4c96-82f2-72e46fdb8155.FPKM.txt.gz & BRCA.Basal  & BRCA.Basal \\\\\n",
       "\t1c89ff2f-6e0a-4244-952b-1391dba1b815.FPKM.txt.gz & BRCA.Normal & BRCA.Normal\\\\\n",
       "\t2a6ae2e8-733f-4349-8eec-d25e2b4abf86.FPKM.txt.gz & BRCA.LumA   & BRCA.Lum   \\\\\n",
       "\t0a2c1866-d6e1-4add-bcb0-b297ba1394ac.FPKM.txt.gz & BRCA.LumB   & BRCA.Lum   \\\\\n",
       "\\end{tabular}\n"
      ],
      "text/markdown": [
       "\n",
       "A data.frame: 6 × 2\n",
       "\n",
       "| <!--/--> | Subtype_Selected &lt;chr&gt; | Subtype_Selected_Lum &lt;chr&gt; |\n",
       "|---|---|---|\n",
       "| 87fcecde-b317-4518-bea1-cc8d14a18107.FPKM.txt.gz | BRCA.LumB   | BRCA.Lum    |\n",
       "| bbf9a30d-3067-491b-9aea-0cb9bed91969.FPKM.txt.gz | BRCA.LumA   | BRCA.Lum    |\n",
       "| c909a75f-23e8-4c96-82f2-72e46fdb8155.FPKM.txt.gz | BRCA.Basal  | BRCA.Basal  |\n",
       "| 1c89ff2f-6e0a-4244-952b-1391dba1b815.FPKM.txt.gz | BRCA.Normal | BRCA.Normal |\n",
       "| 2a6ae2e8-733f-4349-8eec-d25e2b4abf86.FPKM.txt.gz | BRCA.LumA   | BRCA.Lum    |\n",
       "| 0a2c1866-d6e1-4add-bcb0-b297ba1394ac.FPKM.txt.gz | BRCA.LumB   | BRCA.Lum    |\n",
       "\n"
      ],
      "text/plain": [
       "                                                 Subtype_Selected\n",
       "87fcecde-b317-4518-bea1-cc8d14a18107.FPKM.txt.gz BRCA.LumB       \n",
       "bbf9a30d-3067-491b-9aea-0cb9bed91969.FPKM.txt.gz BRCA.LumA       \n",
       "c909a75f-23e8-4c96-82f2-72e46fdb8155.FPKM.txt.gz BRCA.Basal      \n",
       "1c89ff2f-6e0a-4244-952b-1391dba1b815.FPKM.txt.gz BRCA.Normal     \n",
       "2a6ae2e8-733f-4349-8eec-d25e2b4abf86.FPKM.txt.gz BRCA.LumA       \n",
       "0a2c1866-d6e1-4add-bcb0-b297ba1394ac.FPKM.txt.gz BRCA.LumB       \n",
       "                                                 Subtype_Selected_Lum\n",
       "87fcecde-b317-4518-bea1-cc8d14a18107.FPKM.txt.gz BRCA.Lum            \n",
       "bbf9a30d-3067-491b-9aea-0cb9bed91969.FPKM.txt.gz BRCA.Lum            \n",
       "c909a75f-23e8-4c96-82f2-72e46fdb8155.FPKM.txt.gz BRCA.Basal          \n",
       "1c89ff2f-6e0a-4244-952b-1391dba1b815.FPKM.txt.gz BRCA.Normal         \n",
       "2a6ae2e8-733f-4349-8eec-d25e2b4abf86.FPKM.txt.gz BRCA.Lum            \n",
       "0a2c1866-d6e1-4add-bcb0-b297ba1394ac.FPKM.txt.gz BRCA.Lum            "
      ]
     },
     "metadata": {},
     "output_type": "display_data"
    }
   ],
   "source": [
    "rownames(allTraits) <- allTraits$file_name\n",
    "datTraits <- allTraits[keepSamples,labels]\n",
    "rownames(datTraits) <- rownames(allTraits[keepSamples,labels])\n",
    "datTraits <- datTraits[rownames(datExpr),]\n",
    "head(datTraits)"
   ]
  },
  {
   "cell_type": "code",
   "execution_count": 17,
   "metadata": {},
   "outputs": [],
   "source": [
    "collectGarbage();"
   ]
  },
  {
   "cell_type": "code",
   "execution_count": 18,
   "metadata": {},
   "outputs": [
    {
     "data": {
      "text/html": [
       "<strong>png:</strong> 2"
      ],
      "text/latex": [
       "\\textbf{png:} 2"
      ],
      "text/markdown": [
       "**png:** 2"
      ],
      "text/plain": [
       "png \n",
       "  2 "
      ]
     },
     "metadata": {},
     "output_type": "display_data"
    }
   ],
   "source": [
    "# Re-cluster samples\n",
    "sampleTree2 = hclust(dist(datExpr), method = \"average\")\n",
    "fontsize=.5\n",
    "# Convert traits to a color representation: white means low, red means high, grey means missing entry\n",
    "traitColors = labels2colors(datTraits);\n",
    "# Plot the sample dendrogram and the colors underneath.\n",
    "pdf(\"tests/low_filters/samplehiercut.pdf\")\n",
    "plotDendroAndColors(sampleTree2, traitColors,\n",
    "    groupLabels = labels,\n",
    "    main = \"Sample dendrogram and trait heatmap\",\n",
    "    dendroLabels=FALSE,\n",
    "    rowText=datTraits,\n",
    "    rowTextIgnore=labels[[2]]\n",
    "    )\n",
    "dev.off()"
   ]
  },
  {
   "cell_type": "markdown",
   "metadata": {},
   "source": [
    "## 2"
   ]
  },
  {
   "cell_type": "code",
   "execution_count": 19,
   "metadata": {},
   "outputs": [
    {
     "name": "stdout",
     "output_type": "stream",
     "text": [
      "pickSoftThreshold: will use block size 992.\n",
      " pickSoftThreshold: calculating connectivity for given powers...\n",
      "   ..working on genes 1 through 992 of 992\n"
     ]
    },
    {
     "name": "stderr",
     "output_type": "stream",
     "text": [
      "Warning message in eval(xpr, envir = envir):\n",
      "“Some correlations are NA in block 1 : 992 .”\n",
      "Warning message in eval(xpr, envir = envir):\n",
      "“Some correlations are NA in block 1 : 992 .”\n"
     ]
    },
    {
     "name": "stdout",
     "output_type": "stream",
     "text": [
      "   Power SFT.R.sq  slope truncated.R.sq  mean.k. median.k. max.k.\n",
      "1      1    0.634  0.645        0.94300 111.0000  1.07e+02 215.00\n",
      "2      2    0.728 -0.954        0.95700  26.5000  2.11e+01  90.30\n",
      "3      3    0.907 -1.340        0.97000   9.4500  5.47e+00  50.00\n",
      "4      4    0.908 -1.410        0.94200   4.3100  1.73e+00  32.20\n",
      "5      5    0.948 -1.360        0.96600   2.3100  6.30e-01  22.70\n",
      "6      6    0.970 -1.320        0.96900   1.4000  2.51e-01  17.10\n",
      "7      7    0.948 -1.290        0.93300   0.9190  1.02e-01  13.50\n",
      "8      8    0.953 -1.270        0.94200   0.6460  4.30e-02  11.50\n",
      "9      9    0.933 -1.290        0.91400   0.4790  1.88e-02  10.50\n",
      "10    10    0.968 -1.250        0.96100   0.3690  8.32e-03   9.66\n",
      "11    12    0.987 -1.210        0.98600   0.2420  1.73e-03   8.33\n",
      "12    14    0.958 -1.180        0.95200   0.1740  3.72e-04   7.33\n",
      "13    16    0.858 -1.150        0.83700   0.1340  8.90e-05   6.56\n",
      "14    18    0.242 -1.530        0.02640   0.1080  2.21e-05   5.94\n",
      "15    20    0.863 -1.090        0.84200   0.0898  5.36e-06   5.43\n",
      "16    22    0.218 -1.370        0.00575   0.0769  1.40e-06   5.01\n",
      "17    24    0.221 -1.340        0.01370   0.0673  3.60e-07   4.65\n",
      "18    26    0.223 -1.290        0.01300   0.0599  9.30e-08   4.33\n",
      "19    28    0.225 -1.260        0.01600   0.0540  2.46e-08   4.06\n",
      "20    30    0.198 -1.160        0.02950   0.0493  6.37e-09   3.82\n",
      "21    32    0.215 -1.530       -0.00879   0.0454  1.70e-09   3.60\n",
      "22    34    0.206 -1.110        0.03730   0.0421  4.50e-10   3.41\n",
      "23    36    0.204 -1.120        0.03960   0.0393  1.19e-10   3.23\n",
      "24    38    0.208 -1.100        0.04420   0.0369  3.21e-11   3.07\n",
      "25    40    0.185 -1.010        0.09030   0.0349  8.49e-12   3.02\n",
      "26    42    0.207 -1.340       -0.01780   0.0331  2.28e-12   3.01\n",
      "27    44    0.184 -1.020        0.10300   0.0315  6.19e-13   3.01\n",
      "28    46    0.869 -0.937        0.91200   0.0301  1.67e-13   3.01\n",
      "29    48    0.284 -1.270        0.09360   0.0288  4.45e-14   3.01\n",
      "30    50    0.304 -1.280        0.16500   0.0277  1.19e-14   3.01\n"
     ]
    },
    {
     "data": {
      "text/html": [
       "<strong>png:</strong> 2"
      ],
      "text/latex": [
       "\\textbf{png:} 2"
      ],
      "text/markdown": [
       "**png:** 2"
      ],
      "text/plain": [
       "png \n",
       "  2 "
      ]
     },
     "metadata": {},
     "output_type": "display_data"
    }
   ],
   "source": [
    "# Choose a set of soft-thresholding powers\n",
    "powers = c(c(1:10), seq(from = 12, to=50, by=2))\n",
    "# Call the network topology analysis function\n",
    "sft = pickSoftThreshold(datExpr, powerVector = powers, verbose = 5)\n",
    "# Plot the results:\n",
    "sizeGrWindow(9, 5)\n",
    "pdf(\"tests/low_filters/scaletopology.pdf\")\n",
    "par(mfrow = c(1,2));\n",
    "cex1 = 0.9;\n",
    "# Scale-free topology fit index as a function of the soft-thresholding power\n",
    "plot(sft$fitIndices[,1], -sign(sft$fitIndices[,3])*sft$fitIndices[,2],\n",
    "xlab=\"Soft Threshold (power)\",ylab=\"Scale Free Topology Model Fit,signed R^2\",type=\"n\",\n",
    "main = paste(\"Scale independence\"));\n",
    "text(sft$fitIndices[,1], -sign(sft$fitIndices[,3])*sft$fitIndices[,2],\n",
    "labels=powers,cex=cex1,col=\"red\");\n",
    "# this line corresponds to using an R^2 cut-off of h\n",
    "abline(h=0.90,col=\"red\")\n",
    "# Mean connectivity as a function of the soft-thresholding power\n",
    "plot(sft$fitIndices[,1], sft$fitIndices[,5],\n",
    "xlab=\"Soft Threshold (power)\",ylab=\"Mean Connectivity\", type=\"n\",\n",
    "main = paste(\"Mean connectivity\"))\n",
    "text(sft$fitIndices[,1], sft$fitIndices[,5], labels=powers, cex=cex1,col=\"red\")\n",
    "dev.off()"
   ]
  },
  {
   "cell_type": "code",
   "execution_count": 20,
   "metadata": {},
   "outputs": [
    {
     "name": "stdout",
     "output_type": "stream",
     "text": [
      " Calculating module eigengenes block-wise from all genes\n",
      "   Flagging genes and samples with too many missing values...\n",
      "    ..step 1\n",
      "  ..Excluding 5 genes from the calculation due to too many missing samples or zero variance.\n",
      "    ..step 2\n",
      " ..Working on block 1 .\n",
      "    TOM calculation: adjacency..\n",
      "    ..will use 2 parallel threads.\n",
      "     Fraction of slow calculations: 0.000000\n",
      "    ..connectivity..\n",
      "    ..matrix multiplication (system BLAS)..\n",
      "    ..normalization..\n",
      "    ..done.\n",
      "   ..saving TOM for block 1 into file wgcna-block.1.RData\n",
      " ....clustering..\n",
      " ....detecting modules..\n",
      " ....calculating module eigengenes..\n",
      " ....checking kME in modules..\n",
      " ..merging modules that are too close..\n",
      "     mergeCloseModules: Merging modules whose distance is less than 0.8\n",
      "     mergeCloseModules: less than two proper modules.\n",
      "      ..color levels are 0, 1\n",
      "      ..there is nothing to merge.\n",
      "       Calculating new MEs...\n"
     ]
    }
   ],
   "source": [
    "#net = blockwiseModules(datExpr, power = 30,\n",
    "#TOMType = \"unsigned\", minModuleSize = 5,\n",
    "#reassignThreshold = 0, mergeCutHeight = 0.2,\n",
    "#numericLabels = TRUE, pamRespectsDendro = FALSE,\n",
    "#saveTOMs = TRUE,\n",
    "#saveTOMFileBase = \"wgcna\",\n",
    "#verbose = 3)\n",
    "\n",
    "net = blockwiseModules(datExpr, power = 30,\n",
    "TOMType = \"unsigned\", minModuleSize = 20,\n",
    "reassignThreshold = 0, mergeCutHeight = 0.8,\n",
    "numericLabels = TRUE, pamRespectsDendro = FALSE,\n",
    "saveTOMs = TRUE,\n",
    "saveTOMFileBase = \"wgcna\",\n",
    "verbose = 3)"
   ]
  },
  {
   "cell_type": "code",
   "execution_count": 21,
   "metadata": {},
   "outputs": [
    {
     "data": {
      "text/html": [
       "<strong>png:</strong> 2"
      ],
      "text/latex": [
       "\\textbf{png:} 2"
      ],
      "text/markdown": [
       "**png:** 2"
      ],
      "text/plain": [
       "png \n",
       "  2 "
      ]
     },
     "metadata": {},
     "output_type": "display_data"
    }
   ],
   "source": [
    "# open a graphics window\n",
    "sizeGrWindow(12, 9)\n",
    "pdf(\"tests/low_filters/netdendograms.pdf\")\n",
    "# Convert labels to colors for plotting\n",
    "mergedColors = labels2colors(net$colors)\n",
    "# Plot the dendrogram and the module colors underneath\n",
    "plotDendroAndColors(net$dendrograms[[1]], mergedColors[net$blockGenes[[1]]],\n",
    "\"Module colors\",\n",
    "dendroLabels = FALSE, hang = 0.03,\n",
    "addGuide = TRUE, guideHang = 0.05)\n",
    "dev.off()"
   ]
  },
  {
   "cell_type": "code",
   "execution_count": 22,
   "metadata": {},
   "outputs": [],
   "source": [
    "moduleLabels = net$colors\n",
    "moduleColors = labels2colors(net$colors)\n",
    "MEs = net$MEs;\n",
    "geneTree = net$dendrograms[[1]];"
   ]
  },
  {
   "cell_type": "markdown",
   "metadata": {},
   "source": [
    "## 3"
   ]
  },
  {
   "cell_type": "code",
   "execution_count": null,
   "metadata": {},
   "outputs": [],
   "source": [
    "# Lung\n",
    "datTraits$cancer.type <- match(datTraits$cancer.type, unique(datTraits$cancer.type))\n",
    "datTraits$Subtype_Selected <- match(datTraits$Subtype_Selected, unique(datTraits$Subtype_Selected))"
   ]
  },
  {
   "cell_type": "code",
   "execution_count": 23,
   "metadata": {},
   "outputs": [],
   "source": [
    "# BRCA\n",
    "datTraits$Subtype_Selected <- match(datTraits$Subtype_Selected, unique(datTraits$Subtype_Selected))\n",
    "datTraits$Subtype_Selected_Lum <- match(datTraits$Subtype_Selected_Lum, unique(datTraits$Subtype_Selected_Lum))"
   ]
  },
  {
   "cell_type": "code",
   "execution_count": 24,
   "metadata": {},
   "outputs": [],
   "source": [
    "# Define numbers of genes and samples\n",
    "nGenes = ncol(datExpr);\n",
    "nSamples = nrow(datExpr);\n",
    "# Recalculate MEs with color labels\n",
    "MEs0 = moduleEigengenes(datExpr, moduleColors)$eigengenes\n",
    "MEs = orderMEs(MEs0)\n",
    "moduleTraitCor = cor(MEs, datTraits, use = \"p\");\n",
    "moduleTraitPvalue = corPvalueStudent(moduleTraitCor, nSamples);"
   ]
  },
  {
   "cell_type": "code",
   "execution_count": 25,
   "metadata": {},
   "outputs": [
    {
     "data": {
      "text/html": [
       "<strong>png:</strong> 2"
      ],
      "text/latex": [
       "\\textbf{png:} 2"
      ],
      "text/markdown": [
       "**png:** 2"
      ],
      "text/plain": [
       "png \n",
       "  2 "
      ]
     },
     "metadata": {},
     "output_type": "display_data"
    }
   ],
   "source": [
    "pdf(\"tests/low_filters/moduleTrait.pdf\", width=9, height=18)\n",
    "# Will display correlations and their p-values\n",
    "textMatrix = paste(signif(moduleTraitCor, 2), \"\\n(\",\n",
    "signif(moduleTraitPvalue, 1), \")\", sep = \"\");\n",
    "dim(textMatrix) = dim(moduleTraitCor)\n",
    "par(mar = c(6, 8.5, 3, 3));\n",
    "# Display the correlation values within a heatmap plot\n",
    "labeledHeatmap(Matrix = moduleTraitCor,\n",
    "xLabels = labels,\n",
    "yLabels = names(MEs),\n",
    "ySymbols = names(MEs),\n",
    "colorLabels = FALSE,\n",
    "colors = blueWhiteRed(50),\n",
    "textMatrix = textMatrix,\n",
    "setStdMargins = FALSE,\n",
    "cex.text = 0.5,\n",
    "zlim = c(-1,1),\n",
    "main = paste(\"Module-trait relationships\"))\n",
    "dev.off()"
   ]
  },
  {
   "cell_type": "code",
   "execution_count": 26,
   "metadata": {},
   "outputs": [
    {
     "name": "stderr",
     "output_type": "stream",
     "text": [
      "Warning message in storage.mode(y) <- \"double\":\n",
      "“NAs introduced by coercion”\n"
     ]
    }
   ],
   "source": [
    "# Define variable weight containing the weight column of datTrait\n",
    "weight = as.data.frame(rownames(datTraits));\n",
    "names(weight) = \"weight\"\n",
    "# names (colors) of the modules\n",
    "modNames = substring(names(MEs), 3)\n",
    "geneModuleMembership = as.data.frame(cor(datExpr, MEs, use = \"p\"));\n",
    "MMPvalue = as.data.frame(corPvalueStudent(as.matrix(geneModuleMembership), nSamples));\n",
    "names(geneModuleMembership) = paste(\"MM\", modNames, sep=\"\");\n",
    "names(MMPvalue) = paste(\"p.MM\", modNames, sep=\"\");\n",
    "geneTraitSignificance = as.data.frame(cor(datExpr, weight, use = \"p\"));\n",
    "GSPvalue = as.data.frame(corPvalueStudent(as.matrix(geneTraitSignificance), nSamples));\n",
    "names(geneTraitSignificance) = paste(\"GS.\", names(weight), sep=\"\");\n",
    "names(GSPvalue) = paste(\"p.GS.\", names(weight), sep=\"\");"
   ]
  },
  {
   "cell_type": "code",
   "execution_count": 27,
   "metadata": {},
   "outputs": [
    {
     "data": {
      "text/html": [
       "<style>\n",
       ".list-inline {list-style: none; margin:0; padding: 0}\n",
       ".list-inline>li {display: inline-block}\n",
       ".list-inline>li:not(:last-child)::after {content: \"\\00b7\"; padding: 0 .5ex}\n",
       "</style>\n",
       "<ol class=list-inline><li>'turquoise'</li><li>'grey'</li></ol>\n"
      ],
      "text/latex": [
       "\\begin{enumerate*}\n",
       "\\item 'turquoise'\n",
       "\\item 'grey'\n",
       "\\end{enumerate*}\n"
      ],
      "text/markdown": [
       "1. 'turquoise'\n",
       "2. 'grey'\n",
       "\n",
       "\n"
      ],
      "text/plain": [
       "[1] \"turquoise\" \"grey\"     "
      ]
     },
     "metadata": {},
     "output_type": "display_data"
    }
   ],
   "source": [
    "modNames"
   ]
  },
  {
   "cell_type": "code",
   "execution_count": 28,
   "metadata": {},
   "outputs": [
    {
     "name": "stderr",
     "output_type": "stream",
     "text": [
      "Warning message in sqrt(nSamples - 2):\n",
      "“NaNs produced”\n",
      "Warning message in min(x):\n",
      "“no non-missing arguments to min; returning Inf”\n",
      "Warning message in max(x):\n",
      "“no non-missing arguments to max; returning -Inf”\n"
     ]
    },
    {
     "ename": "ERROR",
     "evalue": "Error in plot.window(...): need finite 'ylim' values\n",
     "output_type": "error",
     "traceback": [
      "Error in plot.window(...): need finite 'ylim' values\nTraceback:\n",
      "1. verboseScatterplot(abs(geneModuleMembership[moduleGenes, column]), \n .     abs(geneTraitSignificance[moduleGenes, 1]), xlab = paste(\"Module Membership in\", \n .         module, \"module\"), ylab = \"Gene significance for primary_site\", \n .     main = paste(\"Module membership vs. gene significance\\n\"), \n .     cex.main = 1.2, cex.lab = 1.2, cex.axis = 1.2, col = module)",
      "2. plot(x[order1], y[order1], main = mainX, xlab = xlab, ylab = ylab, \n .     cex.axis = cex.axis, cex.lab = cex.lab, cex.main = cex.main, \n .     col = col[order1], bg = bg[order1], pch = pch[order1], cex = cex[order1], \n .     ...)",
      "3. plot.default(x[order1], y[order1], main = mainX, xlab = xlab, \n .     ylab = ylab, cex.axis = cex.axis, cex.lab = cex.lab, cex.main = cex.main, \n .     col = col[order1], bg = bg[order1], pch = pch[order1], cex = cex[order1], \n .     ...)",
      "4. localWindow(xlim, ylim, log, asp, ...)",
      "5. plot.window(...)"
     ]
    }
   ],
   "source": [
    "module = \"grey\"\n",
    "column = match(module, modNames);\n",
    "moduleGenes = moduleColors==module;\n",
    "sizeGrWindow(7, 7);\n",
    "pdf(\"tests/low_filters/modulemembership.pdf\")\n",
    "par(mfrow = c(1,1));\n",
    "verboseScatterplot(abs(geneModuleMembership[moduleGenes, column]),\n",
    "    abs(geneTraitSignificance[moduleGenes, 1]),\n",
    "    xlab = paste(\"Module Membership in\", module, \"module\"),\n",
    "    ylab = \"Gene significance for primary_site\",\n",
    "    main = paste(\"Module membership vs. gene significance\\n\"),\n",
    "    cex.main = 1.2, cex.lab = 1.2, cex.axis = 1.2, col = module)\n",
    "dev.off()"
   ]
  },
  {
   "cell_type": "markdown",
   "metadata": {},
   "source": [
    "## 5 "
   ]
  },
  {
   "cell_type": "code",
   "execution_count": 29,
   "metadata": {},
   "outputs": [
    {
     "data": {
      "text/html": [
       "<strong>png:</strong> 2"
      ],
      "text/latex": [
       "\\textbf{png:} 2"
      ],
      "text/markdown": [
       "**png:** 2"
      ],
      "text/plain": [
       "png \n",
       "  2 "
      ]
     },
     "metadata": {},
     "output_type": "display_data"
    }
   ],
   "source": [
    "# Re-cluster samples\n",
    "sampleTree3 = hclust(dist(MEs0), method = \"average\")\n",
    "# Convert traits to a color representation: white means low, red means high, grey means missing entry\n",
    "traitColors = labels2colors(datTraits);\n",
    "# Plot the sample dendrogram and the colors underneath.\n",
    "pdf(\"tests/low_filters/nethier.pdf\", width=10)\n",
    "# Set the plot margin: bottom, left, top & right\n",
    "par(mar = c(5, 4, 1.4, 0.2) + 0.1,\n",
    "    xpd = NA) # allow content to go into outer margin \n",
    "plotDendroAndColors(sampleTree3, traitColors,\n",
    "groupLabels = labels,\n",
    "main = \"Network dendrogram and trait heatmap\",\n",
    "dendroLabels=FALSE,\n",
    "#rowText=allTraits[keepSamples,labels],\n",
    "#rowTextIgnore=labels[[2]],\n",
    "addGuide=TRUE)\n",
    "dev.off()"
   ]
  },
  {
   "cell_type": "code",
   "execution_count": 30,
   "metadata": {},
   "outputs": [
    {
     "data": {
      "text/html": [
       "<style>\n",
       ".list-inline {list-style: none; margin:0; padding: 0}\n",
       ".list-inline>li {display: inline-block}\n",
       ".list-inline>li:not(:last-child)::after {content: \"\\00b7\"; padding: 0 .5ex}\n",
       "</style>\n",
       "<ol class=list-inline><li>'BRCA.LumB'</li><li>'BRCA.LumA'</li><li>'BRCA.Basal'</li><li>'BRCA.Normal'</li><li>'unknown'</li><li>'BRCA.Her2'</li></ol>\n"
      ],
      "text/latex": [
       "\\begin{enumerate*}\n",
       "\\item 'BRCA.LumB'\n",
       "\\item 'BRCA.LumA'\n",
       "\\item 'BRCA.Basal'\n",
       "\\item 'BRCA.Normal'\n",
       "\\item 'unknown'\n",
       "\\item 'BRCA.Her2'\n",
       "\\end{enumerate*}\n"
      ],
      "text/markdown": [
       "1. 'BRCA.LumB'\n",
       "2. 'BRCA.LumA'\n",
       "3. 'BRCA.Basal'\n",
       "4. 'BRCA.Normal'\n",
       "5. 'unknown'\n",
       "6. 'BRCA.Her2'\n",
       "\n",
       "\n"
      ],
      "text/plain": [
       "[1] \"BRCA.LumB\"   \"BRCA.LumA\"   \"BRCA.Basal\"  \"BRCA.Normal\" \"unknown\"    \n",
       "[6] \"BRCA.Her2\"  "
      ]
     },
     "metadata": {},
     "output_type": "display_data"
    }
   ],
   "source": [
    "rownames(allTraits)=allTraits$file_name\n",
    "unique(allTraits[rownames(datTraits),'Subtype_Selected'])"
   ]
  },
  {
   "cell_type": "code",
   "execution_count": 31,
   "metadata": {},
   "outputs": [
    {
     "name": "stderr",
     "output_type": "stream",
     "text": [
      "Warning message in par(fig = c(0, 1, 0, 1), oma = c(0, 0, 0, 0), mar = c(0, 0, 0, :\n",
      "“calling par(new=TRUE) with no plot”\n"
     ]
    },
    {
     "data": {
      "text/html": [
       "<strong>png:</strong> 2"
      ],
      "text/latex": [
       "\\textbf{png:} 2"
      ],
      "text/markdown": [
       "**png:** 2"
      ],
      "text/plain": [
       "png \n",
       "  2 "
      ]
     },
     "metadata": {},
     "output_type": "display_data"
    }
   ],
   "source": [
    "svg(\"tests/low_filters/nethier_legend.svg\", width=10)\n",
    "add_legend(\"topleft\", legend = unique(allTraits[rownames(datTraits),'Subtype_Selected']), pch = 1, pt.cex = 1, cex = 1.5, bty = 'n', ncol=2,\n",
    "       inset = c(0.1, 0.), # place outside\n",
    "       title = \"SMTS\", \n",
    "       col = traitColors)\n",
    "dev.off()"
   ]
  },
  {
   "cell_type": "code",
   "execution_count": 32,
   "metadata": {},
   "outputs": [],
   "source": [
    "collectGarbage()"
   ]
  },
  {
   "cell_type": "code",
   "execution_count": 33,
   "metadata": {},
   "outputs": [
    {
     "data": {
      "text/plain": [
       "clust\n",
       "   1 \n",
       "1222 "
      ]
     },
     "metadata": {},
     "output_type": "display_data"
    }
   ],
   "source": [
    "clust = cutreeStatic(sampleTree3, cutHeight = 0.9, minSize = 10)\n",
    "table(clust)"
   ]
  },
  {
   "cell_type": "code",
   "execution_count": 34,
   "metadata": {},
   "outputs": [
    {
     "data": {
      "text/html": [
       "<strong>png:</strong> 2"
      ],
      "text/latex": [
       "\\textbf{png:} 2"
      ],
      "text/markdown": [
       "**png:** 2"
      ],
      "text/plain": [
       "png \n",
       "  2 "
      ]
     },
     "metadata": {},
     "output_type": "display_data"
    }
   ],
   "source": [
    "# Re-cluster samples after cut\n",
    "sampleTree4 = hclust(dist(MEs0[(clust==1),]), method = \"average\")\n",
    "# Convert traits to a color representation: white means low, red means high, grey means missing entry\n",
    "traitColors = labels2colors(datTraits[(clust==1),]);\n",
    "# Plot the sample dendrogram and the colors underneath.\n",
    "pdf(\"tests/low_filters/nethiercut.pdf\")\n",
    "plotDendroAndColors(sampleTree4, traitColors,\n",
    "groupLabels = labels,\n",
    "main = \"Network dendrogram and trait heatmap\",\n",
    "dendroLabels=FALSE)\n",
    "dev.off()"
   ]
  },
  {
   "cell_type": "code",
   "execution_count": null,
   "metadata": {},
   "outputs": [],
   "source": [
    "# Calculate topological overlap anew: this could be done more efficiently by saving the TOM\n",
    "# calculated during module detection, but let us do it again here.\n",
    "dissTOM = 1-TOMsimilarityFromExpr(datExpr, power = 6);\n",
    "# Transform dissTOM with a power to make moderately strong connections more visible in the heatmap\n",
    "plotTOM = dissTOM^7;\n",
    "# Set diagonal to NA for a nicer plot\n",
    "diag(plotTOM) = NA;\n",
    "# Call the plot function\n",
    "sizeGrWindow(9,9)\n",
    "svg(\"networkmap.svg\")\n",
    "TOMplot(plotTOM, geneTree, moduleColors, main = \"Network heatmap plot, all genes\")\n",
    "dev.off()"
   ]
  },
  {
   "cell_type": "code",
   "execution_count": null,
   "metadata": {},
   "outputs": [],
   "source": [
    "#selct genes to be faster\n",
    "nSelect = nGenes*0.7\n",
    "# For reproducibility, we set the random seed\n",
    "set.seed(10);\n",
    "select = sample(nGenes, size = nSelect);\n",
    "selectTOM = dissTOM[select, select];\n",
    "# There’s no simple way of restricting a clustering tree to a subset of genes, so we must re-cluster.\n",
    "selectTree = hclust(as.dist(selectTOM), method = \"average\")\n",
    "selectColors = moduleColors[select];\n",
    "# Open a graphical window\n",
    "sizeGrWindow(9,9)\n",
    "svg(\"networkmap.svg\")\n",
    "# Taking the dissimilarity to a power, say 10, makes the plot more informative by effectively changing\n",
    "# the color palette; setting the diagonal to NA also improves the clarity of the plot\n",
    "plotDiss = selectTOM^7;\n",
    "diag(plotDiss) = NA;\n",
    "TOMplot(plotDiss, selectTree, selectColors, main = \"Network heatmap plot, selected genes\")\n",
    "dev.off()"
   ]
  },
  {
   "cell_type": "code",
   "execution_count": null,
   "metadata": {},
   "outputs": [],
   "source": [
    "# Recalculate module eigengenes\n",
    "MEs = moduleEigengenes(datExpr, moduleColors)$eigengenes\n",
    "# Isolate weight from the clinical traits\n",
    "weight = as.data.frame(datTraits$SMTS);\n",
    "names(weight) = \"SMTS\"\n",
    "# Add the weight to existing module eigengenes\n",
    "MET = orderMEs(cbind(MEs, weight))\n",
    "# Plot the relationships among the eigengenes and the trait\n",
    "sizeGrWindow(5,7.5);\n",
    "svg(\"eigenHeat.svg\")\n",
    "par(cex = 0.9)\n",
    "plotEigengeneNetworks(MET, \"\", marDendro = c(0,4,1,2), marHeatmap = c(3,4,1,2), cex.lab = 0.8, xLabelsAngle = 90)\n",
    "dev.off()"
   ]
  },
  {
   "cell_type": "code",
   "execution_count": null,
   "metadata": {},
   "outputs": [],
   "source": [
    "# Plot the dendrogram\n",
    "sizeGrWindow(6,6);\n",
    "svg(\"eigendendogram.svg\")\n",
    "par(cex = 1.0)\n",
    "plotEigengeneNetworks(MET, \"Eigengene dendrogram\", marDendro = c(0,4,2,0),\n",
    "plotHeatmaps = FALSE)\n",
    "# Plot the heatmap matrix (note: this plot will overwrite the dendrogram plot)\n",
    "par(cex = 1.0)\n",
    "plotEigengeneNetworks(MET, \"Eigengene adjacency heatmap\", marHeatmap = c(3,4,2,2),\n",
    "plotDendrograms = FALSE, xLabelsAngle = 90)\n",
    "dev.off()"
   ]
  },
  {
   "cell_type": "markdown",
   "metadata": {},
   "source": [
    "Values of *k* must be read from *clustersizes.txt file*"
   ]
  },
  {
   "cell_type": "code",
   "execution_count": 35,
   "metadata": {},
   "outputs": [],
   "source": [
    "write.csv(cutree(sampleTree4, k=8), \"tests/low_filters/wgcna/wgcna_level_3_labels.csv\")\n",
    "write.csv(cutree(sampleTree4, k=29), \"tests/low_filters/wgcna/wgcna_level_2_labels.csv\")\n",
    "write.csv(cutree(sampleTree4, k=149), \"tests/low_filters/wgcna/wgcna_level_1_labels.csv\")\n",
    "write.csv(cutree(sampleTree4, k=1204), \"tests/low_filters/wgcna/wgcna_level_0_labels.csv\")"
   ]
  },
  {
   "cell_type": "code",
   "execution_count": 36,
   "metadata": {},
   "outputs": [],
   "source": [
    "write.csv(geneModuleMembership, \"tests/low_filters/wgcna/wgcna_level_0_word-dist.csv\")"
   ]
  },
  {
   "cell_type": "code",
   "execution_count": 37,
   "metadata": {},
   "outputs": [],
   "source": [
    "write.csv(MEs, \"tests/low_filters/wgcna/wgcna_level_0_topic-dist.csv\")"
   ]
  },
  {
   "cell_type": "code",
   "execution_count": null,
   "metadata": {},
   "outputs": [],
   "source": []
  }
 ],
 "metadata": {
  "kernelspec": {
   "display_name": "R",
   "language": "R",
   "name": "ir"
  },
  "language_info": {
   "codemirror_mode": "r",
   "file_extension": ".r",
   "mimetype": "text/x-r-source",
   "name": "R",
   "pygments_lexer": "r",
   "version": "4.0.3"
  }
 },
 "nbformat": 4,
 "nbformat_minor": 4
}
