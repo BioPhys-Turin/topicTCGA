{
 "cells": [
  {
   "cell_type": "markdown",
   "metadata": {},
   "source": [
    "# Lung analysis"
   ]
  },
  {
   "cell_type": "code",
   "execution_count": 2,
   "metadata": {},
   "outputs": [
    {
     "name": "stdout",
     "output_type": "stream",
     "text": [
      "Filippo_Valle \n",
      "last updated: Mon Aug 10 2020 \n",
      "\n",
      "CPython 3.8.5\n",
      "IPython 7.17.0\n",
      "\n",
      "pandas 1.1.0\n",
      "numpy 1.19.1\n",
      "matplotlib 3.2.2\n",
      "seaborn 0.10.1\n",
      "hsbmpy not installed\n",
      "topicpy 1.1.3\n",
      "\n",
      "compiler   : GCC 7.5.0\n",
      "system     : Linux\n",
      "release    : 4.19.76-linuxkit\n",
      "machine    : x86_64\n",
      "processor  : x86_64\n",
      "CPU cores  : 2\n",
      "interpreter: 64bit\n",
      "Git hash   : 9bb9e1f7b267a76e9e5b242d75e1271fde012ffc\n",
      "Git repo   : git@github.com:fvalle1/cancers\n",
      "Git branch : develop\n",
      "watermark 2.0.2\n"
     ]
    }
   ],
   "source": [
    "%load_ext watermark\n",
    "%watermark -v -m  -u -n -p pandas,numpy,matplotlib,seaborn,hsbmpy,topicpy -a Filippo_Valle -g -r -b -w"
   ]
  },
  {
   "cell_type": "code",
   "execution_count": 3,
   "metadata": {},
   "outputs": [],
   "source": [
    "# import libraries\n",
    "import pandas as pd\n",
    "import numpy as np\n",
    "import sys, gc, os"
   ]
  },
  {
   "cell_type": "markdown",
   "metadata": {},
   "source": [
    "We download *Discordant_Lusc* as described by [Papaleo et al.](https://bmccancer.biomedcentral.com/articles/10.1186/s12885-019-5965-x)"
   ]
  },
  {
   "cell_type": "code",
   "execution_count": 3,
   "metadata": {},
   "outputs": [
    {
     "data": {
      "text/html": [
       "<div>\n",
       "<style scoped>\n",
       "    .dataframe tbody tr th:only-of-type {\n",
       "        vertical-align: middle;\n",
       "    }\n",
       "\n",
       "    .dataframe tbody tr th {\n",
       "        vertical-align: top;\n",
       "    }\n",
       "\n",
       "    .dataframe thead th {\n",
       "        text-align: right;\n",
       "    }\n",
       "</style>\n",
       "<table border=\"1\" class=\"dataframe\">\n",
       "  <thead>\n",
       "    <tr style=\"text-align: right;\">\n",
       "      <th></th>\n",
       "      <th>cancer.type</th>\n",
       "      <th>Subtype_mRNA</th>\n",
       "      <th>Subtype_DNAmeth</th>\n",
       "      <th>Subtype_protein</th>\n",
       "      <th>Subtype_miRNA</th>\n",
       "      <th>Subtype_CNA</th>\n",
       "      <th>Subtype_Integrative</th>\n",
       "      <th>Subtype_other</th>\n",
       "      <th>Subtype_Selected</th>\n",
       "    </tr>\n",
       "    <tr>\n",
       "      <th>pan.samplesID</th>\n",
       "      <th></th>\n",
       "      <th></th>\n",
       "      <th></th>\n",
       "      <th></th>\n",
       "      <th></th>\n",
       "      <th></th>\n",
       "      <th></th>\n",
       "      <th></th>\n",
       "      <th></th>\n",
       "    </tr>\n",
       "  </thead>\n",
       "  <tbody>\n",
       "    <tr>\n",
       "      <th>TCGA-05-4249</th>\n",
       "      <td>LUAD</td>\n",
       "      <td>NaN</td>\n",
       "      <td>NaN</td>\n",
       "      <td>NaN</td>\n",
       "      <td>NaN</td>\n",
       "      <td>NaN</td>\n",
       "      <td>5</td>\n",
       "      <td>NaN</td>\n",
       "      <td>LUAD.5</td>\n",
       "    </tr>\n",
       "    <tr>\n",
       "      <th>TCGA-05-4382</th>\n",
       "      <td>LUAD</td>\n",
       "      <td>NaN</td>\n",
       "      <td>NaN</td>\n",
       "      <td>NaN</td>\n",
       "      <td>NaN</td>\n",
       "      <td>NaN</td>\n",
       "      <td>6</td>\n",
       "      <td>NaN</td>\n",
       "      <td>LUAD.6</td>\n",
       "    </tr>\n",
       "  </tbody>\n",
       "</table>\n",
       "</div>"
      ],
      "text/plain": [
       "              cancer.type Subtype_mRNA Subtype_DNAmeth  Subtype_protein  \\\n",
       "pan.samplesID                                                             \n",
       "TCGA-05-4249         LUAD          NaN             NaN              NaN   \n",
       "TCGA-05-4382         LUAD          NaN             NaN              NaN   \n",
       "\n",
       "              Subtype_miRNA Subtype_CNA Subtype_Integrative Subtype_other  \\\n",
       "pan.samplesID                                                               \n",
       "TCGA-05-4249            NaN         NaN                   5           NaN   \n",
       "TCGA-05-4382            NaN         NaN                   6           NaN   \n",
       "\n",
       "              Subtype_Selected  \n",
       "pan.samplesID                   \n",
       "TCGA-05-4249            LUAD.5  \n",
       "TCGA-05-4382            LUAD.6  "
      ]
     },
     "execution_count": 3,
     "metadata": {},
     "output_type": "execute_result"
    }
   ],
   "source": [
    "df_discordant = pd.read_csv(\"https://raw.githubusercontent.com/ELELAB/LUAD_LUSC_TCGA_comparison/master/6-recount/LUSC/discordant_samples.txt\", header=None)\n",
    "df_tcgabiolinks = pd.read_csv(\"../TCGA_biolinks.csv\", index_col=0).dropna(how=\"all\", axis=1)\n",
    "df_tcgabiolinks = df_tcgabiolinks[df_tcgabiolinks[\"cancer.type\"].isin([\"LUAD\",\"LUSC\"])].set_index(\"pan.samplesID\")\n",
    "df_tcgabiolinks.head(2)"
   ]
  },
  {
   "cell_type": "markdown",
   "metadata": {},
   "source": [
    "We read a file *files_tcga.dat* obtained trough **gdc** API"
   ]
  },
  {
   "cell_type": "code",
   "execution_count": 4,
   "metadata": {},
   "outputs": [],
   "source": [
    "df_files=pd.read_csv(\"files_tcga.dat\", index_col=0)\n",
    "df_files=df_files.drop_duplicates(\"cases.0.submitter_id\")\n",
    "df_files.sort_values('cases.0.submitter_id', inplace=True)\n",
    "\n",
    "df_files=df_files[df_files['cases.0.submitter_id'].isin(df_tcgabiolinks.index)]"
   ]
  },
  {
   "cell_type": "markdown",
   "metadata": {},
   "source": [
    "We append and merge the file from TCGA (gdc API) and the one from TCGA-Biolinks ([subtypes](https://bioconductor.org/packages/release/bioc/vignettes/TCGAbiolinks/inst/doc/subtypes.html))"
   ]
  },
  {
   "cell_type": "code",
   "execution_count": 5,
   "metadata": {},
   "outputs": [],
   "source": [
    "df_files = df_files.reset_index().set_index('cases.0.submitter_id')\n",
    "df_files = df_files.transpose().append(df_tcgabiolinks.reindex(index=df_files.index).transpose()).transpose()"
   ]
  },
  {
   "cell_type": "markdown",
   "metadata": {},
   "source": [
    "We annotate Discordant_LUSC samples in the original dataset"
   ]
  },
  {
   "cell_type": "code",
   "execution_count": 6,
   "metadata": {},
   "outputs": [],
   "source": [
    "for (sample,case) in zip(df_files.index,df_files[\"cases.0.samples.0.portions.0.analytes.0.aliquots.0.submitter_id\"]):\n",
    "    if case in df_discordant.values.ravel():\n",
    "        df_files.at[sample,\"cancer.type\"]=\"Discordant_LUSC\""
   ]
  },
  {
   "cell_type": "code",
   "execution_count": 7,
   "metadata": {},
   "outputs": [],
   "source": [
    "#df_files.dropna(how=\"any\", axis=1, thresh=len(df_files.index)/25, inplace=True)\n",
    "df_files.reset_index().set_index(\"file_name\").fillna(\"unknown\").to_csv(\"files.dat\", index=True)"
   ]
  },
  {
   "cell_type": "markdown",
   "metadata": {},
   "source": [
    "## Table of RNA-Seq data\n",
    "We got and prepare the data using [Table_Creation.ipynb](Table_Creation.ipynb) and [TCGA_GetManifest.ipynb](TCGA_GetManifest.ipynb)\n",
    "\n",
    "*mainfest.txt* files are available in this repository"
   ]
  },
  {
   "cell_type": "code",
   "execution_count": 8,
   "metadata": {},
   "outputs": [],
   "source": [
    "df_files=df_files.fillna(\"unknown\").set_index(\"file_name\")\n",
    "df_files.to_csv(\"files.dat\", index=True, header=True)"
   ]
  },
  {
   "cell_type": "code",
   "execution_count": 10,
   "metadata": {},
   "outputs": [],
   "source": [
    "df = pd.read_csv(\"mainTable_all.csv\",index_col=0)"
   ]
  },
  {
   "cell_type": "markdown",
   "metadata": {},
   "source": [
    "We ensure that all columns have a metadata antry in *df_files*"
   ]
  },
  {
   "cell_type": "code",
   "execution_count": 11,
   "metadata": {},
   "outputs": [],
   "source": [
    "df = df.reindex(columns=df.columns[df.columns.isin(df_files.index)])\n",
    "df.to_csv(\"mainTable.csv\", index=True, header=True)\n",
    "df_files.fillna(\"unknown\").to_csv(\"files.dat\", index=True)"
   ]
  },
  {
   "cell_type": "markdown",
   "metadata": {},
   "source": [
    "We import *scanpy* to select **highly variable genes**"
   ]
  },
  {
   "cell_type": "code",
   "execution_count": 12,
   "metadata": {},
   "outputs": [],
   "source": [
    "import scanpy as sc"
   ]
  },
  {
   "cell_type": "code",
   "execution_count": 13,
   "metadata": {},
   "outputs": [
    {
     "data": {
      "image/png": "[encoded data removed]",
      "text/plain": [
       "<Figure size 864x288 with 2 Axes>"
      ]
     },
     "metadata": {
      "needs_background": "light"
     },
     "output_type": "display_data"
    }
   ],
   "source": [
    "adata = sc.AnnData(X=df.transpose(), obs=df_files.reindex(index=df.columns))\n",
    "sc.pp.log1p(adata)\n",
    "sc.pp.highly_variable_genes(adata, n_top_genes=3000)\n",
    "sc.pl.highly_variable_genes(adata)\n",
    "hvg = adata.var[adata.var[\"highly_variable\"]==True].index"
   ]
  },
  {
   "cell_type": "code",
   "execution_count": 14,
   "metadata": {},
   "outputs": [],
   "source": [
    "# save the table with HVG\n",
    "df.reindex(index=hvg).to_csv(\"mainTable.csv\", index=True, header=True)"
   ]
  },
  {
   "cell_type": "markdown",
   "metadata": {},
   "source": [
    "### We can finally run hierarchical Stochastic Block Model\n",
    "We run [stochastic block model](https://github.com/martingerlach/hSBM_Topicmodel/tree/develop).\n",
    "\n",
    "Clone the repository with the code and add it to the system path\n",
    "\n",
    "```bash\n",
    "git clone --branch develop https://github.com/martingerlach/hSBM_Topicmodel/\n",
    "```\n",
    "\n",
    "Note: [graph-tool](https://graph-tool.skewed.de/) should be installed and correctly configured"
   ]
  },
  {
   "cell_type": "code",
   "execution_count": 11,
   "metadata": {},
   "outputs": [
    {
     "name": "stdout",
     "output_type": "stream",
     "text": [
      "Cloning into 'hSBM_Topicmodel'...\n",
      "remote: Enumerating objects: 12, done.\u001b[K\n",
      "remote: Counting objects: 100% (12/12), done.\u001b[K\n",
      "remote: Compressing objects: 100% (12/12), done.\u001b[K\n",
      "remote: Total 260 (delta 4), reused 5 (delta 0), pack-reused 248\u001b[K\n",
      "Receiving objects: 100% (260/260), 3.61 MiB | 3.04 MiB/s, done.\n",
      "Resolving deltas: 100% (60/60), done.\n"
     ]
    }
   ],
   "source": [
    "!git clone --branch develop https://github.com/martingerlach/hSBM_Topicmodel/\n",
    "sys.path.append(\"hSBM_Topicmodel\")"
   ]
  },
  {
   "cell_type": "code",
   "execution_count": null,
   "metadata": {},
   "outputs": [],
   "source": [
    "from sbmtm import sbmtm"
   ]
  },
  {
   "cell_type": "code",
   "execution_count": null,
   "metadata": {},
   "outputs": [],
   "source": [
    "hsbm = sbmtm()"
   ]
  },
  {
   "cell_type": "code",
   "execution_count": null,
   "metadata": {},
   "outputs": [],
   "source": [
    "hsbm.make_graph_from_BoW_df(df.reindex(index=hvg))"
   ]
  },
  {
   "cell_type": "code",
   "execution_count": null,
   "metadata": {},
   "outputs": [],
   "source": [
    "hsbm.save_graph(\"graph_hv.xml.gz\")"
   ]
  },
  {
   "cell_type": "code",
   "execution_count": null,
   "metadata": {},
   "outputs": [],
   "source": [
    "del hsbm\n",
    "gc.collect()"
   ]
  },
  {
   "cell_type": "markdown",
   "metadata": {},
   "source": [
    "# Stages\n",
    "\n",
    "We perform afterwards *Survival analysis*"
   ]
  },
  {
   "cell_type": "code",
   "execution_count": null,
   "metadata": {},
   "outputs": [],
   "source": [
    "#This notebook is intended to be run on a docker container which images derives from jupyter/datascience-notebook\n",
    "sys.path.append(os.getcwd()+\"/../\")\n",
    "\n",
    "#some helpful functions\n",
    "from topicpy.hsbmpy import get_file, get_next_color\n",
    "import matplotlib.pyplot as plt\n",
    "import seaborn as sns\n",
    "import os"
   ]
  },
  {
   "cell_type": "markdown",
   "metadata": {},
   "source": [
    "We run these analyses on unified dataset, if want to run only on TCGA change the following cell"
   ]
  },
  {
   "cell_type": "code",
   "execution_count": null,
   "metadata": {},
   "outputs": [],
   "source": [
    "#os.chdir(\"../lung\")\n",
    "os.chdir(\"../unified_lung\")"
   ]
  },
  {
   "cell_type": "code",
   "execution_count": null,
   "metadata": {},
   "outputs": [],
   "source": [
    "l=1\n",
    "algorithm = \"topsbm\"\n",
    "df_topics = pd.read_csv(\"%s/%s_level_%d_topic-dist.csv\"%(algorithm,algorithm,l))\n",
    "df_files = pd.read_csv(\"files.dat\", index_col=0).dropna(how='all', axis=0)\n",
    "df_topics.set_index('doc', inplace=True)\n",
    "df_topics.insert(0,'stage','')\n",
    "df_topics.insert(0,'type','')\n",
    "df_topics.drop('i_doc', axis=1, inplace=True)\n",
    "#labels = [\"cases.0.diagnoses.0.tumor_stage\",\"cancer.type\"]\n",
    "labels=[\"cases.0.diagnoses.0.tumor_stage\",\"Type\"]\n",
    "label = labels[0]\n",
    "if label not in df_files.columns:\n",
    "    raise AttributeError(f\"{label} not valid. Available: {df_files.columns}\")\n",
    "for letter in [\"a\", \"b\"]:\n",
    "    for (old, new) in zip([\"stage %s%s\"%(i,letter) for i in [\"i\", \"ii\", \"iii\", \"iv\"]],[\"stage %s\"%i for i in [\"i\", \"ii\", \"iii\", \"iv\"]]):\n",
    "        df_files.replace(old, new, inplace=True)\n",
    "for sample in df_topics.index.values:\n",
    "    df_topics.at[sample,'stage']=(\"%s\"%(get_file(sample,df_files)[labels[0]]))\n",
    "    df_topics.at[sample,'type']=(\"%s\"%(get_file(sample,df_files)[labels[1]]))"
   ]
  },
  {
   "cell_type": "code",
   "execution_count": null,
   "metadata": {},
   "outputs": [],
   "source": [
    "mask = df_topics[\"stage\"]!=\"not reported\"\n",
    "mask = (mask) & (df_topics[\"type\"].isin([\"LUAD\", \"LUSC\"]))\n",
    "mask = (mask) & (df_topics[\"stage\"]!=\"nan\")\n",
    "#mask = np.ones(df_topics.shape[0],dtype=int)==1\n",
    "df_topic_stage_gb = df_topics[mask].groupby([\"type\", \"stage\"])"
   ]
  },
  {
   "cell_type": "code",
   "execution_count": null,
   "metadata": {},
   "outputs": [],
   "source": [
    "color_generator = get_next_color()\n",
    "df_topic_stage = df_topics[mask]\n",
    "\n",
    "for topic in df_topic_stage.columns[:4]:\n",
    "    fig, axs = plt.subplots(1,2,figsize=(30,15))\n",
    "    color = next(color_generator)\n",
    "    for ((i,dataset), ax) in zip(enumerate(np.unique([idx for idx in df_topic_stage[\"type\"] if (\"Discordant\" not in idx) and (\"healthy\") not in idx])), axs):\n",
    "        \n",
    "        df_topic_stage_dat = df_topic_stage[df_topic_stage[\"type\"]==dataset].drop(\"type\", axis=1)\n",
    "        df_topic_stage_dat = df_topic_stage_dat.sort_values([\"stage\"])\n",
    "        \n",
    "        mask_stages = {}\n",
    "        stages = df_topic_stage_dat[\"stage\"].unique()\n",
    "        for stage in stages:\n",
    "            mask_stages[stage]= df_topic_stage_dat[\"stage\"]==stage\n",
    "        df_topic_stage_dat.drop(\"stage\", axis=1, inplace=True)\n",
    "            \n",
    "        df_topic_stage_dat=df_topic_stage_dat.subtract(df_topic_stage_dat.mean(),1)\n",
    "        data=np.array([df_topic_stage_dat[mask_stages[stage]].values for stage in stages])\n",
    "        ax.boxplot(data, sym=\"o\", flierprops={\"c\":\"gray\", \"ms\":20, \"lw\":5}, boxprops = {\"lw\":10}, whiskerprops={\"lw\":2}, capprops={\"lw\":5}, medianprops={\"c\":\"red\", \"lw\":10})\n",
    "        \n",
    "        labs = np.sort(df_topics[mask][\"stage\"].unique())\n",
    "        ax.set_xticklabels(labels=labs, rotation=45)\n",
    "        ax.set_xticks(np.linspace(1,len(labs)+1,len(labs)+1))\n",
    "        ax.tick_params(labelsize=35)\n",
    "        ax.set_title(dataset, fontsize=35)\n",
    "        ax.set_xlabel(\"\")\n",
    "        \n",
    "    axs[1].legend(fontsize=24, ncol=3)\n",
    "    axs[0].set_ylabel(\"$<P(topic|stage)>$\", fontsize=35)\n",
    "    fig.savefig(f\"topic_luad_lusc_{topic}.pdf\")\n",
    "\n",
    "    plt.show()"
   ]
  },
  {
   "cell_type": "code",
   "execution_count": null,
   "metadata": {},
   "outputs": [],
   "source": [
    "color_generator = get_next_color()\n",
    "df_topic_stage = df_topic_stage_gb.mean()\n",
    "\n",
    "for topic in df_topic_stage.columns:\n",
    "    fig, axs = plt.subplots(1,2,figsize=(30,15))\n",
    "    color = next(color_generator)\n",
    "    for ((i,dataset), ax) in zip(enumerate(np.unique([idx[0] for idx in df_topic_stage.index if (\"Discordant\" not in idx[0]) and (\"healthy\") not in idx[0]])), axs):\n",
    "        idxs = int(round(df_topic_stage.index.shape[0]/2))\n",
    "        idx = df_topic_stage.index[i*idxs:(i+1)*idxs]\n",
    "        \n",
    "        df_topic_stage_dat = df_topic_stage.reindex(index=idx, columns = [topic])\n",
    "        mean = df_topic_stage_dat.mean(0).values[0]\n",
    "        df_topic_stage_dat=df_topic_stage_dat.subtract(mean,1)\n",
    "        #sigma = df_topic_stage_dat.std(0).values[0]\n",
    "        #df_topic_stage_dat=df_topic_stage_dat.divide(sigma,1)\n",
    "        df_topic_stage_dat.plot(ax=ax, marker=\"o\",ms=55, lw=20, c=color, legend=False)\n",
    "        \n",
    "        x = ax.lines[0].get_xdata()\n",
    "        y = ax.lines[0].get_ydata()\n",
    "        err = (df_topic_stage_dat.std(0)).values.ravel()\n",
    "        ax.fill_between(ax.lines[0].get_xdata(), y-err, y+err, color=\"gray\", alpha=0.8)\n",
    "        \n",
    "        \n",
    "        labs = np.sort(df_topics[mask][\"stage\"].unique())\n",
    "        ax.set_xticklabels(labels=labs, rotation=45)\n",
    "        ax.set_xticks(np.linspace(0,len(labs),len(labs)+1))\n",
    "        ax.tick_params(labelsize=35)\n",
    "        ax.set_title(dataset, fontsize=35)\n",
    "        ax.set_xlabel(\"\")\n",
    "        \n",
    "    axs[1].legend(fontsize=35, ncol=3)\n",
    "    axs[0].set_ylabel(\"$<P(topic|stage)>$\", fontsize=35)\n",
    "    fig.savefig(f\"topic_luad_lusc_{topic}.pdf\")\n",
    "\n",
    "    plt.show()"
   ]
  },
  {
   "cell_type": "code",
   "execution_count": null,
   "metadata": {},
   "outputs": [],
   "source": [
    "topic = \"Topic 3\"\n",
    "df_single_topic = pd.read_csv(\"%s/%s_level_%d_word-dist.csv\"%(algorithm,algorithm,l), index_col=0).sort_values([topic], ascending=False)[topic].dropna()\n",
    "for g in df_single_topic[df_single_topic>df_single_topic[df_single_topic>0].quantile(0.75)].index:\n",
    "    print(g,df_single_topic.at[g])"
   ]
  },
  {
   "cell_type": "code",
   "execution_count": null,
   "metadata": {},
   "outputs": [],
   "source": [
    "df_single_topic[df_single_topic>df_single_topic[df_single_topic>0].quantile(0.75)].to_csv(\"topic_3_lung.csv\")"
   ]
  },
  {
   "cell_type": "code",
   "execution_count": null,
   "metadata": {},
   "outputs": [],
   "source": [
    "import requests\n",
    "with requests.get(\"https://david.ncifcrf.gov/data/download/conv_4D3189EEAD7F1588155942290.txt\") as req:\n",
    "    papaleo = [row.split(\"\\t\") for row in req.text.split(\"\\n\")]"
   ]
  },
  {
   "cell_type": "code",
   "execution_count": null,
   "metadata": {},
   "outputs": [],
   "source": [
    "papaleo_ensg=list(zip(*papaleo[:-1]))[1][1:]"
   ]
  },
  {
   "cell_type": "code",
   "execution_count": null,
   "metadata": {},
   "outputs": [],
   "source": [
    "np.array([g in papaleo_ensg for g in df_topics.values.ravel()]).any()"
   ]
  },
  {
   "cell_type": "code",
   "execution_count": null,
   "metadata": {},
   "outputs": [],
   "source": [
    "rs = np.random.RandomState(42)\n",
    "\n",
    "color_generator = get_next_color()\n",
    "df_topic_stage = df_topic_stage_gb.mean()\n",
    "\n",
    "df_topics_mc = df_topics.copy()\n",
    "\n",
    "topic=\"Topic 3\"\n",
    "fig, axs = plt.subplots(1,2,figsize=(30,15))\n",
    "color = next(color_generator)\n",
    "for ((i,dataset), ax) in zip(enumerate(np.unique([idx[0] for idx in df_topic_stage.index if (\"Discordant\" not in idx[0]) and (\"healthy\") not in idx[0]])), axs):\n",
    "    idxs = int(round(df_topic_stage.index.shape[0]/2))\n",
    "    idx = df_topic_stage.index[i*idxs:(i+1)*idxs]\n",
    "\n",
    "    df_topic_stage_dat = df_topic_stage.reindex(index=idx, columns = [topic])\n",
    "    mean = df_topic_stage_dat.mean(0).values[0]\n",
    "    df_topic_stage_dat=df_topic_stage_dat.subtract(mean,1)\n",
    "    #sigma = df_topic_stage_dat.std(0).values[0]\n",
    "    #df_topic_stage_dat=df_topic_stage_dat.divide(sigma,1)\n",
    "    df_topic_stage_dat.plot(ax=ax, marker=\"o\",ms=55, lw=20, c=color, legend=False)\n",
    "    from sklearn.utils import shuffle\n",
    "    \n",
    "    errors = []\n",
    "    for i in range(50):\n",
    "        df_topics_mc[\"stage\"] = shuffle(df_topics[\"stage\"].values, random_state=rs)\n",
    "        df_topics_mc_dat = df_topics_mc[mask].groupby([\"type\",\"stage\"]).mean().reindex(index=idx, columns = [topic])\n",
    "        df_topics_mc_dat = df_topics_mc_dat.subtract(df_topics_mc_dat.mean(0),1)\n",
    "        errors.append(df_topics_mc_dat.values)\n",
    "    \n",
    "    x = ax.lines[0].get_xdata()\n",
    "    y = ax.lines[0].get_ydata()\n",
    "    err = np.std(np.array(errors), axis=0).ravel()\n",
    "    ax.errorbar(ax.lines[0].get_xdata(), y, yerr=err, color=\"gray\", alpha=0.8, elinewidth=15)\n",
    "    \n",
    "    labs = np.sort(df_topics[mask][\"stage\"].unique())\n",
    "    ax.set_xticklabels(labels=labs, rotation=45)\n",
    "    ax.set_xticks(np.linspace(0,len(labs),len(labs)+1))\n",
    "    ax.tick_params(labelsize=35)\n",
    "    ax.set_title(dataset, fontsize=35)\n",
    "    ax.set_xlabel(\"\")\n",
    "\n",
    "axs[1].legend(fontsize=35, ncol=3)\n",
    "axs[0].set_ylabel(\"$<P(topic|stage)>$\", fontsize=35)\n",
    "\n",
    "plt.show()"
   ]
  },
  {
   "cell_type": "code",
   "execution_count": null,
   "metadata": {},
   "outputs": [],
   "source": [
    "rs = np.random.RandomState(42)\n",
    "\n",
    "color_generator = get_next_color()\n",
    "df_topic_stage = df_topic_stage_gb.mean()\n",
    "\n",
    "df_topics_mc = df_topics.copy()\n",
    "\n",
    "topic=\"Topic 3\"\n",
    "fig, axs = plt.subplots(1,2,figsize=(30,15))\n",
    "color = next(color_generator)\n",
    "for ((i,dataset), ax) in zip(enumerate(np.unique([idx[0] for idx in df_topic_stage.index if (\"Discordant\" not in idx[0]) and (\"healthy\") not in idx[0]])), axs):\n",
    "    idxs = int(round(df_topic_stage.index.shape[0]/2))\n",
    "    idx = df_topic_stage.index[i*idxs:(i+1)*idxs]\n",
    "\n",
    "    df_topic_stage_dat = df_topic_stage.reindex(index=idx, columns = [topic])\n",
    "    mean = df_topic_stage_dat.mean(0).values[0]\n",
    "    df_topic_stage_dat=df_topic_stage_dat.subtract(mean,1)\n",
    "    #sigma = df_topic_stage_dat.std(0).values[0]\n",
    "    #df_topic_stage_dat=df_topic_stage_dat.divide(sigma,1)\n",
    "    df_topic_stage_dat.plot(ax=ax, marker=\"o\",ms=55, lw=20, c=color, legend=False)\n",
    "    from sklearn.utils import shuffle\n",
    "    \n",
    "    def f(x,a,b):\n",
    "        return a+b*x\n",
    "    \n",
    "    popts = []\n",
    "    for i in range(4):\n",
    "        x = np.arange(0,4)\n",
    "        leave_out = x!=i\n",
    "        popt, pcov = curve_fit(f, x[leave_out],df_topic_stage_dat.values.ravel()[leave_out])\n",
    "        ax.plot(x, f(x, *popt), c=\"gray\")\n",
    "        popts.append(popt)\n",
    "        \n",
    "    ax.plot(x, f(x, *np.average(popts,0)), c=\"red\")\n",
    "        \n",
    "    labs = np.sort(df_topics[mask][\"stage\"].unique())\n",
    "    ax.set_xticklabels(labels=labs, rotation=45)\n",
    "    ax.set_xticks(np.linspace(0,len(labs),len(labs)+1))\n",
    "    ax.tick_params(labelsize=35)\n",
    "    ax.set_title(dataset, fontsize=35)\n",
    "    ax.set_xlabel(\"\")\n",
    "\n",
    "axs[1].legend(fontsize=35, ncol=3)\n",
    "axs[0].set_ylabel(\"$<P(topic|stage)>$\", fontsize=35)\n",
    "\n",
    "plt.show()"
   ]
  },
  {
   "cell_type": "markdown",
   "metadata": {},
   "source": [
    "# Overlap with Lucchetta et al."
   ]
  },
  {
   "cell_type": "code",
   "execution_count": 6,
   "metadata": {},
   "outputs": [],
   "source": [
    "import requests as req\n",
    "from topicpy.converter import convert_list_to_ensg\n",
    "papaleo_ensg = []\n",
    "l0 = 0\n",
    "for dataset in [\"LUAD\", \"LUSC\"]:\n",
    "    for updown in [\"up\", \"down\"]:\n",
    "        with req.get(f\"https://raw.githubusercontent.com/ELELAB/LUAD_LUSC_TCGA_comparison/master/4-final_gene_list_DEA_TCGA/final_gene_list/new_{updown}_all_{dataset}.txt\") as r:\n",
    "            l = convert_list_to_ensg(r.text.split(\"\\n\"))\n",
    "            l0 += len(l)\n",
    "            for g in l:\n",
    "                if (type(g)==str) and (\"ENSG\" in g):\n",
    "                    papaleo_ensg.append(g)\n",
    "papaleo_ensg=np.unique(np.array(papaleo_ensg).ravel())"
   ]
  },
  {
   "cell_type": "code",
   "execution_count": 7,
   "metadata": {},
   "outputs": [
    {
     "name": "stdout",
     "output_type": "stream",
     "text": [
      "we have in common with Luccetta et al. 633, assuming human has 20000 genes, they analyse 2953 genes in 4 sets up/down LUAD/LUSC, we filtered 3000 genes, the chances this happen are P=1.534603305139276e-24. The 21.44% of genes are in common\n"
     ]
    }
   ],
   "source": [
    "df_topics = pd.read_csv(\"topsbm/topsbm_level_0_word-dist.csv\", index_col=0)\n",
    "\n",
    "list_1 = papaleo_ensg\n",
    "list_2 = df_topics.index.values\n",
    "\n",
    "\n",
    "from scipy.stats import hypergeom\n",
    "x =  np.array([g in list_1 for g in list_2]).sum() # number of successes\n",
    "M = 20000 # pop size\n",
    "k = l0 # successes in pop\n",
    "N = len(list_2) # sample size\n",
    "pval = hypergeom.sf(x-1, M, k, N)\n",
    "print(f\"we have in common with Luccetta et al. {x}, assuming human has {M} genes, they analyse {k} genes in 4 sets up/down LUAD/LUSC, we filtered {N} genes, the chances this happen are P={pval}. The {round(x/k*100,2)}% of genes are in common\")"
   ]
  },
  {
   "cell_type": "code",
   "execution_count": null,
   "metadata": {},
   "outputs": [],
   "source": []
  }
 ],
 "metadata": {
  "kernelspec": {
   "display_name": "Python 3",
   "language": "python",
   "name": "python3"
  },
  "language_info": {
   "codemirror_mode": {
    "name": "ipython",
    "version": 3
   },
   "file_extension": ".py",
   "mimetype": "text/x-python",
   "name": "python",
   "nbconvert_exporter": "python",
   "pygments_lexer": "ipython3",
   "version": "3.8.5"
  },
  "widgets": {
   "application/vnd.jupyter.widget-state+json": {
    "state": {},
    "version_major": 2,
    "version_minor": 0
   }
  }
 },
 "nbformat": 4,
 "nbformat_minor": 4
}
