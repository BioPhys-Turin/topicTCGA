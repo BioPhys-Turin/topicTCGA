{
 "cells": [
  {
   "cell_type": "markdown",
   "metadata": {},
   "source": [
    "# Breast analysis"
   ]
  },
  {
   "cell_type": "code",
   "execution_count": 1,
   "metadata": {},
   "outputs": [
    {
     "name": "stdout",
     "output_type": "stream",
     "text": [
      "Filippo_Valle \n",
      "last updated: Wed Nov 11 2020 \n",
      "\n",
      "CPython 3.8.6\n",
      "IPython 7.19.0\n",
      "\n",
      "pandas 1.1.4\n",
      "numpy 1.19.4\n",
      "\n",
      "compiler   : GCC 7.5.0\n",
      "system     : Linux\n",
      "release    : 5.4.39-linuxkit\n",
      "machine    : x86_64\n",
      "processor  : x86_64\n",
      "CPU cores  : 2\n",
      "interpreter: 64bit\n",
      "Git hash   : fb57723c6276622c634991a8522d88ae164d9930\n",
      "Git repo   : git@github.com:fvalle1/cancers\n",
      "Git branch : develop_first_round\n",
      "watermark 2.0.2\n"
     ]
    }
   ],
   "source": [
    "%load_ext watermark\n",
    "%watermark -v -m  -u -n -p pandas,numpy -a Filippo_Valle -g -r -b -w"
   ]
  },
  {
   "cell_type": "code",
   "execution_count": 2,
   "metadata": {},
   "outputs": [],
   "source": [
    "# import libraries\n",
    "import pandas as pd\n",
    "import numpy as np\n",
    "import datetime as dt"
   ]
  },
  {
   "cell_type": "markdown",
   "metadata": {},
   "source": [
    "We read file with gdc annotations obtained with gdc API"
   ]
  },
  {
   "cell_type": "code",
   "execution_count": 3,
   "metadata": {},
   "outputs": [
    {
     "data": {
      "text/plain": [
       "Index(['Tumor.Type', 'Included_in_previous_marker_papers', 'vital_status',\n",
       "       'days_to_birth', 'days_to_death', 'days_to_last_followup',\n",
       "       'age_at_initial_pathologic_diagnosis', 'pathologic_stage',\n",
       "       'Tumor_Grade', 'BRCA_Pathology', 'BRCA_Subtype_PAM50', 'MSI_status',\n",
       "       'HPV_Status', 'tobacco_smoking_history', 'CNV Clusters',\n",
       "       'Mutation Clusters', 'DNA.Methylation Clusters', 'mRNA Clusters',\n",
       "       'miRNA Clusters', 'lncRNA Clusters', 'Protein Clusters',\n",
       "       'PARADIGM Clusters', 'Pan-Gyn Clusters', 'birth_year', 'death_year',\n",
       "       'age', 'age_binned', 'BRCA_Subtype_PAM50_Lum'],\n",
       "      dtype='object')"
      ]
     },
     "execution_count": 3,
     "metadata": {},
     "output_type": "execute_result"
    }
   ],
   "source": [
    "df_meta = pd.read_csv(\"TCGAbiolinks_BRCA.csv\", header=0, index_col=0, skiprows=0)\n",
    "df_meta.dropna(how=\"all\", axis=1)\n",
    "df_meta[\"birth_year\"] = [(dt.datetime.now()+dt.timedelta(days=d)) if d!=\"\" else np.nan for d in df_meta[\"days_to_birth\"].fillna(\"\")]\n",
    "df_meta[\"death_year\"] = [(dt.datetime.now()-dt.timedelta(days=d)) if d!=\"\" else np.nan for d in df_meta[\"days_to_death\"].fillna(\"\")]\n",
    "df_meta[\"age\"] = (df_meta[\"death_year\"] - df_meta[\"birth_year\"]).apply(lambda timestamp: timestamp/dt.timedelta(days=365))\n",
    "bins = np.linspace(df_meta[\"age\"].min(),df_meta[\"age\"].max(), 3)\n",
    "df_meta[\"age_binned\"] = pd.cut(df_meta[\"age\"], bins=bins, labels = bins[:-1], include_lowest=True)\n",
    "df_meta[\"BRCA_Subtype_PAM50_Lum\"]=df_meta[\"BRCA_Subtype_PAM50\"]\n",
    "df_meta[\"BRCA_Subtype_PAM50_Lum\"].replace(\"LumA\",\"Lum\", inplace=True)\n",
    "df_meta[\"BRCA_Subtype_PAM50_Lum\"].replace(\"LumB\",\"Lum\", inplace=True)\n",
    "df_meta.columns"
   ]
  },
  {
   "cell_type": "markdown",
   "metadata": {},
   "source": [
    "We read the file from TCGA-Biolinks"
   ]
  },
  {
   "cell_type": "code",
   "execution_count": 4,
   "metadata": {},
   "outputs": [],
   "source": [
    "df_tcgabiolinks = pd.read_csv(\"../TCGA_biolinks.csv\", index_col=0).dropna(how=\"all\", axis=1)\n",
    "df_tcgabiolinks = df_tcgabiolinks[df_tcgabiolinks[\"cancer.type\"]==\"BRCA\"].set_index(\"pan.samplesID\")\n",
    "df_tcgabiolinks[\"Subtype_Selected_Lum\"]=df_tcgabiolinks[\"Subtype_Selected\"]\n",
    "df_tcgabiolinks[\"Subtype_Selected_Lum\"].replace(\"BRCA.LumA\",\"BRCA.Lum\", inplace=True)\n",
    "df_tcgabiolinks[\"Subtype_Selected_Lum\"].replace(\"BRCA.LumB\",\"BRCA.Lum\", inplace=True)"
   ]
  },
  {
   "cell_type": "code",
   "execution_count": 5,
   "metadata": {},
   "outputs": [],
   "source": [
    "df_files=pd.read_csv(\"files_tcga.dat\", sep=\"\\t\",index_col=2)\n",
    "df_files = df_files.reset_index().set_index(\"cases.0.submitter_id\")\n",
    "df_files = df_files.transpose().append(df_meta.reindex(index=df_files.index).transpose()).transpose()\n",
    "df_files = df_files.reset_index().set_index(\"cases.0.samples.0.portions.0.analytes.0.aliquots.0.submitter_id\")\n",
    "df_files = df_files.transpose().append(df_tcgabiolinks.reindex(index=df_files.index).transpose()).transpose()\n",
    "df_files.fillna(\"unknown\").set_index(\"file_name\").to_csv(\"files.dat\", index=True, header=True)"
   ]
  },
  {
   "cell_type": "code",
   "execution_count": 7,
   "metadata": {},
   "outputs": [
    {
     "data": {
      "text/plain": [
       "BRCA_Subtype_PAM50  Subtype_Selected_Lum  Subtype_Selected\n",
       "Basal               BRCA.Basal            BRCA.Basal          188\n",
       "                    BRCA.Normal           BRCA.Normal          17\n",
       "Her2                BRCA.Her2             BRCA.Her2            82\n",
       "                    BRCA.Normal           BRCA.Normal           9\n",
       "LumA                BRCA.Lum              BRCA.LumA           570\n",
       "                    BRCA.Normal           BRCA.Normal          53\n",
       "LumB                BRCA.Lum              BRCA.LumA             1\n",
       "                                          BRCA.LumB           209\n",
       "                    BRCA.Normal           BRCA.Normal          21\n",
       "Normal              BRCA.Normal           BRCA.Normal          42\n",
       "Name: cases.0.submitter_id, dtype: int64"
      ]
     },
     "execution_count": 7,
     "metadata": {},
     "output_type": "execute_result"
    }
   ],
   "source": [
    "df_files.groupby([\"BRCA_Subtype_PAM50\",\"Subtype_Selected_Lum\", \"Subtype_Selected\"])[\"cases.0.submitter_id\"].count()"
   ]
  },
  {
   "cell_type": "code",
   "execution_count": 16,
   "metadata": {},
   "outputs": [
    {
     "data": {
      "text/plain": [
       "BRCA_Subtype_PAM50\n",
       "Basal     212\n",
       "Her2       91\n",
       "LumA      633\n",
       "LumB      231\n",
       "Normal     42\n",
       "Name: cases.0.submitter_id, dtype: int64"
      ]
     },
     "execution_count": 16,
     "metadata": {},
     "output_type": "execute_result"
    }
   ],
   "source": [
    "df_files.groupby([\"BRCA_Subtype_PAM50\"])[\"cases.0.submitter_id\"].count()"
   ]
  },
  {
   "cell_type": "code",
   "execution_count": 13,
   "metadata": {},
   "outputs": [
    {
     "data": {
      "text/plain": [
       "Subtype_Selected\n",
       "BRCA.Basal     188\n",
       "BRCA.Her2       82\n",
       "BRCA.LumA      576\n",
       "BRCA.LumB      217\n",
       "BRCA.Normal    142\n",
       "Name: cases.0.submitter_id, dtype: int64"
      ]
     },
     "execution_count": 13,
     "metadata": {},
     "output_type": "execute_result"
    }
   ],
   "source": [
    "df_files.groupby([\"Subtype_Selected\"])[\"cases.0.submitter_id\"].count()"
   ]
  },
  {
   "cell_type": "code",
   "execution_count": 25,
   "metadata": {},
   "outputs": [
    {
     "name": "stdout",
     "output_type": "stream",
     "text": [
      "Basal & 212 & 188 \\\\ \\hline\n",
      "Her2 & 91 & 82 \\\\ \\hline\n",
      "LumA & 633 & 576 \\\\ \\hline\n",
      "LumB & 231 & 217 \\\\ \\hline\n",
      "Normal & 42 & 142 \\\\ \\hline\n"
     ]
    }
   ],
   "source": [
    "for subtype, count_subtype, count_PAM in zip(df_files.groupby([\"BRCA_Subtype_PAM50\"])[\"cases.0.submitter_id\"].count().index,df_files.groupby([\"Subtype_Selected\"])[\"cases.0.submitter_id\"].count(),df_files.groupby([\"BRCA_Subtype_PAM50\"])[\"cases.0.submitter_id\"].count()):\n",
    "    print(f\"{subtype} & {count_PAM} & {count_subtype} \\\\\\\\ \\hline\")"
   ]
  },
  {
   "cell_type": "markdown",
   "metadata": {},
   "source": [
    "```latex\n",
    "\\begin{table}[]\n",
    "    \\centering\n",
    "    \\begin{tabular}{c|c|c}\n",
    "    \\hline\n",
    "        subtype & PAM50 & SubtypeSelected \\\\ \\hline\n",
    "        Basal & 212 & 188 \\\\ \\hline\n",
    "        Her2 & 91 & 82 \\\\ \\hline\n",
    "        LumA & 633 & 576 \\\\ \\hline\n",
    "        LumB & 231 & 217 \\\\ \\hline\n",
    "        Normal-like & 42 & 142 \\\\ \\hline\n",
    "    \\end{tabular}\n",
    "\\end{table}\n",
    "```"
   ]
  },
  {
   "cell_type": "markdown",
   "metadata": {},
   "source": [
    "We read the table with all RNA-Seq samples obtained throgh gdc API. Download of manifest file and preprocessing can be done with [Table_Creation.ipynb](Table_Creation.ipynb) and [TCGA_GetManifest.ipynb](TCGA_GetManifest.ipynb)"
   ]
  },
  {
   "cell_type": "code",
   "execution_count": 8,
   "metadata": {},
   "outputs": [
    {
     "name": "stdout",
     "output_type": "stream",
     "text": [
      "<class 'pandas.core.frame.DataFrame'>\n",
      "Index: 15659 entries, ENSG00000000419 to ENSG00000273489\n",
      "Columns: 1222 entries, e091bf28-5002-48ff-93df-3030c0942b3a.FPKM.txt.gz to a5dc521e-bee4-489c-8679-d4b90a327d33.FPKM.txt.gz\n",
      "dtypes: float64(1222)\n",
      "memory usage: 146.1+ MB\n"
     ]
    }
   ],
   "source": [
    "df=pd.read_csv(\"mainTable_all.csv\", index_col=0, header=0).applymap(lambda x: np.log2(x+1))\n",
    "df.info()"
   ]
  },
  {
   "cell_type": "markdown",
   "metadata": {},
   "source": [
    "We filter and sample ~1000 some genes that satisfied filters of *Dey et al.* [Visualizing the structure of RNA-seq expression data using grade of membership models](https://journals.plos.org/plosgenetics/article?id=10.1371/journal.pgen.1006599)"
   ]
  },
  {
   "cell_type": "code",
   "execution_count": 9,
   "metadata": {},
   "outputs": [],
   "source": [
    "dey = pd.read_csv(\"http://stephenslab.github.io/count-clustering/project/utilities/gene_names_all_gtex.txt\", header=None)"
   ]
  },
  {
   "cell_type": "code",
   "execution_count": 10,
   "metadata": {},
   "outputs": [],
   "source": [
    "filtered_genes = list(filter(lambda g: g in dey.values.ravel(), pd.read_csv(\"HDE_Breast.csv\")[\"0\"]))"
   ]
  },
  {
   "cell_type": "code",
   "execution_count": 11,
   "metadata": {},
   "outputs": [],
   "source": [
    "df=df.reindex(index=filtered_genes)"
   ]
  },
  {
   "cell_type": "code",
   "execution_count": 12,
   "metadata": {},
   "outputs": [],
   "source": [
    "full_files = [c for c in df_files['file_name'].values if c in df.columns]"
   ]
  },
  {
   "cell_type": "code",
   "execution_count": 13,
   "metadata": {},
   "outputs": [],
   "source": [
    "df[full_files].dropna().astype(int).to_csv(\"mainTable.csv\")"
   ]
  },
  {
   "cell_type": "code",
   "execution_count": 14,
   "metadata": {},
   "outputs": [],
   "source": [
    "df_files[df_files['file_name'].isin(full_files)].set_index('file_name').to_csv(\"files.dat\")"
   ]
  }
 ],
 "metadata": {
  "kernelspec": {
   "display_name": "Python 3",
   "language": "python",
   "name": "python3"
  },
  "language_info": {
   "codemirror_mode": {
    "name": "ipython",
    "version": 3
   },
   "file_extension": ".py",
   "mimetype": "text/x-python",
   "name": "python",
   "nbconvert_exporter": "python",
   "pygments_lexer": "ipython3",
   "version": "3.8.6"
  },
  "widgets": {
   "application/vnd.jupyter.widget-state+json": {
    "state": {},
    "version_major": 2,
    "version_minor": 0
   }
  }
 },
 "nbformat": 4,
 "nbformat_minor": 4
}
